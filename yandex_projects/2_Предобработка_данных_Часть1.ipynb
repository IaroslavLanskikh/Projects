{
 "cells": [
  {
   "cell_type": "markdown",
   "id": "c9d42c3a",
   "metadata": {
    "deletable": false,
    "editable": false,
    "id": "c81daeeb"
   },
   "source": [
    "# Исследование надежности заемщиков"
   ]
  },
  {
   "cell_type": "markdown",
   "id": "f3d6864d-9300-463b-88c4-97e117354389",
   "metadata": {},
   "source": [
    "# Описание проекта:\n",
    "Заказчик — кредитный отдел банка. Нужно разобраться, влияет ли семейное положение и количество детей клиента на факт погашения кредита в срок. Входные данные от банка — статистика о платёжеспособности клиентов.\n",
    "Результаты исследования будут учтены при построении модели кредитного скоринга — специальной системы, которая оценивает способность потенциального заёмщика вернуть кредит банку.\n",
    "Описание данных\n",
    "- children — количество детей в семье\n",
    "- days_employed — общий трудовой стаж в днях\n",
    "- dob_years — возраст клиента в годах\n",
    "- education — уровень образования клиента\n",
    "- education_id — идентификатор уровня образования\n",
    "- family_status — семейное положение\n",
    "- family_status_id — идентификатор семейного положения\n",
    "- gender — пол клиента\n",
    "- income_type — тип занятости\n",
    "- debt — имел ли задолженность по возврату кредитов\n",
    "- total_income — ежемесячный доход\n",
    "- purpose — цель получения кредита"
   ]
  },
  {
   "cell_type": "markdown",
   "id": "71e1b96c",
   "metadata": {
    "deletable": false,
    "editable": false,
    "id": "-G3EJWzf62s6"
   },
   "source": [
    "Это первая часть проекта, она будет проверена автоматически. Вторую часть проверит ревьюер. "
   ]
  },
  {
   "cell_type": "markdown",
   "id": "ef1993d0",
   "metadata": {
    "deletable": false,
    "editable": false,
    "id": "744d7639"
   },
   "source": [
    "## Откройте таблицу и изучите общую информацию о данных"
   ]
  },
  {
   "cell_type": "markdown",
   "id": "fa957683-f8be-4f66-8cb9-80301a575ae5",
   "metadata": {
    "deletable": false,
    "editable": false,
    "id": "e7a14c31",
    "tags": [
     "start_task"
    ]
   },
   "source": [
    "**Задание 1. Импортируйте библиотеку pandas. Считайте данные из csv-файла в датафрейм и сохраните в переменную `data`. Путь к файлу:**\n",
    "\n",
    "`/datasets/data.csv`"
   ]
  },
  {
   "cell_type": "markdown",
   "id": "94dcb263-925d-48af-99b0-12ff1af5a382",
   "metadata": {},
   "source": [
    "**Задание 1. Импортируйте библиотеку pandas. Считайте данные из csv-файла в датафрейм и сохраните в переменную `data`. Путь к файлу:**\n"
   ]
  },
  {
   "cell_type": "code",
   "execution_count": 1,
   "id": "1aab0314",
   "metadata": {
    "id": "7bcf75c9"
   },
   "outputs": [],
   "source": [
    "# импортируйте библиотеку pandas\n",
    "import pandas as pd"
   ]
  },
  {
   "cell_type": "markdown",
   "id": "e55173b4-a312-4206-a066-c906b2a531ff",
   "metadata": {
    "id": "4d240ee2"
   },
   "source": [
    "прочитайте csv-файл <br>\n",
    "\n",
    "Импортируем, но нельзя выкладывать файлы из Яндекс Практикума."
   ]
  },
  {
   "cell_type": "markdown",
   "id": "d3f14d5b",
   "metadata": {
    "deletable": false,
    "editable": false,
    "id": "b8038fe3",
    "tags": [
     "start_task"
    ]
   },
   "source": [
    "**Задание 2. Выведите первые 20 строчек датафрейма `data` на экран.**"
   ]
  },
  {
   "cell_type": "code",
   "execution_count": 3,
   "id": "f244fb98",
   "metadata": {
    "id": "2a7cab99"
   },
   "outputs": [
    {
     "name": "stdout",
     "output_type": "stream",
     "text": [
      "    children  days_employed  dob_years            education  education_id  \\\n",
      "0          1   -8437.673028         42               высшее             0   \n",
      "1          1   -4024.803754         36              среднее             1   \n",
      "2          0   -5623.422610         33              Среднее             1   \n",
      "3          3   -4124.747207         32              среднее             1   \n",
      "4          0  340266.072047         53              среднее             1   \n",
      "5          0    -926.185831         27               высшее             0   \n",
      "6          0   -2879.202052         43               высшее             0   \n",
      "7          0    -152.779569         50              СРЕДНЕЕ             1   \n",
      "8          2   -6929.865299         35               ВЫСШЕЕ             0   \n",
      "9          0   -2188.756445         41              среднее             1   \n",
      "10         2   -4171.483647         36               высшее             0   \n",
      "11         0    -792.701887         40              среднее             1   \n",
      "12         0            NaN         65              среднее             1   \n",
      "13         0   -1846.641941         54  неоконченное высшее             2   \n",
      "14         0   -1844.956182         56               высшее             0   \n",
      "15         1    -972.364419         26              среднее             1   \n",
      "16         0   -1719.934226         35              среднее             1   \n",
      "17         0   -2369.999720         33               высшее             0   \n",
      "18         0  400281.136913         53              среднее             1   \n",
      "19         0  -10038.818549         48              СРЕДНЕЕ             1   \n",
      "\n",
      "       family_status  family_status_id gender income_type  debt  \\\n",
      "0    женат / замужем                 0      F   сотрудник     0   \n",
      "1    женат / замужем                 0      F   сотрудник     0   \n",
      "2    женат / замужем                 0      M   сотрудник     0   \n",
      "3    женат / замужем                 0      M   сотрудник     0   \n",
      "4   гражданский брак                 1      F   пенсионер     0   \n",
      "5   гражданский брак                 1      M   компаньон     0   \n",
      "6    женат / замужем                 0      F   компаньон     0   \n",
      "7    женат / замужем                 0      M   сотрудник     0   \n",
      "8   гражданский брак                 1      F   сотрудник     0   \n",
      "9    женат / замужем                 0      M   сотрудник     0   \n",
      "10   женат / замужем                 0      M   компаньон     0   \n",
      "11   женат / замужем                 0      F   сотрудник     0   \n",
      "12  гражданский брак                 1      M   пенсионер     0   \n",
      "13   женат / замужем                 0      F   сотрудник     0   \n",
      "14  гражданский брак                 1      F   компаньон     1   \n",
      "15   женат / замужем                 0      F   сотрудник     0   \n",
      "16   женат / замужем                 0      F   сотрудник     0   \n",
      "17  гражданский брак                 1      M   сотрудник     0   \n",
      "18    вдовец / вдова                 2      F   пенсионер     0   \n",
      "19         в разводе                 3      F   сотрудник     0   \n",
      "\n",
      "     total_income                                 purpose  \n",
      "0   253875.639453                           покупка жилья  \n",
      "1   112080.014102                 приобретение автомобиля  \n",
      "2   145885.952297                           покупка жилья  \n",
      "3   267628.550329              дополнительное образование  \n",
      "4   158616.077870                         сыграть свадьбу  \n",
      "5   255763.565419                           покупка жилья  \n",
      "6   240525.971920                       операции с жильем  \n",
      "7   135823.934197                             образование  \n",
      "8    95856.832424                   на проведение свадьбы  \n",
      "9   144425.938277                 покупка жилья для семьи  \n",
      "10  113943.491460                    покупка недвижимости  \n",
      "11   77069.234271       покупка коммерческой недвижимости  \n",
      "12            NaN                         сыграть свадьбу  \n",
      "13  130458.228857                 приобретение автомобиля  \n",
      "14  165127.911772              покупка жилой недвижимости  \n",
      "15  116820.904450  строительство собственной недвижимости  \n",
      "16  289202.704229                            недвижимость  \n",
      "17   90410.586745              строительство недвижимости  \n",
      "18   56823.777243      на покупку подержанного автомобиля  \n",
      "19  242831.107982            на покупку своего автомобиля  \n"
     ]
    }
   ],
   "source": [
    "# ваш код здесь\n",
    "print(data.head(20))"
   ]
  },
  {
   "cell_type": "markdown",
   "id": "c9ed0e8f",
   "metadata": {
    "deletable": false,
    "editable": false,
    "id": "1c12e233",
    "tags": [
     "start_task"
    ]
   },
   "source": [
    "**Задание 3. Выведите основную информацию о датафрейме с помощью метода `info()`.**"
   ]
  },
  {
   "cell_type": "code",
   "execution_count": 4,
   "id": "895f6089",
   "metadata": {
    "id": "2b757bca"
   },
   "outputs": [
    {
     "name": "stdout",
     "output_type": "stream",
     "text": [
      "<class 'pandas.core.frame.DataFrame'>\n",
      "RangeIndex: 21525 entries, 0 to 21524\n",
      "Data columns (total 12 columns):\n",
      " #   Column            Non-Null Count  Dtype  \n",
      "---  ------            --------------  -----  \n",
      " 0   children          21525 non-null  int64  \n",
      " 1   days_employed     19351 non-null  float64\n",
      " 2   dob_years         21525 non-null  int64  \n",
      " 3   education         21525 non-null  object \n",
      " 4   education_id      21525 non-null  int64  \n",
      " 5   family_status     21525 non-null  object \n",
      " 6   family_status_id  21525 non-null  int64  \n",
      " 7   gender            21525 non-null  object \n",
      " 8   income_type       21525 non-null  object \n",
      " 9   debt              21525 non-null  int64  \n",
      " 10  total_income      19351 non-null  float64\n",
      " 11  purpose           21525 non-null  object \n",
      "dtypes: float64(2), int64(5), object(5)\n",
      "memory usage: 2.0+ MB\n"
     ]
    }
   ],
   "source": [
    "# ваш код здесь\n",
    "data.info()"
   ]
  },
  {
   "cell_type": "markdown",
   "id": "183afb02",
   "metadata": {
    "deletable": false,
    "editable": false,
    "id": "333ec665"
   },
   "source": [
    "## Предобработка данных"
   ]
  },
  {
   "cell_type": "markdown",
   "id": "1d75c345",
   "metadata": {
    "deletable": false,
    "editable": false,
    "id": "02d92d53"
   },
   "source": [
    "### Удаление пропусков"
   ]
  },
  {
   "cell_type": "markdown",
   "id": "5ef279ad",
   "metadata": {
    "deletable": false,
    "editable": false,
    "id": "cd84967c",
    "tags": [
     "start_task"
    ]
   },
   "source": [
    "**Задание 4. Выведите количество пропущенных значений для каждого столбца. Используйте комбинацию двух методов.**"
   ]
  },
  {
   "cell_type": "code",
   "execution_count": 5,
   "id": "06a804b8",
   "metadata": {
    "id": "7f9b2309"
   },
   "outputs": [
    {
     "name": "stdout",
     "output_type": "stream",
     "text": [
      "children               0\n",
      "days_employed       2174\n",
      "dob_years              0\n",
      "education              0\n",
      "education_id           0\n",
      "family_status          0\n",
      "family_status_id       0\n",
      "gender                 0\n",
      "income_type            0\n",
      "debt                   0\n",
      "total_income        2174\n",
      "purpose                0\n",
      "dtype: int64\n"
     ]
    }
   ],
   "source": [
    "# ваш код здесь\n",
    "print(data.isna().sum())"
   ]
  },
  {
   "cell_type": "markdown",
   "id": "eb81f589",
   "metadata": {
    "deletable": false,
    "editable": false,
    "id": "db86e27b",
    "tags": [
     "start_task"
    ]
   },
   "source": [
    "**Задание 5. В двух столбцах есть пропущенные значения. Один из них — `days_employed`. Пропуски в этом столбце вы обработаете на следующем этапе. Другой столбец с пропущенными значениями — `total_income` — хранит данные о доходах. На сумму дохода сильнее всего влияет тип занятости, поэтому заполнить пропуски в этом столбце нужно медианным значением по каждому типу из столбца `income_type`. Например, у человека с типом занятости `сотрудник` пропуск в столбце `total_income` должен быть заполнен медианным доходом среди всех записей с тем же типом.**"
   ]
  },
  {
   "cell_type": "code",
   "execution_count": 6,
   "id": "cad337a2",
   "metadata": {
    "id": "42006a93"
   },
   "outputs": [],
   "source": [
    "# ваш код здесь\n",
    "list_profession = data['income_type'].unique()\n",
    "    \n",
    "\n",
    "for profession in list_profession:\n",
    "    median_income_type = data[data['income_type'] == profession]\n",
    "    median_income_type = median_income_type['total_income'].median()\n",
    "    data.loc[data['income_type'] == profession,'total_income'] = data.loc[data['income_type'] == profession,'total_income'].fillna(median_income_type)"
   ]
  },
  {
   "cell_type": "markdown",
   "id": "e740f8ef",
   "metadata": {
    "deletable": false,
    "editable": false,
    "id": "89da5ece"
   },
   "source": [
    "### Обработка аномальных значений"
   ]
  },
  {
   "cell_type": "markdown",
   "id": "5b4ab956",
   "metadata": {
    "deletable": false,
    "editable": false,
    "id": "57964554",
    "tags": [
     "start_task"
    ]
   },
   "source": [
    "**Задание 6. В данных могут встречаться артефакты (аномалии) — значения, которые не отражают действительность и появились по какой-то ошибке. Таким артефактом будет отрицательное количество дней трудового стажа в столбце `days_employed`. Для реальных данных это нормально. Обработайте значения в этом столбце: замените все отрицательные значения положительными с помощью метода `abs()`.**"
   ]
  },
  {
   "cell_type": "code",
   "execution_count": 7,
   "id": "75d41463",
   "metadata": {
    "id": "f6f055bf"
   },
   "outputs": [],
   "source": [
    "# ваш код здесь\n",
    "data['days_employed'] = data['days_employed'].abs()"
   ]
  },
  {
   "cell_type": "markdown",
   "id": "31a9304e",
   "metadata": {
    "deletable": false,
    "editable": false,
    "id": "6107dd2f",
    "tags": [
     "start_task"
    ]
   },
   "source": [
    "**Задание 7. Для каждого типа занятости выведите медианное значение трудового стажа `days_employed` в днях.**"
   ]
  },
  {
   "cell_type": "code",
   "execution_count": 8,
   "id": "b586c4b4",
   "metadata": {
    "id": "85a5faf6"
   },
   "outputs": [
    {
     "name": "stdout",
     "output_type": "stream",
     "text": [
      "income_type\n",
      "безработный        366413.652744\n",
      "в декрете            3296.759962\n",
      "госслужащий          2689.368353\n",
      "компаньон            1547.382223\n",
      "пенсионер          365213.306266\n",
      "предприниматель       520.848083\n",
      "сотрудник            1574.202821\n",
      "студент               578.751554\n",
      "Name: days_employed, dtype: float64\n"
     ]
    }
   ],
   "source": [
    "# ваш код здесь\n",
    "median_day = data.groupby('income_type')['days_employed'].median()\n",
    "print(median_day)"
   ]
  },
  {
   "cell_type": "markdown",
   "id": "6030766e",
   "metadata": {
    "deletable": false,
    "editable": false,
    "id": "38d1a030"
   },
   "source": [
    "У двух типов (безработные и пенсионеры) получатся аномально большие значения. Исправить такие значения сложно, поэтому оставьте их как есть. Тем более этот столбец не понадобится вам для исследования."
   ]
  },
  {
   "cell_type": "markdown",
   "id": "47f0f21a",
   "metadata": {
    "deletable": false,
    "editable": false,
    "id": "d8a9f147",
    "tags": [
     "start_task"
    ]
   },
   "source": [
    "**Задание 8. Выведите перечень уникальных значений столбца `children`.**"
   ]
  },
  {
   "cell_type": "code",
   "execution_count": 9,
   "id": "91798280",
   "metadata": {
    "id": "ef5056eb"
   },
   "outputs": [
    {
     "name": "stdout",
     "output_type": "stream",
     "text": [
      "[ 1  0  3  2 -1  4 20  5]\n"
     ]
    }
   ],
   "source": [
    "# ваш код здесь\n",
    "print(data['children'].unique())"
   ]
  },
  {
   "cell_type": "markdown",
   "id": "fa8e59bf",
   "metadata": {
    "deletable": false,
    "editable": false,
    "id": "40b9ebf2",
    "tags": [
     "start_task"
    ]
   },
   "source": [
    "**Задание 9. В столбце `children` есть два аномальных значения. Удалите строки, в которых встречаются такие аномальные значения из датафрейма `data`.**"
   ]
  },
  {
   "cell_type": "code",
   "execution_count": 10,
   "id": "2ac1d8a0",
   "metadata": {
    "id": "3ff9801d"
   },
   "outputs": [],
   "source": [
    "# ваш код здесь\n",
    "data = data.drop(data[(data['children'] == -1) | (data['children'] == 20)].index)"
   ]
  },
  {
   "cell_type": "markdown",
   "id": "19e9ba54",
   "metadata": {
    "deletable": false,
    "editable": false,
    "id": "bbc4d0ce",
    "tags": [
     "start_task"
    ]
   },
   "source": [
    "**Задание 10. Ещё раз выведите перечень уникальных значений столбца `children`, чтобы убедиться, что артефакты удалены.**"
   ]
  },
  {
   "cell_type": "code",
   "execution_count": 11,
   "id": "d64d560c",
   "metadata": {
    "id": "ad4fa8b7"
   },
   "outputs": [
    {
     "name": "stdout",
     "output_type": "stream",
     "text": [
      "[1 0 3 2 4 5]\n"
     ]
    }
   ],
   "source": [
    "# ваш код здесь\n",
    "print(data['children'].unique())"
   ]
  },
  {
   "cell_type": "markdown",
   "id": "86d5d57f",
   "metadata": {
    "deletable": false,
    "editable": false,
    "id": "75440b63"
   },
   "source": [
    "### Удаление пропусков (продолжение)"
   ]
  },
  {
   "cell_type": "markdown",
   "id": "20915844",
   "metadata": {
    "deletable": false,
    "editable": false,
    "id": "f4ea573f",
    "tags": [
     "start_task"
    ]
   },
   "source": [
    "**Задание 11. Заполните пропуски в столбце `days_employed` медианными значениями по каждому типу занятости `income_type`.**"
   ]
  },
  {
   "cell_type": "code",
   "execution_count": 12,
   "id": "b81f121c",
   "metadata": {
    "id": "af6b1a7e"
   },
   "outputs": [],
   "source": [
    "# ваш код здесь\n",
    "for profession in list_profession:\n",
    "    median_days = data[data['income_type'] == profession]['days_employed'].median()\n",
    "    data.loc[data['income_type'] == profession,'days_employed'] = data.loc[data['income_type'] == profession, 'days_employed'].fillna(median_days)\n"
   ]
  },
  {
   "cell_type": "markdown",
   "id": "2bb57c6a",
   "metadata": {
    "deletable": false,
    "editable": false,
    "id": "2753f40d",
    "tags": [
     "start_task"
    ]
   },
   "source": [
    "**Задание 12. Убедитесь, что все пропуски заполнены. Проверьте себя и ещё раз выведите количество пропущенных значений для каждого столбца с помощью двух методов.**"
   ]
  },
  {
   "cell_type": "code",
   "execution_count": 13,
   "id": "72334542",
   "metadata": {
    "id": "55f78bc2"
   },
   "outputs": [
    {
     "name": "stdout",
     "output_type": "stream",
     "text": [
      "children            0\n",
      "days_employed       0\n",
      "dob_years           0\n",
      "education           0\n",
      "education_id        0\n",
      "family_status       0\n",
      "family_status_id    0\n",
      "gender              0\n",
      "income_type         0\n",
      "debt                0\n",
      "total_income        0\n",
      "purpose             0\n",
      "dtype: int64\n"
     ]
    }
   ],
   "source": [
    "# ваш код здесь\n",
    "print(data.isna().sum())\n"
   ]
  },
  {
   "cell_type": "markdown",
   "id": "62586eea",
   "metadata": {
    "deletable": false,
    "editable": false,
    "id": "ddc81e43"
   },
   "source": [
    "### Изменение типов данных"
   ]
  },
  {
   "cell_type": "markdown",
   "id": "bd110db3",
   "metadata": {
    "deletable": false,
    "editable": false,
    "id": "42d19d24",
    "tags": [
     "start_task"
    ]
   },
   "source": [
    "**Задание 13. Замените вещественный тип данных в столбце `total_income` на целочисленный с помощью метода `astype()`.**"
   ]
  },
  {
   "cell_type": "code",
   "execution_count": 14,
   "id": "e4a2d2db",
   "metadata": {
    "id": "920b65ad"
   },
   "outputs": [],
   "source": [
    "# ваш код здесь\n",
    "data['total_income'] = data['total_income'].astype(int)"
   ]
  },
  {
   "cell_type": "markdown",
   "id": "0d537f28",
   "metadata": {
    "deletable": false,
    "editable": false,
    "id": "80c420ba"
   },
   "source": [
    "### Обработка дубликатов"
   ]
  },
  {
   "cell_type": "markdown",
   "id": "5fb76710",
   "metadata": {
    "deletable": false,
    "editable": false,
    "tags": [
     "start_task"
    ]
   },
   "source": [
    "**Задание 14. Обработайте неявные дубликаты в столбце `education`. В этом столбце есть одни и те же значения, но записанные по-разному: с использованием заглавных и строчных букв. Приведите их к нижнему регистру. Проверьте остальные столбцы.**"
   ]
  },
  {
   "cell_type": "code",
   "execution_count": 15,
   "id": "949b7226",
   "metadata": {},
   "outputs": [],
   "source": [
    "# ваш код здесь\n",
    "data['education'] = data['education'].str.lower()\n",
    "# columns = ['education','education_id','family_status','family_status_id','gender',\n",
    "          # 'income_type','debt','purpose']\n",
    "# print(columns)\n",
    "# for column in columns:\n",
    "    # print(data[column].unique())"
   ]
  },
  {
   "cell_type": "markdown",
   "id": "97fcc421",
   "metadata": {
    "deletable": false,
    "editable": false,
    "id": "dc587695",
    "tags": [
     "start_task"
    ]
   },
   "source": [
    "**Задание 15. Выведите на экран количество строк-дубликатов в данных. Если такие строки присутствуют, удалите их.**"
   ]
  },
  {
   "cell_type": "code",
   "execution_count": 16,
   "id": "14c0f17f",
   "metadata": {
    "id": "3ee445e4"
   },
   "outputs": [
    {
     "name": "stdout",
     "output_type": "stream",
     "text": [
      "71\n"
     ]
    }
   ],
   "source": [
    "# посчитайте дубликаты\n",
    "print(data.duplicated().sum())"
   ]
  },
  {
   "cell_type": "code",
   "execution_count": 17,
   "id": "58231f60",
   "metadata": {
    "id": "8575fe05"
   },
   "outputs": [],
   "source": [
    "# удалите дубликаты\n",
    "data = data.drop_duplicates()"
   ]
  },
  {
   "cell_type": "markdown",
   "id": "b354c294",
   "metadata": {
    "deletable": false,
    "editable": false,
    "id": "9904cf55"
   },
   "source": [
    "### Категоризация данных"
   ]
  },
  {
   "cell_type": "markdown",
   "id": "ad8f03ac",
   "metadata": {
    "deletable": false,
    "editable": false,
    "id": "72fcc8a2",
    "tags": [
     "start_task"
    ]
   },
   "source": [
    "**Задание 16. На основании диапазонов, указанных ниже, создайте в датафрейме `data` столбец `total_income_category` с категориями:**\n",
    "\n",
    "- 0–30000 — `'E'`;\n",
    "- 30001–50000 — `'D'`;\n",
    "- 50001–200000 — `'C'`;\n",
    "- 200001–1000000 — `'B'`;\n",
    "- 1000001 и выше — `'A'`.\n",
    "\n",
    "\n",
    "**Например, кредитополучателю с доходом 25000 нужно назначить категорию `'E'`, а клиенту, получающему 235000, — `'B'`. Используйте собственную функцию с именем `categorize_income()` и метод `apply()`.**"
   ]
  },
  {
   "cell_type": "code",
   "execution_count": 18,
   "id": "09094be8",
   "metadata": {
    "id": "e1771346"
   },
   "outputs": [],
   "source": [
    "# создайте функцию categorize_income()\n",
    "def categorize_income(total_income):\n",
    "    if 0 <= total_income <= 30000:\n",
    "        return 'E'\n",
    "    if 30001 <= total_income <= 50000:\n",
    "        return 'D'\n",
    "    if 50001 <= total_income <= 200000:\n",
    "        return 'C'\n",
    "    if 200001 <= total_income <= 1000000:\n",
    "        return 'B'\n",
    "    if 1000001 < total_income:\n",
    "        return 'A'"
   ]
  },
  {
   "cell_type": "code",
   "execution_count": 19,
   "id": "e892b2b3",
   "metadata": {
    "id": "d5f3586d"
   },
   "outputs": [],
   "source": [
    "# примените функцию методом apply()\n",
    "data['total_income_category'] = data['total_income'].apply(categorize_income)"
   ]
  },
  {
   "cell_type": "markdown",
   "id": "35c6513b",
   "metadata": {
    "deletable": false,
    "editable": false,
    "id": "dde49b5c",
    "tags": [
     "start_task"
    ]
   },
   "source": [
    "**Задание 17. Выведите на экран перечень уникальных целей взятия кредита из столбца `purpose`.**"
   ]
  },
  {
   "cell_type": "code",
   "execution_count": 20,
   "id": "a7ac3e95",
   "metadata": {
    "id": "f67ce9b3"
   },
   "outputs": [
    {
     "name": "stdout",
     "output_type": "stream",
     "text": [
      "['покупка жилья' 'приобретение автомобиля' 'дополнительное образование'\n",
      " 'сыграть свадьбу' 'операции с жильем' 'образование'\n",
      " 'на проведение свадьбы' 'покупка жилья для семьи' 'покупка недвижимости'\n",
      " 'покупка коммерческой недвижимости' 'покупка жилой недвижимости'\n",
      " 'строительство собственной недвижимости' 'недвижимость'\n",
      " 'строительство недвижимости' 'на покупку подержанного автомобиля'\n",
      " 'на покупку своего автомобиля' 'операции с коммерческой недвижимостью'\n",
      " 'строительство жилой недвижимости' 'жилье'\n",
      " 'операции со своей недвижимостью' 'автомобили' 'заняться образованием'\n",
      " 'сделка с подержанным автомобилем' 'получение образования' 'автомобиль'\n",
      " 'свадьба' 'получение дополнительного образования' 'покупка своего жилья'\n",
      " 'операции с недвижимостью' 'получение высшего образования'\n",
      " 'свой автомобиль' 'сделка с автомобилем' 'профильное образование'\n",
      " 'высшее образование' 'покупка жилья для сдачи' 'на покупку автомобиля'\n",
      " 'ремонт жилью' 'заняться высшим образованием']\n"
     ]
    }
   ],
   "source": [
    "# ваш код здесь\n",
    "print(data['purpose'].unique())"
   ]
  },
  {
   "cell_type": "markdown",
   "id": "871c13f0",
   "metadata": {
    "deletable": false,
    "editable": false,
    "id": "85d0aef0",
    "tags": [
     "start_task"
    ]
   },
   "source": [
    "**Задание 18. Создайте функцию, которая на основании данных из столбца `purpose` сформирует новый столбец `purpose_category`, в который войдут следующие категории:**\n",
    "\n",
    "- `'операции с автомобилем'`,\n",
    "- `'операции с недвижимостью'`,\n",
    "- `'проведение свадьбы'`,\n",
    "- `'получение образования'`.\n",
    "\n",
    "**Например, если в столбце `purpose` находится подстрока `'на покупку автомобиля'`, то в столбце `purpose_category` должна появиться строка `'операции с автомобилем'`.**\n",
    "\n",
    "**Используйте собственную функцию с именем `categorize_purpose()` и метод `apply()`. Изучите данные в столбце `purpose` и определите, какие подстроки помогут вам правильно определить категорию.**"
   ]
  },
  {
   "cell_type": "code",
   "execution_count": 21,
   "id": "8f5afa04",
   "metadata": {
    "id": "e149fab4"
   },
   "outputs": [],
   "source": [
    "# создайте функцию categorize_purpose()\n",
    "def categorize_purpose(word):\n",
    "    if 'авто' in word:\n",
    "        return 'операции с автомобилем'\n",
    "    if 'жил' in word or 'недвиж' in word:\n",
    "        return 'операции с недвижимостью'\n",
    "    if 'свад' in word:\n",
    "        return 'проведение свадьбы'\n",
    "    if 'образ' in word:\n",
    "        return 'получение образования'"
   ]
  },
  {
   "cell_type": "code",
   "execution_count": 22,
   "id": "bac31011",
   "metadata": {
    "id": "bf36e69b"
   },
   "outputs": [],
   "source": [
    "# примените функцию методом apply()\n",
    "data['purpose_category'] = data['purpose'].apply(categorize_purpose)\n"
   ]
  }
 ],
 "metadata": {
  "ExecuteTimeLog": [
   {
    "duration": 432,
    "start_time": "2022-08-01T21:50:05.191Z"
   },
   {
    "duration": 262,
    "start_time": "2022-08-01T21:50:25.149Z"
   },
   {
    "duration": 11,
    "start_time": "2022-08-01T21:50:26.427Z"
   },
   {
    "duration": 23,
    "start_time": "2022-08-01T21:51:56.302Z"
   },
   {
    "duration": 11,
    "start_time": "2022-08-01T22:10:17.691Z"
   },
   {
    "duration": 63,
    "start_time": "2022-08-01T22:18:31.827Z"
   },
   {
    "duration": 4,
    "start_time": "2022-08-01T22:18:38.523Z"
   },
   {
    "duration": 9,
    "start_time": "2022-08-01T22:22:16.489Z"
   },
   {
    "duration": 11,
    "start_time": "2022-08-01T22:22:21.899Z"
   },
   {
    "duration": 8,
    "start_time": "2022-08-01T22:22:42.969Z"
   },
   {
    "duration": 9,
    "start_time": "2022-08-01T22:25:24.231Z"
   },
   {
    "duration": 9,
    "start_time": "2022-08-01T22:25:30.593Z"
   },
   {
    "duration": 21,
    "start_time": "2022-08-01T22:35:32.675Z"
   },
   {
    "duration": 30,
    "start_time": "2022-08-01T22:35:54.738Z"
   },
   {
    "duration": 24,
    "start_time": "2022-08-01T22:36:04.425Z"
   },
   {
    "duration": 22,
    "start_time": "2022-08-01T22:36:20.849Z"
   },
   {
    "duration": 17,
    "start_time": "2022-08-01T22:36:45.512Z"
   },
   {
    "duration": 12,
    "start_time": "2022-08-01T22:36:54.825Z"
   },
   {
    "duration": 402,
    "start_time": "2022-08-01T22:37:06.223Z"
   },
   {
    "duration": 73,
    "start_time": "2022-08-01T22:37:06.627Z"
   },
   {
    "duration": 9,
    "start_time": "2022-08-01T22:37:06.702Z"
   },
   {
    "duration": 19,
    "start_time": "2022-08-01T22:37:06.713Z"
   },
   {
    "duration": 8,
    "start_time": "2022-08-01T22:37:06.734Z"
   },
   {
    "duration": 8,
    "start_time": "2022-08-01T22:37:06.744Z"
   },
   {
    "duration": 2,
    "start_time": "2022-08-01T22:37:06.754Z"
   },
   {
    "duration": 5,
    "start_time": "2022-08-01T22:37:06.758Z"
   },
   {
    "duration": 5,
    "start_time": "2022-08-01T22:37:06.765Z"
   },
   {
    "duration": 11,
    "start_time": "2022-08-01T22:37:06.772Z"
   },
   {
    "duration": 8,
    "start_time": "2022-08-01T22:37:06.785Z"
   },
   {
    "duration": 13,
    "start_time": "2022-08-01T22:37:06.794Z"
   },
   {
    "duration": 16,
    "start_time": "2022-08-01T22:37:06.808Z"
   },
   {
    "duration": 5,
    "start_time": "2022-08-01T22:37:06.826Z"
   },
   {
    "duration": 4,
    "start_time": "2022-08-01T22:37:06.832Z"
   },
   {
    "duration": 9,
    "start_time": "2022-08-01T22:37:06.838Z"
   },
   {
    "duration": 7,
    "start_time": "2022-08-01T22:37:06.848Z"
   },
   {
    "duration": 10,
    "start_time": "2022-08-01T22:37:06.857Z"
   },
   {
    "duration": 6,
    "start_time": "2022-08-01T22:37:06.868Z"
   },
   {
    "duration": 6,
    "start_time": "2022-08-01T22:37:06.875Z"
   },
   {
    "duration": 8,
    "start_time": "2022-08-01T22:37:06.883Z"
   },
   {
    "duration": 7,
    "start_time": "2022-08-01T22:37:06.893Z"
   },
   {
    "duration": 20,
    "start_time": "2022-08-01T22:39:38.300Z"
   },
   {
    "duration": 18,
    "start_time": "2022-08-01T22:40:20.767Z"
   },
   {
    "duration": 16,
    "start_time": "2022-08-01T22:41:03.074Z"
   },
   {
    "duration": 13,
    "start_time": "2022-08-01T22:41:51.777Z"
   },
   {
    "duration": 19,
    "start_time": "2022-08-01T22:41:58.577Z"
   },
   {
    "duration": 17,
    "start_time": "2022-08-01T22:42:38.145Z"
   },
   {
    "duration": 16,
    "start_time": "2022-08-01T22:42:53.999Z"
   },
   {
    "duration": 401,
    "start_time": "2022-08-01T22:43:02.628Z"
   },
   {
    "duration": 72,
    "start_time": "2022-08-01T22:43:03.031Z"
   },
   {
    "duration": 9,
    "start_time": "2022-08-01T22:43:03.105Z"
   },
   {
    "duration": 15,
    "start_time": "2022-08-01T22:43:03.116Z"
   },
   {
    "duration": 8,
    "start_time": "2022-08-01T22:43:03.134Z"
   },
   {
    "duration": 26,
    "start_time": "2022-08-01T22:43:03.143Z"
   },
   {
    "duration": 4,
    "start_time": "2022-08-01T22:43:03.170Z"
   },
   {
    "duration": 8,
    "start_time": "2022-08-01T22:43:03.176Z"
   },
   {
    "duration": 6,
    "start_time": "2022-08-01T22:43:03.185Z"
   },
   {
    "duration": 9,
    "start_time": "2022-08-01T22:43:03.192Z"
   },
   {
    "duration": 6,
    "start_time": "2022-08-01T22:43:03.203Z"
   },
   {
    "duration": 5,
    "start_time": "2022-08-01T22:43:03.210Z"
   },
   {
    "duration": 2,
    "start_time": "2022-08-01T22:43:03.224Z"
   },
   {
    "duration": 5,
    "start_time": "2022-08-01T22:43:03.228Z"
   },
   {
    "duration": 8,
    "start_time": "2022-08-01T22:43:03.234Z"
   },
   {
    "duration": 16,
    "start_time": "2022-08-01T22:43:03.244Z"
   },
   {
    "duration": 19,
    "start_time": "2022-08-01T22:43:03.262Z"
   },
   {
    "duration": 6,
    "start_time": "2022-08-01T22:43:03.283Z"
   },
   {
    "duration": 6,
    "start_time": "2022-08-01T22:43:03.290Z"
   },
   {
    "duration": 6,
    "start_time": "2022-08-01T22:43:03.297Z"
   },
   {
    "duration": 7,
    "start_time": "2022-08-01T22:43:03.304Z"
   },
   {
    "duration": 7,
    "start_time": "2022-08-01T22:43:03.313Z"
   },
   {
    "duration": 14,
    "start_time": "2022-08-01T22:43:31.390Z"
   },
   {
    "duration": 14,
    "start_time": "2022-08-01T22:43:41.309Z"
   },
   {
    "duration": 412,
    "start_time": "2022-08-01T22:43:52.520Z"
   },
   {
    "duration": 72,
    "start_time": "2022-08-01T22:43:52.934Z"
   },
   {
    "duration": 11,
    "start_time": "2022-08-01T22:43:53.008Z"
   },
   {
    "duration": 16,
    "start_time": "2022-08-01T22:43:53.022Z"
   },
   {
    "duration": 9,
    "start_time": "2022-08-01T22:43:53.040Z"
   },
   {
    "duration": 17,
    "start_time": "2022-08-01T22:43:53.051Z"
   },
   {
    "duration": 2,
    "start_time": "2022-08-01T22:43:53.070Z"
   },
   {
    "duration": 6,
    "start_time": "2022-08-01T22:43:53.074Z"
   },
   {
    "duration": 5,
    "start_time": "2022-08-01T22:43:53.082Z"
   },
   {
    "duration": 5,
    "start_time": "2022-08-01T22:43:53.089Z"
   },
   {
    "duration": 3,
    "start_time": "2022-08-01T22:43:53.123Z"
   },
   {
    "duration": 16,
    "start_time": "2022-08-01T22:43:53.127Z"
   },
   {
    "duration": 7,
    "start_time": "2022-08-01T22:43:53.144Z"
   },
   {
    "duration": 12,
    "start_time": "2022-08-01T22:43:53.152Z"
   },
   {
    "duration": 7,
    "start_time": "2022-08-01T22:43:53.166Z"
   },
   {
    "duration": 6,
    "start_time": "2022-08-01T22:43:53.174Z"
   },
   {
    "duration": 5,
    "start_time": "2022-08-01T22:43:53.181Z"
   },
   {
    "duration": 5,
    "start_time": "2022-08-01T22:43:53.187Z"
   },
   {
    "duration": 7,
    "start_time": "2022-08-01T22:43:53.193Z"
   },
   {
    "duration": 5,
    "start_time": "2022-08-01T22:43:53.202Z"
   },
   {
    "duration": 7,
    "start_time": "2022-08-01T22:43:53.208Z"
   },
   {
    "duration": 6,
    "start_time": "2022-08-01T22:43:53.216Z"
   },
   {
    "duration": 8,
    "start_time": "2022-08-01T22:44:27.661Z"
   },
   {
    "duration": 12,
    "start_time": "2022-08-01T22:44:43.988Z"
   },
   {
    "duration": 453,
    "start_time": "2022-08-01T22:45:10.120Z"
   },
   {
    "duration": 10,
    "start_time": "2022-08-01T22:45:28.251Z"
   },
   {
    "duration": 15,
    "start_time": "2022-08-01T22:47:23.703Z"
   },
   {
    "duration": 18,
    "start_time": "2022-08-01T22:47:31.787Z"
   },
   {
    "duration": 12,
    "start_time": "2022-08-01T22:48:08.247Z"
   },
   {
    "duration": 19,
    "start_time": "2022-08-01T22:48:57.198Z"
   },
   {
    "duration": 9,
    "start_time": "2022-08-01T22:49:04.210Z"
   },
   {
    "duration": 11,
    "start_time": "2022-08-01T22:49:18.569Z"
   },
   {
    "duration": 13,
    "start_time": "2022-08-01T22:49:52.911Z"
   },
   {
    "duration": 756,
    "start_time": "2022-08-01T22:51:36.728Z"
   },
   {
    "duration": 14,
    "start_time": "2022-08-01T22:52:22.544Z"
   },
   {
    "duration": 344,
    "start_time": "2022-08-01T22:55:45.279Z"
   },
   {
    "duration": 71,
    "start_time": "2022-08-01T22:55:45.625Z"
   },
   {
    "duration": 10,
    "start_time": "2022-08-01T22:55:45.697Z"
   },
   {
    "duration": 17,
    "start_time": "2022-08-01T22:55:45.708Z"
   },
   {
    "duration": 8,
    "start_time": "2022-08-01T22:55:45.727Z"
   },
   {
    "duration": 419,
    "start_time": "2022-08-01T22:55:45.736Z"
   },
   {
    "duration": 0,
    "start_time": "2022-08-01T22:55:46.157Z"
   },
   {
    "duration": 0,
    "start_time": "2022-08-01T22:55:46.158Z"
   },
   {
    "duration": 0,
    "start_time": "2022-08-01T22:55:46.159Z"
   },
   {
    "duration": 0,
    "start_time": "2022-08-01T22:55:46.160Z"
   },
   {
    "duration": 0,
    "start_time": "2022-08-01T22:55:46.161Z"
   },
   {
    "duration": 0,
    "start_time": "2022-08-01T22:55:46.162Z"
   },
   {
    "duration": 0,
    "start_time": "2022-08-01T22:55:46.163Z"
   },
   {
    "duration": 0,
    "start_time": "2022-08-01T22:55:46.164Z"
   },
   {
    "duration": 0,
    "start_time": "2022-08-01T22:55:46.164Z"
   },
   {
    "duration": 0,
    "start_time": "2022-08-01T22:55:46.165Z"
   },
   {
    "duration": 0,
    "start_time": "2022-08-01T22:55:46.166Z"
   },
   {
    "duration": 0,
    "start_time": "2022-08-01T22:55:46.166Z"
   },
   {
    "duration": 0,
    "start_time": "2022-08-01T22:55:46.167Z"
   },
   {
    "duration": 0,
    "start_time": "2022-08-01T22:55:46.168Z"
   },
   {
    "duration": 0,
    "start_time": "2022-08-01T22:55:46.169Z"
   },
   {
    "duration": 0,
    "start_time": "2022-08-01T22:55:46.170Z"
   },
   {
    "duration": 444,
    "start_time": "2022-08-02T09:45:50.291Z"
   },
   {
    "duration": 94,
    "start_time": "2022-08-02T09:45:50.737Z"
   },
   {
    "duration": 27,
    "start_time": "2022-08-02T09:45:50.833Z"
   },
   {
    "duration": 53,
    "start_time": "2022-08-02T09:45:50.862Z"
   },
   {
    "duration": 26,
    "start_time": "2022-08-02T09:45:50.918Z"
   },
   {
    "duration": 786,
    "start_time": "2022-08-02T09:45:50.946Z"
   },
   {
    "duration": 0,
    "start_time": "2022-08-02T09:45:51.735Z"
   },
   {
    "duration": 0,
    "start_time": "2022-08-02T09:45:51.737Z"
   },
   {
    "duration": 0,
    "start_time": "2022-08-02T09:45:51.738Z"
   },
   {
    "duration": 0,
    "start_time": "2022-08-02T09:45:51.738Z"
   },
   {
    "duration": 0,
    "start_time": "2022-08-02T09:45:51.749Z"
   },
   {
    "duration": 0,
    "start_time": "2022-08-02T09:45:51.750Z"
   },
   {
    "duration": 0,
    "start_time": "2022-08-02T09:45:51.757Z"
   },
   {
    "duration": 0,
    "start_time": "2022-08-02T09:45:51.759Z"
   },
   {
    "duration": 0,
    "start_time": "2022-08-02T09:45:51.760Z"
   },
   {
    "duration": 0,
    "start_time": "2022-08-02T09:45:51.761Z"
   },
   {
    "duration": 0,
    "start_time": "2022-08-02T09:45:51.762Z"
   },
   {
    "duration": 0,
    "start_time": "2022-08-02T09:45:51.763Z"
   },
   {
    "duration": 0,
    "start_time": "2022-08-02T09:45:51.764Z"
   },
   {
    "duration": 0,
    "start_time": "2022-08-02T09:45:51.772Z"
   },
   {
    "duration": 0,
    "start_time": "2022-08-02T09:45:51.774Z"
   },
   {
    "duration": 0,
    "start_time": "2022-08-02T09:45:51.776Z"
   },
   {
    "duration": 10,
    "start_time": "2022-08-02T09:46:24.426Z"
   },
   {
    "duration": 35,
    "start_time": "2022-08-02T09:46:32.769Z"
   },
   {
    "duration": 19,
    "start_time": "2022-08-02T09:46:36.228Z"
   },
   {
    "duration": 470,
    "start_time": "2022-08-02T09:46:41.353Z"
   },
   {
    "duration": 127,
    "start_time": "2022-08-02T09:46:41.824Z"
   },
   {
    "duration": 25,
    "start_time": "2022-08-02T09:46:41.953Z"
   },
   {
    "duration": 52,
    "start_time": "2022-08-02T09:46:41.980Z"
   },
   {
    "duration": 24,
    "start_time": "2022-08-02T09:46:42.035Z"
   },
   {
    "duration": 118,
    "start_time": "2022-08-02T09:46:42.061Z"
   },
   {
    "duration": 0,
    "start_time": "2022-08-02T09:46:42.182Z"
   },
   {
    "duration": 0,
    "start_time": "2022-08-02T09:46:42.183Z"
   },
   {
    "duration": 0,
    "start_time": "2022-08-02T09:46:42.184Z"
   },
   {
    "duration": 0,
    "start_time": "2022-08-02T09:46:42.186Z"
   },
   {
    "duration": 0,
    "start_time": "2022-08-02T09:46:42.187Z"
   },
   {
    "duration": 0,
    "start_time": "2022-08-02T09:46:42.190Z"
   },
   {
    "duration": 0,
    "start_time": "2022-08-02T09:46:42.192Z"
   },
   {
    "duration": 1,
    "start_time": "2022-08-02T09:46:42.192Z"
   },
   {
    "duration": 0,
    "start_time": "2022-08-02T09:46:42.193Z"
   },
   {
    "duration": 0,
    "start_time": "2022-08-02T09:46:42.194Z"
   },
   {
    "duration": 0,
    "start_time": "2022-08-02T09:46:42.195Z"
   },
   {
    "duration": 0,
    "start_time": "2022-08-02T09:46:42.197Z"
   },
   {
    "duration": 0,
    "start_time": "2022-08-02T09:46:42.198Z"
   },
   {
    "duration": 0,
    "start_time": "2022-08-02T09:46:42.199Z"
   },
   {
    "duration": 0,
    "start_time": "2022-08-02T09:46:42.201Z"
   },
   {
    "duration": 0,
    "start_time": "2022-08-02T09:46:42.204Z"
   },
   {
    "duration": 104,
    "start_time": "2022-08-02T09:46:49.032Z"
   },
   {
    "duration": 60,
    "start_time": "2022-08-02T09:47:12.666Z"
   },
   {
    "duration": 123,
    "start_time": "2022-08-02T09:50:09.624Z"
   },
   {
    "duration": 1712,
    "start_time": "2022-08-02T09:50:16.991Z"
   },
   {
    "duration": 17,
    "start_time": "2022-08-02T09:50:29.464Z"
   },
   {
    "duration": 4,
    "start_time": "2022-08-02T10:39:17.929Z"
   },
   {
    "duration": 8,
    "start_time": "2022-08-02T10:45:15.134Z"
   },
   {
    "duration": 403,
    "start_time": "2022-08-03T08:19:40.951Z"
   },
   {
    "duration": 282,
    "start_time": "2022-08-03T08:19:41.356Z"
   },
   {
    "duration": 13,
    "start_time": "2022-08-03T08:19:41.640Z"
   },
   {
    "duration": 29,
    "start_time": "2022-08-03T08:19:41.655Z"
   },
   {
    "duration": 19,
    "start_time": "2022-08-03T08:19:41.687Z"
   },
   {
    "duration": 69,
    "start_time": "2022-08-03T08:19:41.708Z"
   },
   {
    "duration": 3,
    "start_time": "2022-08-03T08:19:41.779Z"
   },
   {
    "duration": 11,
    "start_time": "2022-08-03T08:19:41.784Z"
   },
   {
    "duration": 9,
    "start_time": "2022-08-03T08:19:41.797Z"
   },
   {
    "duration": 8,
    "start_time": "2022-08-03T08:19:41.807Z"
   },
   {
    "duration": 11,
    "start_time": "2022-08-03T08:19:41.817Z"
   },
   {
    "duration": 16,
    "start_time": "2022-08-03T08:19:41.830Z"
   },
   {
    "duration": 16,
    "start_time": "2022-08-03T08:19:41.847Z"
   },
   {
    "duration": 17,
    "start_time": "2022-08-03T08:19:41.865Z"
   },
   {
    "duration": 7,
    "start_time": "2022-08-03T08:19:41.884Z"
   },
   {
    "duration": 10,
    "start_time": "2022-08-03T08:19:41.893Z"
   },
   {
    "duration": 13,
    "start_time": "2022-08-03T08:19:41.905Z"
   },
   {
    "duration": 7,
    "start_time": "2022-08-03T08:19:41.921Z"
   },
   {
    "duration": 5,
    "start_time": "2022-08-03T08:19:41.930Z"
   },
   {
    "duration": 10,
    "start_time": "2022-08-03T08:19:41.937Z"
   },
   {
    "duration": 6,
    "start_time": "2022-08-03T08:19:41.949Z"
   },
   {
    "duration": 9,
    "start_time": "2022-08-03T08:19:41.956Z"
   },
   {
    "duration": 3,
    "start_time": "2022-08-03T08:20:17.169Z"
   },
   {
    "duration": 5,
    "start_time": "2022-08-03T08:20:28.919Z"
   },
   {
    "duration": 4,
    "start_time": "2022-08-03T08:23:04.109Z"
   },
   {
    "duration": 4,
    "start_time": "2022-08-03T08:23:37.448Z"
   },
   {
    "duration": 9,
    "start_time": "2022-08-03T08:25:35.548Z"
   },
   {
    "duration": 4,
    "start_time": "2022-08-03T08:26:47.718Z"
   },
   {
    "duration": 9,
    "start_time": "2022-08-03T08:27:09.078Z"
   },
   {
    "duration": 1130,
    "start_time": "2022-08-03T08:30:11.504Z"
   },
   {
    "duration": 11,
    "start_time": "2022-08-03T08:30:20.248Z"
   },
   {
    "duration": 7,
    "start_time": "2022-08-03T08:30:33.149Z"
   },
   {
    "duration": 701,
    "start_time": "2022-08-03T08:35:18.758Z"
   },
   {
    "duration": 543,
    "start_time": "2022-08-03T08:35:29.747Z"
   },
   {
    "duration": 418,
    "start_time": "2022-08-03T08:35:44.248Z"
   },
   {
    "duration": 411,
    "start_time": "2022-08-03T08:36:57.216Z"
   },
   {
    "duration": 99,
    "start_time": "2022-08-03T08:43:02.557Z"
   },
   {
    "duration": 95,
    "start_time": "2022-08-03T08:43:09.622Z"
   },
   {
    "duration": 391,
    "start_time": "2022-08-03T08:43:28.177Z"
   },
   {
    "duration": 73,
    "start_time": "2022-08-03T08:43:28.570Z"
   },
   {
    "duration": 10,
    "start_time": "2022-08-03T08:43:28.645Z"
   },
   {
    "duration": 20,
    "start_time": "2022-08-03T08:43:28.657Z"
   },
   {
    "duration": 19,
    "start_time": "2022-08-03T08:43:28.680Z"
   },
   {
    "duration": 63,
    "start_time": "2022-08-03T08:43:28.701Z"
   },
   {
    "duration": 4,
    "start_time": "2022-08-03T08:43:28.765Z"
   },
   {
    "duration": 11,
    "start_time": "2022-08-03T08:43:28.771Z"
   },
   {
    "duration": 4,
    "start_time": "2022-08-03T08:43:28.784Z"
   },
   {
    "duration": 10,
    "start_time": "2022-08-03T08:43:28.790Z"
   },
   {
    "duration": 18,
    "start_time": "2022-08-03T08:43:28.802Z"
   },
   {
    "duration": 147,
    "start_time": "2022-08-03T08:43:28.822Z"
   },
   {
    "duration": 3,
    "start_time": "2022-08-03T08:43:28.972Z"
   },
   {
    "duration": 7,
    "start_time": "2022-08-03T08:43:28.979Z"
   },
   {
    "duration": 8,
    "start_time": "2022-08-03T08:43:28.988Z"
   },
   {
    "duration": 15,
    "start_time": "2022-08-03T08:43:28.998Z"
   },
   {
    "duration": 33,
    "start_time": "2022-08-03T08:43:29.015Z"
   },
   {
    "duration": 18,
    "start_time": "2022-08-03T08:43:29.051Z"
   },
   {
    "duration": 10,
    "start_time": "2022-08-03T08:43:29.071Z"
   },
   {
    "duration": 11,
    "start_time": "2022-08-03T08:43:29.084Z"
   },
   {
    "duration": 12,
    "start_time": "2022-08-03T08:43:29.098Z"
   },
   {
    "duration": 17,
    "start_time": "2022-08-03T08:43:29.112Z"
   },
   {
    "duration": 372,
    "start_time": "2022-08-03T08:44:48.177Z"
   },
   {
    "duration": 73,
    "start_time": "2022-08-03T08:44:48.552Z"
   },
   {
    "duration": 12,
    "start_time": "2022-08-03T08:44:48.627Z"
   },
   {
    "duration": 16,
    "start_time": "2022-08-03T08:44:48.642Z"
   },
   {
    "duration": 9,
    "start_time": "2022-08-03T08:44:48.660Z"
   },
   {
    "duration": 84,
    "start_time": "2022-08-03T08:44:48.672Z"
   },
   {
    "duration": 4,
    "start_time": "2022-08-03T08:44:48.757Z"
   },
   {
    "duration": 10,
    "start_time": "2022-08-03T08:44:48.762Z"
   },
   {
    "duration": 5,
    "start_time": "2022-08-03T08:44:48.773Z"
   },
   {
    "duration": 8,
    "start_time": "2022-08-03T08:44:48.780Z"
   },
   {
    "duration": 7,
    "start_time": "2022-08-03T08:44:48.791Z"
   },
   {
    "duration": 183,
    "start_time": "2022-08-03T08:44:48.801Z"
   },
   {
    "duration": 0,
    "start_time": "2022-08-03T08:44:48.986Z"
   },
   {
    "duration": 0,
    "start_time": "2022-08-03T08:44:48.987Z"
   },
   {
    "duration": 0,
    "start_time": "2022-08-03T08:44:48.989Z"
   },
   {
    "duration": 0,
    "start_time": "2022-08-03T08:44:48.990Z"
   },
   {
    "duration": 0,
    "start_time": "2022-08-03T08:44:48.992Z"
   },
   {
    "duration": 0,
    "start_time": "2022-08-03T08:44:48.993Z"
   },
   {
    "duration": 0,
    "start_time": "2022-08-03T08:44:48.995Z"
   },
   {
    "duration": 0,
    "start_time": "2022-08-03T08:44:48.997Z"
   },
   {
    "duration": 0,
    "start_time": "2022-08-03T08:44:48.998Z"
   },
   {
    "duration": 0,
    "start_time": "2022-08-03T08:44:48.999Z"
   },
   {
    "duration": 46,
    "start_time": "2022-08-03T08:48:53.337Z"
   },
   {
    "duration": 9,
    "start_time": "2022-08-03T08:49:31.724Z"
   },
   {
    "duration": 4,
    "start_time": "2022-08-03T08:50:07.229Z"
   },
   {
    "duration": 13,
    "start_time": "2022-08-03T08:51:29.825Z"
   },
   {
    "duration": 5,
    "start_time": "2022-08-03T08:51:33.729Z"
   },
   {
    "duration": 14,
    "start_time": "2022-08-03T08:52:07.821Z"
   },
   {
    "duration": 20,
    "start_time": "2022-08-03T08:52:45.821Z"
   },
   {
    "duration": 74,
    "start_time": "2022-08-03T08:52:48.039Z"
   },
   {
    "duration": 13,
    "start_time": "2022-08-03T08:52:51.629Z"
   },
   {
    "duration": 13,
    "start_time": "2022-08-03T08:54:35.390Z"
   },
   {
    "duration": 13,
    "start_time": "2022-08-03T08:54:42.060Z"
   },
   {
    "duration": 13,
    "start_time": "2022-08-03T08:54:49.269Z"
   },
   {
    "duration": 52,
    "start_time": "2022-08-03T08:56:39.680Z"
   },
   {
    "duration": 26,
    "start_time": "2022-08-03T08:56:43.500Z"
   },
   {
    "duration": 26,
    "start_time": "2022-08-03T08:56:56.450Z"
   },
   {
    "duration": 21,
    "start_time": "2022-08-03T09:00:10.902Z"
   },
   {
    "duration": 24,
    "start_time": "2022-08-03T09:00:18.824Z"
   },
   {
    "duration": 7,
    "start_time": "2022-08-03T09:02:25.831Z"
   },
   {
    "duration": 6,
    "start_time": "2022-08-03T09:02:29.730Z"
   },
   {
    "duration": 27,
    "start_time": "2022-08-03T09:02:56.145Z"
   },
   {
    "duration": 49,
    "start_time": "2022-08-03T09:03:25.992Z"
   },
   {
    "duration": 57,
    "start_time": "2022-08-03T09:03:34.862Z"
   },
   {
    "duration": 27,
    "start_time": "2022-08-03T09:03:56.042Z"
   },
   {
    "duration": 4,
    "start_time": "2022-08-03T09:08:39.302Z"
   },
   {
    "duration": 3,
    "start_time": "2022-08-03T09:08:57.941Z"
   },
   {
    "duration": 2,
    "start_time": "2022-08-03T09:09:06.323Z"
   },
   {
    "duration": 3,
    "start_time": "2022-08-03T09:09:21.553Z"
   },
   {
    "duration": 3,
    "start_time": "2022-08-03T09:09:26.046Z"
   },
   {
    "duration": 4,
    "start_time": "2022-08-03T09:09:53.423Z"
   },
   {
    "duration": 3,
    "start_time": "2022-08-03T09:10:17.991Z"
   },
   {
    "duration": 3,
    "start_time": "2022-08-03T09:10:21.025Z"
   },
   {
    "duration": 4,
    "start_time": "2022-08-03T09:14:10.321Z"
   },
   {
    "duration": 4,
    "start_time": "2022-08-03T09:14:12.961Z"
   },
   {
    "duration": 3,
    "start_time": "2022-08-03T09:14:24.682Z"
   },
   {
    "duration": 3,
    "start_time": "2022-08-03T09:14:27.925Z"
   },
   {
    "duration": 3,
    "start_time": "2022-08-03T09:14:30.992Z"
   },
   {
    "duration": 8,
    "start_time": "2022-08-03T09:15:54.915Z"
   },
   {
    "duration": 6,
    "start_time": "2022-08-03T09:16:07.472Z"
   },
   {
    "duration": 4,
    "start_time": "2022-08-03T09:18:14.922Z"
   },
   {
    "duration": 10,
    "start_time": "2022-08-03T09:18:20.642Z"
   },
   {
    "duration": 10,
    "start_time": "2022-08-03T09:18:31.162Z"
   },
   {
    "duration": 39,
    "start_time": "2022-08-03T09:18:46.923Z"
   },
   {
    "duration": 15,
    "start_time": "2022-08-03T09:19:02.392Z"
   },
   {
    "duration": 3,
    "start_time": "2022-08-03T09:19:41.192Z"
   },
   {
    "duration": 4,
    "start_time": "2022-08-03T09:19:46.272Z"
   },
   {
    "duration": 15,
    "start_time": "2022-08-03T09:19:47.972Z"
   },
   {
    "duration": 10,
    "start_time": "2022-08-03T09:19:59.752Z"
   },
   {
    "duration": 6,
    "start_time": "2022-08-03T09:20:35.733Z"
   },
   {
    "duration": 3,
    "start_time": "2022-08-03T09:26:55.277Z"
   },
   {
    "duration": 3,
    "start_time": "2022-08-03T09:27:02.677Z"
   },
   {
    "duration": 3,
    "start_time": "2022-08-03T09:27:17.937Z"
   },
   {
    "duration": 3,
    "start_time": "2022-08-03T09:27:22.621Z"
   },
   {
    "duration": 4,
    "start_time": "2022-08-03T09:27:26.336Z"
   },
   {
    "duration": 51,
    "start_time": "2022-08-03T09:27:37.876Z"
   },
   {
    "duration": 7,
    "start_time": "2022-08-03T09:28:10.919Z"
   },
   {
    "duration": 3,
    "start_time": "2022-08-03T09:28:17.486Z"
   },
   {
    "duration": 4,
    "start_time": "2022-08-03T09:32:15.624Z"
   },
   {
    "duration": 59,
    "start_time": "2022-08-03T09:32:20.684Z"
   },
   {
    "duration": 3,
    "start_time": "2022-08-03T09:32:31.554Z"
   },
   {
    "duration": 4,
    "start_time": "2022-08-03T09:32:59.614Z"
   },
   {
    "duration": 4,
    "start_time": "2022-08-03T09:35:43.783Z"
   },
   {
    "duration": 6,
    "start_time": "2022-08-03T09:36:05.006Z"
   },
   {
    "duration": 9,
    "start_time": "2022-08-03T09:37:48.097Z"
   },
   {
    "duration": 8,
    "start_time": "2022-08-03T09:37:58.706Z"
   },
   {
    "duration": 361,
    "start_time": "2022-08-03T09:38:29.072Z"
   },
   {
    "duration": 71,
    "start_time": "2022-08-03T09:38:29.435Z"
   },
   {
    "duration": 9,
    "start_time": "2022-08-03T09:38:29.508Z"
   },
   {
    "duration": 16,
    "start_time": "2022-08-03T09:38:29.518Z"
   },
   {
    "duration": 9,
    "start_time": "2022-08-03T09:38:29.535Z"
   },
   {
    "duration": 49,
    "start_time": "2022-08-03T09:38:29.545Z"
   },
   {
    "duration": 3,
    "start_time": "2022-08-03T09:38:29.596Z"
   },
   {
    "duration": 9,
    "start_time": "2022-08-03T09:38:29.600Z"
   },
   {
    "duration": 5,
    "start_time": "2022-08-03T09:38:29.610Z"
   },
   {
    "duration": 26,
    "start_time": "2022-08-03T09:38:29.617Z"
   },
   {
    "duration": 4,
    "start_time": "2022-08-03T09:38:29.645Z"
   },
   {
    "duration": 47,
    "start_time": "2022-08-03T09:38:29.650Z"
   },
   {
    "duration": 9,
    "start_time": "2022-08-03T09:38:29.699Z"
   },
   {
    "duration": 16,
    "start_time": "2022-08-03T09:38:29.709Z"
   },
   {
    "duration": 14,
    "start_time": "2022-08-03T09:38:29.738Z"
   },
   {
    "duration": 25,
    "start_time": "2022-08-03T09:38:29.753Z"
   },
   {
    "duration": 21,
    "start_time": "2022-08-03T09:38:29.780Z"
   },
   {
    "duration": 5,
    "start_time": "2022-08-03T09:38:29.803Z"
   },
   {
    "duration": 31,
    "start_time": "2022-08-03T09:38:29.809Z"
   },
   {
    "duration": 18,
    "start_time": "2022-08-03T09:38:29.842Z"
   },
   {
    "duration": 20,
    "start_time": "2022-08-03T09:38:29.862Z"
   },
   {
    "duration": 34,
    "start_time": "2022-08-03T09:38:29.884Z"
   },
   {
    "duration": 7,
    "start_time": "2022-08-03T09:39:28.471Z"
   },
   {
    "duration": 4,
    "start_time": "2022-08-03T09:39:38.832Z"
   },
   {
    "duration": 3,
    "start_time": "2022-08-03T09:39:46.541Z"
   },
   {
    "duration": 4,
    "start_time": "2022-08-03T09:41:59.481Z"
   },
   {
    "duration": 4,
    "start_time": "2022-08-03T09:42:04.571Z"
   },
   {
    "duration": 4,
    "start_time": "2022-08-03T09:42:16.851Z"
   },
   {
    "duration": 4,
    "start_time": "2022-08-03T09:42:28.041Z"
   },
   {
    "duration": 4,
    "start_time": "2022-08-03T09:43:19.881Z"
   },
   {
    "duration": 90,
    "start_time": "2022-08-03T09:43:52.481Z"
   },
   {
    "duration": 13,
    "start_time": "2022-08-03T09:44:02.880Z"
   },
   {
    "duration": 11,
    "start_time": "2022-08-03T09:44:35.122Z"
   },
   {
    "duration": 5,
    "start_time": "2022-08-03T09:45:41.424Z"
   },
   {
    "duration": 6,
    "start_time": "2022-08-03T09:46:20.358Z"
   },
   {
    "duration": 4,
    "start_time": "2022-08-03T09:46:56.829Z"
   },
   {
    "duration": 3,
    "start_time": "2022-08-03T09:47:27.729Z"
   },
   {
    "duration": 4,
    "start_time": "2022-08-03T09:47:46.334Z"
   },
   {
    "duration": 5,
    "start_time": "2022-08-03T09:47:50.580Z"
   },
   {
    "duration": 63,
    "start_time": "2022-08-03T09:49:06.550Z"
   },
   {
    "duration": 5,
    "start_time": "2022-08-03T09:49:16.931Z"
   },
   {
    "duration": 5,
    "start_time": "2022-08-03T09:49:19.230Z"
   },
   {
    "duration": 5,
    "start_time": "2022-08-03T09:49:24.390Z"
   },
   {
    "duration": 2,
    "start_time": "2022-08-03T09:49:41.071Z"
   },
   {
    "duration": 4,
    "start_time": "2022-08-03T09:49:59.260Z"
   },
   {
    "duration": 4,
    "start_time": "2022-08-03T09:50:11.750Z"
   },
   {
    "duration": 3,
    "start_time": "2022-08-03T09:50:13.215Z"
   },
   {
    "duration": 5,
    "start_time": "2022-08-03T09:50:52.614Z"
   },
   {
    "duration": 3,
    "start_time": "2022-08-03T09:50:53.740Z"
   },
   {
    "duration": 3,
    "start_time": "2022-08-03T09:51:13.015Z"
   },
   {
    "duration": 13,
    "start_time": "2022-08-03T09:51:14.819Z"
   },
   {
    "duration": 7,
    "start_time": "2022-08-03T09:51:15.330Z"
   },
   {
    "duration": 13,
    "start_time": "2022-08-03T09:51:35.920Z"
   },
   {
    "duration": 16,
    "start_time": "2022-08-03T09:51:40.252Z"
   },
   {
    "duration": 374,
    "start_time": "2022-08-03T09:52:01.375Z"
   },
   {
    "duration": 73,
    "start_time": "2022-08-03T09:52:01.750Z"
   },
   {
    "duration": 10,
    "start_time": "2022-08-03T09:52:01.825Z"
   },
   {
    "duration": 24,
    "start_time": "2022-08-03T09:52:01.837Z"
   },
   {
    "duration": 10,
    "start_time": "2022-08-03T09:52:01.863Z"
   },
   {
    "duration": 70,
    "start_time": "2022-08-03T09:52:01.875Z"
   },
   {
    "duration": 3,
    "start_time": "2022-08-03T09:52:01.947Z"
   },
   {
    "duration": 18,
    "start_time": "2022-08-03T09:52:01.951Z"
   },
   {
    "duration": 9,
    "start_time": "2022-08-03T09:52:01.970Z"
   },
   {
    "duration": 12,
    "start_time": "2022-08-03T09:52:01.980Z"
   },
   {
    "duration": 13,
    "start_time": "2022-08-03T09:52:01.994Z"
   },
   {
    "duration": 62,
    "start_time": "2022-08-03T09:52:02.008Z"
   },
   {
    "duration": 8,
    "start_time": "2022-08-03T09:52:02.072Z"
   },
   {
    "duration": 8,
    "start_time": "2022-08-03T09:52:02.082Z"
   },
   {
    "duration": 15,
    "start_time": "2022-08-03T09:52:02.092Z"
   },
   {
    "duration": 18,
    "start_time": "2022-08-03T09:52:02.108Z"
   },
   {
    "duration": 23,
    "start_time": "2022-08-03T09:52:02.127Z"
   },
   {
    "duration": 3,
    "start_time": "2022-08-03T09:52:02.151Z"
   },
   {
    "duration": 21,
    "start_time": "2022-08-03T09:52:02.156Z"
   },
   {
    "duration": 18,
    "start_time": "2022-08-03T09:52:02.178Z"
   },
   {
    "duration": 22,
    "start_time": "2022-08-03T09:52:02.197Z"
   },
   {
    "duration": 13,
    "start_time": "2022-08-03T09:52:02.220Z"
   },
   {
    "duration": 436,
    "start_time": "2023-03-14T17:28:09.401Z"
   },
   {
    "duration": 122,
    "start_time": "2023-03-14T17:28:09.838Z"
   },
   {
    "duration": 10,
    "start_time": "2023-03-14T17:28:09.962Z"
   },
   {
    "duration": 23,
    "start_time": "2023-03-14T17:28:09.973Z"
   },
   {
    "duration": 9,
    "start_time": "2023-03-14T17:28:09.998Z"
   },
   {
    "duration": 63,
    "start_time": "2023-03-14T17:28:10.008Z"
   },
   {
    "duration": 4,
    "start_time": "2023-03-14T17:28:10.073Z"
   },
   {
    "duration": 15,
    "start_time": "2023-03-14T17:28:10.079Z"
   },
   {
    "duration": 9,
    "start_time": "2023-03-14T17:28:10.096Z"
   },
   {
    "duration": 16,
    "start_time": "2023-03-14T17:28:10.106Z"
   },
   {
    "duration": 11,
    "start_time": "2023-03-14T17:28:10.123Z"
   },
   {
    "duration": 48,
    "start_time": "2023-03-14T17:28:10.136Z"
   },
   {
    "duration": 8,
    "start_time": "2023-03-14T17:28:10.185Z"
   },
   {
    "duration": 6,
    "start_time": "2023-03-14T17:28:10.195Z"
   },
   {
    "duration": 22,
    "start_time": "2023-03-14T17:28:10.203Z"
   },
   {
    "duration": 18,
    "start_time": "2023-03-14T17:28:10.227Z"
   },
   {
    "duration": 17,
    "start_time": "2023-03-14T17:28:10.246Z"
   },
   {
    "duration": 4,
    "start_time": "2023-03-14T17:28:10.265Z"
   },
   {
    "duration": 13,
    "start_time": "2023-03-14T17:28:10.271Z"
   },
   {
    "duration": 9,
    "start_time": "2023-03-14T17:28:10.285Z"
   },
   {
    "duration": 29,
    "start_time": "2023-03-14T17:28:10.296Z"
   },
   {
    "duration": 13,
    "start_time": "2023-03-14T17:28:10.327Z"
   },
   {
    "duration": 370,
    "start_time": "2023-03-14T17:31:09.384Z"
   },
   {
    "duration": 70,
    "start_time": "2023-03-14T17:31:09.756Z"
   },
   {
    "duration": 9,
    "start_time": "2023-03-14T17:31:09.828Z"
   },
   {
    "duration": 31,
    "start_time": "2023-03-14T17:31:09.838Z"
   },
   {
    "duration": 11,
    "start_time": "2023-03-14T17:31:09.871Z"
   },
   {
    "duration": 49,
    "start_time": "2023-03-14T17:31:09.884Z"
   },
   {
    "duration": 3,
    "start_time": "2023-03-14T17:31:09.935Z"
   },
   {
    "duration": 13,
    "start_time": "2023-03-14T17:31:09.939Z"
   },
   {
    "duration": 4,
    "start_time": "2023-03-14T17:31:09.953Z"
   },
   {
    "duration": 8,
    "start_time": "2023-03-14T17:31:09.958Z"
   },
   {
    "duration": 2,
    "start_time": "2023-03-14T17:31:09.968Z"
   },
   {
    "duration": 73,
    "start_time": "2023-03-14T17:31:09.972Z"
   },
   {
    "duration": 8,
    "start_time": "2023-03-14T17:31:10.047Z"
   },
   {
    "duration": 4,
    "start_time": "2023-03-14T17:31:10.057Z"
   },
   {
    "duration": 38,
    "start_time": "2023-03-14T17:31:10.062Z"
   },
   {
    "duration": 22,
    "start_time": "2023-03-14T17:31:10.102Z"
   },
   {
    "duration": 20,
    "start_time": "2023-03-14T17:31:10.125Z"
   },
   {
    "duration": 3,
    "start_time": "2023-03-14T17:31:10.147Z"
   },
   {
    "duration": 17,
    "start_time": "2023-03-14T17:31:10.152Z"
   },
   {
    "duration": 10,
    "start_time": "2023-03-14T17:31:10.171Z"
   },
   {
    "duration": 3,
    "start_time": "2023-03-14T17:31:10.183Z"
   },
   {
    "duration": 26,
    "start_time": "2023-03-14T17:31:10.188Z"
   }
  ],
  "colab": {
   "name": "dpp_template_part1.ipynb",
   "provenance": []
  },
  "kernelspec": {
   "display_name": "Python 3 (ipykernel)",
   "language": "python",
   "name": "python3"
  },
  "language_info": {
   "codemirror_mode": {
    "name": "ipython",
    "version": 3
   },
   "file_extension": ".py",
   "mimetype": "text/x-python",
   "name": "python",
   "nbconvert_exporter": "python",
   "pygments_lexer": "ipython3",
   "version": "3.9.12"
  },
  "toc": {
   "base_numbering": 1,
   "nav_menu": {},
   "number_sections": true,
   "sideBar": true,
   "skip_h1_title": true,
   "title_cell": "Table of Contents",
   "title_sidebar": "Contents",
   "toc_cell": false,
   "toc_position": {},
   "toc_section_display": true,
   "toc_window_display": false
  }
 },
 "nbformat": 4,
 "nbformat_minor": 5
}
