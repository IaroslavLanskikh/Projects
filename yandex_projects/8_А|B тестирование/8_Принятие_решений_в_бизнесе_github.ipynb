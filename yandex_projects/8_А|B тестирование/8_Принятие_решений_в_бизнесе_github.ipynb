{
 "cells": [
  {
   "cell_type": "code",
   "execution_count": 1,
   "metadata": {},
   "outputs": [],
   "source": [
    "import pandas as pd\n",
    "import datetime as dt\n",
    "import numpy as np\n",
    "import matplotlib.pyplot as plt\n",
    "import scipy.stats as stats"
   ]
  },
  {
   "cell_type": "code",
   "execution_count": 2,
   "metadata": {},
   "outputs": [],
   "source": [
    "try:\n",
    "    hypothesis = pd.read_csv(r'C:\\all\\Study\\Practicum\\Module_2\\Принятие решений в бизнесе\\project\\hypothesis.csv')\n",
    "    orders = pd.read_csv(r'C:\\all\\Study\\Practicum\\Module_2\\Принятие решений в бизнесе\\project\\orders.csv')\n",
    "    visitors = pd.read_csv(r'C:\\all\\Study\\Practicum\\Module_2\\Принятие решений в бизнесе\\project\\visitors.csv')\n",
    "except:\n",
    "    hypothesis = pd.read_csv('/datasets/hypothesis.csv')\n",
    "    orders = pd.read_csv('/datasets/orders.csv')\n",
    "    visitors = pd.read_csv('/datasets/visitors.csv')"
   ]
  },
  {
   "cell_type": "code",
   "execution_count": 3,
   "metadata": {},
   "outputs": [],
   "source": [
    "pd.set_option('display.max_rows', None)\n",
    "pd.set_option('display.max_columns', None)\n",
    "pd.set_option('display.max_colwidth', None)"
   ]
  },
  {
   "cell_type": "markdown",
   "metadata": {},
   "source": [
    "# Описание проекта\n",
    "### Вы — аналитик крупного интернет-магазина. Вместе с отделом маркетинга вы подготовили список гипотез для увеличения выручки. Приоритизируйте гипотезы, запустите A/B-тест и проанализируйте результаты."
   ]
  },
  {
   "cell_type": "markdown",
   "metadata": {},
   "source": [
    "# Часть 1. Приоритизация гипотез."
   ]
  },
  {
   "cell_type": "markdown",
   "metadata": {},
   "source": [
    "## Примените фреймворк ICE для приоритизации гипотез. Отсортируйте их по убыванию приоритета."
   ]
  },
  {
   "cell_type": "code",
   "execution_count": 4,
   "metadata": {},
   "outputs": [
    {
     "data": {
      "text/html": [
       "<div>\n",
       "<style scoped>\n",
       "    .dataframe tbody tr th:only-of-type {\n",
       "        vertical-align: middle;\n",
       "    }\n",
       "\n",
       "    .dataframe tbody tr th {\n",
       "        vertical-align: top;\n",
       "    }\n",
       "\n",
       "    .dataframe thead th {\n",
       "        text-align: right;\n",
       "    }\n",
       "</style>\n",
       "<table border=\"1\" class=\"dataframe\">\n",
       "  <thead>\n",
       "    <tr style=\"text-align: right;\">\n",
       "      <th></th>\n",
       "      <th>hypothesis</th>\n",
       "      <th>reach</th>\n",
       "      <th>impact</th>\n",
       "      <th>confidence</th>\n",
       "      <th>efforts</th>\n",
       "    </tr>\n",
       "  </thead>\n",
       "  <tbody>\n",
       "    <tr>\n",
       "      <th>0</th>\n",
       "      <td>Добавить два новых канала привлечения трафика, что позволит привлекать на 30% больше пользователей</td>\n",
       "      <td>3</td>\n",
       "      <td>10</td>\n",
       "      <td>8</td>\n",
       "      <td>6</td>\n",
       "    </tr>\n",
       "    <tr>\n",
       "      <th>1</th>\n",
       "      <td>Запустить собственную службу доставки, что сократит срок доставки заказов</td>\n",
       "      <td>2</td>\n",
       "      <td>5</td>\n",
       "      <td>4</td>\n",
       "      <td>10</td>\n",
       "    </tr>\n",
       "    <tr>\n",
       "      <th>2</th>\n",
       "      <td>Добавить блоки рекомендаций товаров на сайт интернет магазина, чтобы повысить конверсию и средний чек заказа</td>\n",
       "      <td>8</td>\n",
       "      <td>3</td>\n",
       "      <td>7</td>\n",
       "      <td>3</td>\n",
       "    </tr>\n",
       "    <tr>\n",
       "      <th>3</th>\n",
       "      <td>Изменить структура категорий, что увеличит конверсию, т.к. пользователи быстрее найдут нужный товар</td>\n",
       "      <td>8</td>\n",
       "      <td>3</td>\n",
       "      <td>3</td>\n",
       "      <td>8</td>\n",
       "    </tr>\n",
       "    <tr>\n",
       "      <th>4</th>\n",
       "      <td>Изменить цвет фона главной страницы, чтобы увеличить вовлеченность пользователей</td>\n",
       "      <td>3</td>\n",
       "      <td>1</td>\n",
       "      <td>1</td>\n",
       "      <td>1</td>\n",
       "    </tr>\n",
       "    <tr>\n",
       "      <th>5</th>\n",
       "      <td>Добавить страницу отзывов клиентов о магазине, что позволит увеличить количество заказов</td>\n",
       "      <td>3</td>\n",
       "      <td>2</td>\n",
       "      <td>2</td>\n",
       "      <td>3</td>\n",
       "    </tr>\n",
       "    <tr>\n",
       "      <th>6</th>\n",
       "      <td>Показать на главной странице баннеры с актуальными акциями и распродажами, чтобы увеличить конверсию</td>\n",
       "      <td>5</td>\n",
       "      <td>3</td>\n",
       "      <td>8</td>\n",
       "      <td>3</td>\n",
       "    </tr>\n",
       "    <tr>\n",
       "      <th>7</th>\n",
       "      <td>Добавить форму подписки на все основные страницы, чтобы собрать базу клиентов для email-рассылок</td>\n",
       "      <td>10</td>\n",
       "      <td>7</td>\n",
       "      <td>8</td>\n",
       "      <td>5</td>\n",
       "    </tr>\n",
       "    <tr>\n",
       "      <th>8</th>\n",
       "      <td>Запустить акцию, дающую скидку на товар в день рождения</td>\n",
       "      <td>1</td>\n",
       "      <td>9</td>\n",
       "      <td>9</td>\n",
       "      <td>5</td>\n",
       "    </tr>\n",
       "  </tbody>\n",
       "</table>\n",
       "</div>"
      ],
      "text/plain": [
       "                                                                                                     hypothesis  \\\n",
       "0            Добавить два новых канала привлечения трафика, что позволит привлекать на 30% больше пользователей   \n",
       "1                                     Запустить собственную службу доставки, что сократит срок доставки заказов   \n",
       "2  Добавить блоки рекомендаций товаров на сайт интернет магазина, чтобы повысить конверсию и средний чек заказа   \n",
       "3           Изменить структура категорий, что увеличит конверсию, т.к. пользователи быстрее найдут нужный товар   \n",
       "4                              Изменить цвет фона главной страницы, чтобы увеличить вовлеченность пользователей   \n",
       "5                      Добавить страницу отзывов клиентов о магазине, что позволит увеличить количество заказов   \n",
       "6          Показать на главной странице баннеры с актуальными акциями и распродажами, чтобы увеличить конверсию   \n",
       "7              Добавить форму подписки на все основные страницы, чтобы собрать базу клиентов для email-рассылок   \n",
       "8                                                       Запустить акцию, дающую скидку на товар в день рождения   \n",
       "\n",
       "   reach  impact  confidence  efforts  \n",
       "0      3      10           8        6  \n",
       "1      2       5           4       10  \n",
       "2      8       3           7        3  \n",
       "3      8       3           3        8  \n",
       "4      3       1           1        1  \n",
       "5      3       2           2        3  \n",
       "6      5       3           8        3  \n",
       "7     10       7           8        5  \n",
       "8      1       9           9        5  "
      ]
     },
     "execution_count": 4,
     "metadata": {},
     "output_type": "execute_result"
    }
   ],
   "source": [
    "hypothesis.columns = ['hypothesis','reach','impact','confidence','efforts']\n",
    "hypothesis"
   ]
  },
  {
   "cell_type": "code",
   "execution_count": 5,
   "metadata": {},
   "outputs": [
    {
     "data": {
      "text/html": [
       "<div>\n",
       "<style scoped>\n",
       "    .dataframe tbody tr th:only-of-type {\n",
       "        vertical-align: middle;\n",
       "    }\n",
       "\n",
       "    .dataframe tbody tr th {\n",
       "        vertical-align: top;\n",
       "    }\n",
       "\n",
       "    .dataframe thead th {\n",
       "        text-align: right;\n",
       "    }\n",
       "</style>\n",
       "<table border=\"1\" class=\"dataframe\">\n",
       "  <thead>\n",
       "    <tr style=\"text-align: right;\">\n",
       "      <th></th>\n",
       "      <th>hypothesis</th>\n",
       "      <th>reach</th>\n",
       "      <th>impact</th>\n",
       "      <th>confidence</th>\n",
       "      <th>efforts</th>\n",
       "      <th>ICE</th>\n",
       "    </tr>\n",
       "  </thead>\n",
       "  <tbody>\n",
       "    <tr>\n",
       "      <th>8</th>\n",
       "      <td>Запустить акцию, дающую скидку на товар в день рождения</td>\n",
       "      <td>1</td>\n",
       "      <td>9</td>\n",
       "      <td>9</td>\n",
       "      <td>5</td>\n",
       "      <td>16.200000</td>\n",
       "    </tr>\n",
       "    <tr>\n",
       "      <th>0</th>\n",
       "      <td>Добавить два новых канала привлечения трафика, что позволит привлекать на 30% больше пользователей</td>\n",
       "      <td>3</td>\n",
       "      <td>10</td>\n",
       "      <td>8</td>\n",
       "      <td>6</td>\n",
       "      <td>13.333333</td>\n",
       "    </tr>\n",
       "    <tr>\n",
       "      <th>7</th>\n",
       "      <td>Добавить форму подписки на все основные страницы, чтобы собрать базу клиентов для email-рассылок</td>\n",
       "      <td>10</td>\n",
       "      <td>7</td>\n",
       "      <td>8</td>\n",
       "      <td>5</td>\n",
       "      <td>11.200000</td>\n",
       "    </tr>\n",
       "    <tr>\n",
       "      <th>6</th>\n",
       "      <td>Показать на главной странице баннеры с актуальными акциями и распродажами, чтобы увеличить конверсию</td>\n",
       "      <td>5</td>\n",
       "      <td>3</td>\n",
       "      <td>8</td>\n",
       "      <td>3</td>\n",
       "      <td>8.000000</td>\n",
       "    </tr>\n",
       "    <tr>\n",
       "      <th>2</th>\n",
       "      <td>Добавить блоки рекомендаций товаров на сайт интернет магазина, чтобы повысить конверсию и средний чек заказа</td>\n",
       "      <td>8</td>\n",
       "      <td>3</td>\n",
       "      <td>7</td>\n",
       "      <td>3</td>\n",
       "      <td>7.000000</td>\n",
       "    </tr>\n",
       "    <tr>\n",
       "      <th>1</th>\n",
       "      <td>Запустить собственную службу доставки, что сократит срок доставки заказов</td>\n",
       "      <td>2</td>\n",
       "      <td>5</td>\n",
       "      <td>4</td>\n",
       "      <td>10</td>\n",
       "      <td>2.000000</td>\n",
       "    </tr>\n",
       "    <tr>\n",
       "      <th>5</th>\n",
       "      <td>Добавить страницу отзывов клиентов о магазине, что позволит увеличить количество заказов</td>\n",
       "      <td>3</td>\n",
       "      <td>2</td>\n",
       "      <td>2</td>\n",
       "      <td>3</td>\n",
       "      <td>1.333333</td>\n",
       "    </tr>\n",
       "    <tr>\n",
       "      <th>3</th>\n",
       "      <td>Изменить структура категорий, что увеличит конверсию, т.к. пользователи быстрее найдут нужный товар</td>\n",
       "      <td>8</td>\n",
       "      <td>3</td>\n",
       "      <td>3</td>\n",
       "      <td>8</td>\n",
       "      <td>1.125000</td>\n",
       "    </tr>\n",
       "    <tr>\n",
       "      <th>4</th>\n",
       "      <td>Изменить цвет фона главной страницы, чтобы увеличить вовлеченность пользователей</td>\n",
       "      <td>3</td>\n",
       "      <td>1</td>\n",
       "      <td>1</td>\n",
       "      <td>1</td>\n",
       "      <td>1.000000</td>\n",
       "    </tr>\n",
       "  </tbody>\n",
       "</table>\n",
       "</div>"
      ],
      "text/plain": [
       "                                                                                                     hypothesis  \\\n",
       "8                                                       Запустить акцию, дающую скидку на товар в день рождения   \n",
       "0            Добавить два новых канала привлечения трафика, что позволит привлекать на 30% больше пользователей   \n",
       "7              Добавить форму подписки на все основные страницы, чтобы собрать базу клиентов для email-рассылок   \n",
       "6          Показать на главной странице баннеры с актуальными акциями и распродажами, чтобы увеличить конверсию   \n",
       "2  Добавить блоки рекомендаций товаров на сайт интернет магазина, чтобы повысить конверсию и средний чек заказа   \n",
       "1                                     Запустить собственную службу доставки, что сократит срок доставки заказов   \n",
       "5                      Добавить страницу отзывов клиентов о магазине, что позволит увеличить количество заказов   \n",
       "3           Изменить структура категорий, что увеличит конверсию, т.к. пользователи быстрее найдут нужный товар   \n",
       "4                              Изменить цвет фона главной страницы, чтобы увеличить вовлеченность пользователей   \n",
       "\n",
       "   reach  impact  confidence  efforts        ICE  \n",
       "8      1       9           9        5  16.200000  \n",
       "0      3      10           8        6  13.333333  \n",
       "7     10       7           8        5  11.200000  \n",
       "6      5       3           8        3   8.000000  \n",
       "2      8       3           7        3   7.000000  \n",
       "1      2       5           4       10   2.000000  \n",
       "5      3       2           2        3   1.333333  \n",
       "3      8       3           3        8   1.125000  \n",
       "4      3       1           1        1   1.000000  "
      ]
     },
     "execution_count": 5,
     "metadata": {},
     "output_type": "execute_result"
    }
   ],
   "source": [
    "hypothesis['ICE'] =  (\n",
    "    ( hypothesis['impact'] * hypothesis['confidence'] ) / hypothesis['efforts']\n",
    ")\n",
    "hypothesis.sort_values(by='ICE',ascending=False)"
   ]
  },
  {
   "cell_type": "markdown",
   "metadata": {},
   "source": [
    "Используя метод ICE, по убыванию расположились следующие гипотезы: 8,0,7"
   ]
  },
  {
   "cell_type": "markdown",
   "metadata": {},
   "source": [
    "## Примените фреймворк RICE для приоритизации гипотез. Отсортируйте их по убыванию приоритета."
   ]
  },
  {
   "cell_type": "code",
   "execution_count": 6,
   "metadata": {},
   "outputs": [
    {
     "data": {
      "text/html": [
       "<div>\n",
       "<style scoped>\n",
       "    .dataframe tbody tr th:only-of-type {\n",
       "        vertical-align: middle;\n",
       "    }\n",
       "\n",
       "    .dataframe tbody tr th {\n",
       "        vertical-align: top;\n",
       "    }\n",
       "\n",
       "    .dataframe thead th {\n",
       "        text-align: right;\n",
       "    }\n",
       "</style>\n",
       "<table border=\"1\" class=\"dataframe\">\n",
       "  <thead>\n",
       "    <tr style=\"text-align: right;\">\n",
       "      <th></th>\n",
       "      <th>hypothesis</th>\n",
       "      <th>reach</th>\n",
       "      <th>impact</th>\n",
       "      <th>confidence</th>\n",
       "      <th>efforts</th>\n",
       "      <th>ICE</th>\n",
       "      <th>RICE</th>\n",
       "    </tr>\n",
       "  </thead>\n",
       "  <tbody>\n",
       "    <tr>\n",
       "      <th>7</th>\n",
       "      <td>Добавить форму подписки на все основные страницы, чтобы собрать базу клиентов для email-рассылок</td>\n",
       "      <td>10</td>\n",
       "      <td>7</td>\n",
       "      <td>8</td>\n",
       "      <td>5</td>\n",
       "      <td>11.200000</td>\n",
       "      <td>112.0</td>\n",
       "    </tr>\n",
       "    <tr>\n",
       "      <th>2</th>\n",
       "      <td>Добавить блоки рекомендаций товаров на сайт интернет магазина, чтобы повысить конверсию и средний чек заказа</td>\n",
       "      <td>8</td>\n",
       "      <td>3</td>\n",
       "      <td>7</td>\n",
       "      <td>3</td>\n",
       "      <td>7.000000</td>\n",
       "      <td>56.0</td>\n",
       "    </tr>\n",
       "    <tr>\n",
       "      <th>0</th>\n",
       "      <td>Добавить два новых канала привлечения трафика, что позволит привлекать на 30% больше пользователей</td>\n",
       "      <td>3</td>\n",
       "      <td>10</td>\n",
       "      <td>8</td>\n",
       "      <td>6</td>\n",
       "      <td>13.333333</td>\n",
       "      <td>40.0</td>\n",
       "    </tr>\n",
       "    <tr>\n",
       "      <th>6</th>\n",
       "      <td>Показать на главной странице баннеры с актуальными акциями и распродажами, чтобы увеличить конверсию</td>\n",
       "      <td>5</td>\n",
       "      <td>3</td>\n",
       "      <td>8</td>\n",
       "      <td>3</td>\n",
       "      <td>8.000000</td>\n",
       "      <td>40.0</td>\n",
       "    </tr>\n",
       "    <tr>\n",
       "      <th>8</th>\n",
       "      <td>Запустить акцию, дающую скидку на товар в день рождения</td>\n",
       "      <td>1</td>\n",
       "      <td>9</td>\n",
       "      <td>9</td>\n",
       "      <td>5</td>\n",
       "      <td>16.200000</td>\n",
       "      <td>16.2</td>\n",
       "    </tr>\n",
       "    <tr>\n",
       "      <th>3</th>\n",
       "      <td>Изменить структура категорий, что увеличит конверсию, т.к. пользователи быстрее найдут нужный товар</td>\n",
       "      <td>8</td>\n",
       "      <td>3</td>\n",
       "      <td>3</td>\n",
       "      <td>8</td>\n",
       "      <td>1.125000</td>\n",
       "      <td>9.0</td>\n",
       "    </tr>\n",
       "    <tr>\n",
       "      <th>1</th>\n",
       "      <td>Запустить собственную службу доставки, что сократит срок доставки заказов</td>\n",
       "      <td>2</td>\n",
       "      <td>5</td>\n",
       "      <td>4</td>\n",
       "      <td>10</td>\n",
       "      <td>2.000000</td>\n",
       "      <td>4.0</td>\n",
       "    </tr>\n",
       "    <tr>\n",
       "      <th>5</th>\n",
       "      <td>Добавить страницу отзывов клиентов о магазине, что позволит увеличить количество заказов</td>\n",
       "      <td>3</td>\n",
       "      <td>2</td>\n",
       "      <td>2</td>\n",
       "      <td>3</td>\n",
       "      <td>1.333333</td>\n",
       "      <td>4.0</td>\n",
       "    </tr>\n",
       "    <tr>\n",
       "      <th>4</th>\n",
       "      <td>Изменить цвет фона главной страницы, чтобы увеличить вовлеченность пользователей</td>\n",
       "      <td>3</td>\n",
       "      <td>1</td>\n",
       "      <td>1</td>\n",
       "      <td>1</td>\n",
       "      <td>1.000000</td>\n",
       "      <td>3.0</td>\n",
       "    </tr>\n",
       "  </tbody>\n",
       "</table>\n",
       "</div>"
      ],
      "text/plain": [
       "                                                                                                     hypothesis  \\\n",
       "7              Добавить форму подписки на все основные страницы, чтобы собрать базу клиентов для email-рассылок   \n",
       "2  Добавить блоки рекомендаций товаров на сайт интернет магазина, чтобы повысить конверсию и средний чек заказа   \n",
       "0            Добавить два новых канала привлечения трафика, что позволит привлекать на 30% больше пользователей   \n",
       "6          Показать на главной странице баннеры с актуальными акциями и распродажами, чтобы увеличить конверсию   \n",
       "8                                                       Запустить акцию, дающую скидку на товар в день рождения   \n",
       "3           Изменить структура категорий, что увеличит конверсию, т.к. пользователи быстрее найдут нужный товар   \n",
       "1                                     Запустить собственную службу доставки, что сократит срок доставки заказов   \n",
       "5                      Добавить страницу отзывов клиентов о магазине, что позволит увеличить количество заказов   \n",
       "4                              Изменить цвет фона главной страницы, чтобы увеличить вовлеченность пользователей   \n",
       "\n",
       "   reach  impact  confidence  efforts        ICE   RICE  \n",
       "7     10       7           8        5  11.200000  112.0  \n",
       "2      8       3           7        3   7.000000   56.0  \n",
       "0      3      10           8        6  13.333333   40.0  \n",
       "6      5       3           8        3   8.000000   40.0  \n",
       "8      1       9           9        5  16.200000   16.2  \n",
       "3      8       3           3        8   1.125000    9.0  \n",
       "1      2       5           4       10   2.000000    4.0  \n",
       "5      3       2           2        3   1.333333    4.0  \n",
       "4      3       1           1        1   1.000000    3.0  "
      ]
     },
     "execution_count": 6,
     "metadata": {},
     "output_type": "execute_result"
    }
   ],
   "source": [
    "hypothesis['RICE'] =  (\n",
    "    ( hypothesis['reach'] * hypothesis['impact'] * hypothesis['confidence'] ) / hypothesis['efforts']\n",
    ")\n",
    "hypothesis.sort_values(by='RICE',ascending=False)"
   ]
  },
  {
   "cell_type": "markdown",
   "metadata": {},
   "source": [
    "Используя метод RICE, по убыванию расположились следующие гипотезы: 7,2,0"
   ]
  },
  {
   "cell_type": "markdown",
   "metadata": {},
   "source": [
    "### Укажите, как изменилась приоритизация гипотез при применении RICE вместо ICE. Объясните, почему так произошло."
   ]
  },
  {
   "cell_type": "markdown",
   "metadata": {},
   "source": [
    "При применении метода RICE высший приоритет оказался у гипотезы под номером 7, которая при при применении метода ICE была лишь на 3-м месте. Случилось это из-за параметра Reach (охват), который у гипотезы под номером 7 составляет целых 10 единиц. </p>\n",
    "Гипотеза под номером 8, которая заняла первую строку при применении метода ICE, спустилась на 5-ую позицию. Поскольку её показатель Reach составил лишь 1."
   ]
  },
  {
   "cell_type": "markdown",
   "metadata": {},
   "source": [
    "<div class=\"alert alert-block alert-info\">\n",
    "    \n",
    "### Комментарий студента_V1: \n",
    "\n",
    "Первая по приоритету гипотеза по методу ICE - Запустить акцию, дающую скидку на товар в день рождения. Но поскольку данная гипотеза затрагивает лишь небольшое количество пользователей, по методу RICE (который учитывает и количество пользователей на которых повлияет изменение) она покидает первое место по приоритету.\n",
    "Первая по приоритету гипотеза по методу RICE -  Добавить форму подписки на все основные страницы, чтобы собрать базу клиентов для email-рассылок. Затрагивает Всех пользователей, обладает показателями impact, confidence 7,8 соответственно, поэтому и выбралась эта гипотеза на первое место по приоритету. \n",
    "\n",
    "</div>"
   ]
  },
  {
   "cell_type": "markdown",
   "metadata": {},
   "source": [
    "# Часть 2. Анализ A/B-теста\n"
   ]
  },
  {
   "cell_type": "code",
   "execution_count": 7,
   "metadata": {},
   "outputs": [],
   "source": [
    "orders['date'] = orders['date'].map(\n",
    "    lambda x: dt.datetime.strptime(x, '%Y-%m-%d')\n",
    ")\n",
    "visitors['date'] = visitors['date'].map(\n",
    "    lambda x: dt.datetime.strptime(x, '%Y-%m-%d')\n",
    ")"
   ]
  },
  {
   "cell_type": "code",
   "execution_count": 8,
   "metadata": {},
   "outputs": [
    {
     "data": {
      "text/html": [
       "<div>\n",
       "<style scoped>\n",
       "    .dataframe tbody tr th:only-of-type {\n",
       "        vertical-align: middle;\n",
       "    }\n",
       "\n",
       "    .dataframe tbody tr th {\n",
       "        vertical-align: top;\n",
       "    }\n",
       "\n",
       "    .dataframe thead th {\n",
       "        text-align: right;\n",
       "    }\n",
       "</style>\n",
       "<table border=\"1\" class=\"dataframe\">\n",
       "  <thead>\n",
       "    <tr style=\"text-align: right;\">\n",
       "      <th></th>\n",
       "      <th>transactionId</th>\n",
       "      <th>visitorId</th>\n",
       "      <th>date</th>\n",
       "      <th>revenue</th>\n",
       "      <th>group</th>\n",
       "    </tr>\n",
       "  </thead>\n",
       "  <tbody>\n",
       "    <tr>\n",
       "      <th>0</th>\n",
       "      <td>3667963787</td>\n",
       "      <td>3312258926</td>\n",
       "      <td>2019-08-15</td>\n",
       "      <td>1650</td>\n",
       "      <td>B</td>\n",
       "    </tr>\n",
       "    <tr>\n",
       "      <th>1</th>\n",
       "      <td>2804400009</td>\n",
       "      <td>3642806036</td>\n",
       "      <td>2019-08-15</td>\n",
       "      <td>730</td>\n",
       "      <td>B</td>\n",
       "    </tr>\n",
       "    <tr>\n",
       "      <th>2</th>\n",
       "      <td>2961555356</td>\n",
       "      <td>4069496402</td>\n",
       "      <td>2019-08-15</td>\n",
       "      <td>400</td>\n",
       "      <td>A</td>\n",
       "    </tr>\n",
       "    <tr>\n",
       "      <th>3</th>\n",
       "      <td>3797467345</td>\n",
       "      <td>1196621759</td>\n",
       "      <td>2019-08-15</td>\n",
       "      <td>9759</td>\n",
       "      <td>B</td>\n",
       "    </tr>\n",
       "    <tr>\n",
       "      <th>4</th>\n",
       "      <td>2282983706</td>\n",
       "      <td>2322279887</td>\n",
       "      <td>2019-08-15</td>\n",
       "      <td>2308</td>\n",
       "      <td>B</td>\n",
       "    </tr>\n",
       "  </tbody>\n",
       "</table>\n",
       "</div>"
      ],
      "text/plain": [
       "   transactionId   visitorId       date  revenue group\n",
       "0     3667963787  3312258926 2019-08-15     1650     B\n",
       "1     2804400009  3642806036 2019-08-15      730     B\n",
       "2     2961555356  4069496402 2019-08-15      400     A\n",
       "3     3797467345  1196621759 2019-08-15     9759     B\n",
       "4     2282983706  2322279887 2019-08-15     2308     B"
      ]
     },
     "metadata": {},
     "output_type": "display_data"
    },
    {
     "data": {
      "text/html": [
       "<div>\n",
       "<style scoped>\n",
       "    .dataframe tbody tr th:only-of-type {\n",
       "        vertical-align: middle;\n",
       "    }\n",
       "\n",
       "    .dataframe tbody tr th {\n",
       "        vertical-align: top;\n",
       "    }\n",
       "\n",
       "    .dataframe thead th {\n",
       "        text-align: right;\n",
       "    }\n",
       "</style>\n",
       "<table border=\"1\" class=\"dataframe\">\n",
       "  <thead>\n",
       "    <tr style=\"text-align: right;\">\n",
       "      <th></th>\n",
       "      <th>date</th>\n",
       "      <th>group</th>\n",
       "      <th>visitors</th>\n",
       "    </tr>\n",
       "  </thead>\n",
       "  <tbody>\n",
       "    <tr>\n",
       "      <th>0</th>\n",
       "      <td>2019-08-01</td>\n",
       "      <td>A</td>\n",
       "      <td>719</td>\n",
       "    </tr>\n",
       "    <tr>\n",
       "      <th>1</th>\n",
       "      <td>2019-08-02</td>\n",
       "      <td>A</td>\n",
       "      <td>619</td>\n",
       "    </tr>\n",
       "    <tr>\n",
       "      <th>2</th>\n",
       "      <td>2019-08-03</td>\n",
       "      <td>A</td>\n",
       "      <td>507</td>\n",
       "    </tr>\n",
       "    <tr>\n",
       "      <th>3</th>\n",
       "      <td>2019-08-04</td>\n",
       "      <td>A</td>\n",
       "      <td>717</td>\n",
       "    </tr>\n",
       "    <tr>\n",
       "      <th>4</th>\n",
       "      <td>2019-08-05</td>\n",
       "      <td>A</td>\n",
       "      <td>756</td>\n",
       "    </tr>\n",
       "  </tbody>\n",
       "</table>\n",
       "</div>"
      ],
      "text/plain": [
       "        date group  visitors\n",
       "0 2019-08-01     A       719\n",
       "1 2019-08-02     A       619\n",
       "2 2019-08-03     A       507\n",
       "3 2019-08-04     A       717\n",
       "4 2019-08-05     A       756"
      ]
     },
     "execution_count": 8,
     "metadata": {},
     "output_type": "execute_result"
    }
   ],
   "source": [
    "display(orders.head())\n",
    "visitors.head()"
   ]
  },
  {
   "cell_type": "markdown",
   "metadata": {},
   "source": [
    "### Проверка на явные дубликаты"
   ]
  },
  {
   "cell_type": "code",
   "execution_count": 9,
   "metadata": {},
   "outputs": [
    {
     "data": {
      "text/plain": [
       "0"
      ]
     },
     "metadata": {},
     "output_type": "display_data"
    },
    {
     "data": {
      "text/plain": [
       "0"
      ]
     },
     "execution_count": 9,
     "metadata": {},
     "output_type": "execute_result"
    }
   ],
   "source": [
    "display(orders.duplicated().sum())\n",
    "visitors.duplicated().sum()"
   ]
  },
  {
   "cell_type": "markdown",
   "metadata": {},
   "source": [
    "### Проверю правильно ли были распределены пользователи на группы. Посмотрю, чтобы не было одинаковых visitorId в группах."
   ]
  },
  {
   "cell_type": "code",
   "execution_count": 10,
   "metadata": {},
   "outputs": [],
   "source": [
    "checkA = orders.query('group == \"A\"')['visitorId']"
   ]
  },
  {
   "cell_type": "code",
   "execution_count": 11,
   "metadata": {},
   "outputs": [],
   "source": [
    "checkB = orders.query('group == \"B\"')['visitorId']"
   ]
  },
  {
   "cell_type": "code",
   "execution_count": 12,
   "metadata": {},
   "outputs": [
    {
     "data": {
      "text/plain": [
       "58"
      ]
     },
     "execution_count": 12,
     "metadata": {},
     "output_type": "execute_result"
    }
   ],
   "source": [
    "intersection = set (checkA) & set (checkB)\n",
    "len(intersection)"
   ]
  },
  {
   "cell_type": "code",
   "execution_count": 13,
   "metadata": {},
   "outputs": [
    {
     "data": {
      "text/plain": [
       "{8300375,\n",
       " 199603092,\n",
       " 232979603,\n",
       " 237748145,\n",
       " 276558944,\n",
       " 351125977,\n",
       " 393266494,\n",
       " 457167155,\n",
       " 471551937,\n",
       " 477780734,\n",
       " 818047933,\n",
       " 963407295,\n",
       " 1230306981,\n",
       " 1294878855,\n",
       " 1316129916,\n",
       " 1333886533,\n",
       " 1404934699,\n",
       " 1602967004,\n",
       " 1614305549,\n",
       " 1648269707,\n",
       " 1668030113,\n",
       " 1738359350,\n",
       " 1801183820,\n",
       " 1959144690,\n",
       " 2038680547,\n",
       " 2044997962,\n",
       " 2378935119,\n",
       " 2458001652,\n",
       " 2579882178,\n",
       " 2587333274,\n",
       " 2600415354,\n",
       " 2654030115,\n",
       " 2686716486,\n",
       " 2712142231,\n",
       " 2716752286,\n",
       " 2780786433,\n",
       " 2927087541,\n",
       " 2949041841,\n",
       " 2954449915,\n",
       " 3062433592,\n",
       " 3202540741,\n",
       " 3234906277,\n",
       " 3656415546,\n",
       " 3717692402,\n",
       " 3766097110,\n",
       " 3803269165,\n",
       " 3891541246,\n",
       " 3941795274,\n",
       " 3951559397,\n",
       " 3957174400,\n",
       " 3963646447,\n",
       " 3972127743,\n",
       " 3984495233,\n",
       " 4069496402,\n",
       " 4120364173,\n",
       " 4186807279,\n",
       " 4256040402,\n",
       " 4266935830}"
      ]
     },
     "execution_count": 13,
     "metadata": {},
     "output_type": "execute_result"
    }
   ],
   "source": [
    "intersection"
   ]
  },
  {
   "cell_type": "markdown",
   "metadata": {},
   "source": [
    "### Есть такие пользователи, уберу их из теста."
   ]
  },
  {
   "cell_type": "code",
   "execution_count": 14,
   "metadata": {},
   "outputs": [],
   "source": [
    "orders = orders.query('visitorId not in @intersection')"
   ]
  },
  {
   "cell_type": "code",
   "execution_count": 15,
   "metadata": {},
   "outputs": [
    {
     "data": {
      "text/html": [
       "<div>\n",
       "<style scoped>\n",
       "    .dataframe tbody tr th:only-of-type {\n",
       "        vertical-align: middle;\n",
       "    }\n",
       "\n",
       "    .dataframe tbody tr th {\n",
       "        vertical-align: top;\n",
       "    }\n",
       "\n",
       "    .dataframe thead th {\n",
       "        text-align: right;\n",
       "    }\n",
       "</style>\n",
       "<table border=\"1\" class=\"dataframe\">\n",
       "  <thead>\n",
       "    <tr style=\"text-align: right;\">\n",
       "      <th></th>\n",
       "      <th>visitorId</th>\n",
       "    </tr>\n",
       "    <tr>\n",
       "      <th>group</th>\n",
       "      <th></th>\n",
       "    </tr>\n",
       "  </thead>\n",
       "  <tbody>\n",
       "    <tr>\n",
       "      <th>A</th>\n",
       "      <td>445</td>\n",
       "    </tr>\n",
       "    <tr>\n",
       "      <th>B</th>\n",
       "      <td>528</td>\n",
       "    </tr>\n",
       "  </tbody>\n",
       "</table>\n",
       "</div>"
      ],
      "text/plain": [
       "       visitorId\n",
       "group           \n",
       "A            445\n",
       "B            528"
      ]
     },
     "execution_count": 15,
     "metadata": {},
     "output_type": "execute_result"
    }
   ],
   "source": [
    "orders.groupby('group').agg({'visitorId':'nunique'})"
   ]
  },
  {
   "cell_type": "markdown",
   "metadata": {},
   "source": [
    "### Получилось, что в группах разное количество человек. Группа А составляет 46% от общего количества visitorId, группа Б составляет 54%. </p> Произошло некорректное деление трафика теста. (Но я не знаю что с этим делать, другие данные то не взять)\n"
   ]
  },
  {
   "cell_type": "markdown",
   "metadata": {},
   "source": [
    "### Подготовка данных"
   ]
  },
  {
   "cell_type": "code",
   "execution_count": 16,
   "metadata": {},
   "outputs": [
    {
     "data": {
      "text/html": [
       "<div>\n",
       "<style scoped>\n",
       "    .dataframe tbody tr th:only-of-type {\n",
       "        vertical-align: middle;\n",
       "    }\n",
       "\n",
       "    .dataframe tbody tr th {\n",
       "        vertical-align: top;\n",
       "    }\n",
       "\n",
       "    .dataframe thead th {\n",
       "        text-align: right;\n",
       "    }\n",
       "</style>\n",
       "<table border=\"1\" class=\"dataframe\">\n",
       "  <thead>\n",
       "    <tr style=\"text-align: right;\">\n",
       "      <th></th>\n",
       "      <th>date</th>\n",
       "      <th>visitorsPerDateA</th>\n",
       "    </tr>\n",
       "  </thead>\n",
       "  <tbody>\n",
       "    <tr>\n",
       "      <th>0</th>\n",
       "      <td>2019-08-01</td>\n",
       "      <td>719</td>\n",
       "    </tr>\n",
       "    <tr>\n",
       "      <th>1</th>\n",
       "      <td>2019-08-02</td>\n",
       "      <td>619</td>\n",
       "    </tr>\n",
       "    <tr>\n",
       "      <th>2</th>\n",
       "      <td>2019-08-03</td>\n",
       "      <td>507</td>\n",
       "    </tr>\n",
       "    <tr>\n",
       "      <th>3</th>\n",
       "      <td>2019-08-04</td>\n",
       "      <td>717</td>\n",
       "    </tr>\n",
       "    <tr>\n",
       "      <th>4</th>\n",
       "      <td>2019-08-05</td>\n",
       "      <td>756</td>\n",
       "    </tr>\n",
       "    <tr>\n",
       "      <th>5</th>\n",
       "      <td>2019-08-06</td>\n",
       "      <td>667</td>\n",
       "    </tr>\n",
       "    <tr>\n",
       "      <th>6</th>\n",
       "      <td>2019-08-07</td>\n",
       "      <td>644</td>\n",
       "    </tr>\n",
       "    <tr>\n",
       "      <th>7</th>\n",
       "      <td>2019-08-08</td>\n",
       "      <td>610</td>\n",
       "    </tr>\n",
       "    <tr>\n",
       "      <th>8</th>\n",
       "      <td>2019-08-09</td>\n",
       "      <td>617</td>\n",
       "    </tr>\n",
       "    <tr>\n",
       "      <th>9</th>\n",
       "      <td>2019-08-10</td>\n",
       "      <td>406</td>\n",
       "    </tr>\n",
       "    <tr>\n",
       "      <th>10</th>\n",
       "      <td>2019-08-11</td>\n",
       "      <td>718</td>\n",
       "    </tr>\n",
       "    <tr>\n",
       "      <th>11</th>\n",
       "      <td>2019-08-12</td>\n",
       "      <td>595</td>\n",
       "    </tr>\n",
       "    <tr>\n",
       "      <th>12</th>\n",
       "      <td>2019-08-13</td>\n",
       "      <td>748</td>\n",
       "    </tr>\n",
       "    <tr>\n",
       "      <th>13</th>\n",
       "      <td>2019-08-14</td>\n",
       "      <td>735</td>\n",
       "    </tr>\n",
       "    <tr>\n",
       "      <th>14</th>\n",
       "      <td>2019-08-15</td>\n",
       "      <td>628</td>\n",
       "    </tr>\n",
       "    <tr>\n",
       "      <th>15</th>\n",
       "      <td>2019-08-16</td>\n",
       "      <td>361</td>\n",
       "    </tr>\n",
       "    <tr>\n",
       "      <th>16</th>\n",
       "      <td>2019-08-17</td>\n",
       "      <td>412</td>\n",
       "    </tr>\n",
       "    <tr>\n",
       "      <th>17</th>\n",
       "      <td>2019-08-18</td>\n",
       "      <td>668</td>\n",
       "    </tr>\n",
       "    <tr>\n",
       "      <th>18</th>\n",
       "      <td>2019-08-19</td>\n",
       "      <td>502</td>\n",
       "    </tr>\n",
       "    <tr>\n",
       "      <th>19</th>\n",
       "      <td>2019-08-20</td>\n",
       "      <td>575</td>\n",
       "    </tr>\n",
       "    <tr>\n",
       "      <th>20</th>\n",
       "      <td>2019-08-21</td>\n",
       "      <td>646</td>\n",
       "    </tr>\n",
       "    <tr>\n",
       "      <th>21</th>\n",
       "      <td>2019-08-22</td>\n",
       "      <td>609</td>\n",
       "    </tr>\n",
       "    <tr>\n",
       "      <th>22</th>\n",
       "      <td>2019-08-23</td>\n",
       "      <td>468</td>\n",
       "    </tr>\n",
       "    <tr>\n",
       "      <th>23</th>\n",
       "      <td>2019-08-24</td>\n",
       "      <td>395</td>\n",
       "    </tr>\n",
       "    <tr>\n",
       "      <th>24</th>\n",
       "      <td>2019-08-25</td>\n",
       "      <td>621</td>\n",
       "    </tr>\n",
       "    <tr>\n",
       "      <th>25</th>\n",
       "      <td>2019-08-26</td>\n",
       "      <td>722</td>\n",
       "    </tr>\n",
       "    <tr>\n",
       "      <th>26</th>\n",
       "      <td>2019-08-27</td>\n",
       "      <td>711</td>\n",
       "    </tr>\n",
       "    <tr>\n",
       "      <th>27</th>\n",
       "      <td>2019-08-28</td>\n",
       "      <td>594</td>\n",
       "    </tr>\n",
       "    <tr>\n",
       "      <th>28</th>\n",
       "      <td>2019-08-29</td>\n",
       "      <td>577</td>\n",
       "    </tr>\n",
       "    <tr>\n",
       "      <th>29</th>\n",
       "      <td>2019-08-30</td>\n",
       "      <td>490</td>\n",
       "    </tr>\n",
       "    <tr>\n",
       "      <th>30</th>\n",
       "      <td>2019-08-31</td>\n",
       "      <td>699</td>\n",
       "    </tr>\n",
       "  </tbody>\n",
       "</table>\n",
       "</div>"
      ],
      "text/plain": [
       "         date  visitorsPerDateA\n",
       "0  2019-08-01               719\n",
       "1  2019-08-02               619\n",
       "2  2019-08-03               507\n",
       "3  2019-08-04               717\n",
       "4  2019-08-05               756\n",
       "5  2019-08-06               667\n",
       "6  2019-08-07               644\n",
       "7  2019-08-08               610\n",
       "8  2019-08-09               617\n",
       "9  2019-08-10               406\n",
       "10 2019-08-11               718\n",
       "11 2019-08-12               595\n",
       "12 2019-08-13               748\n",
       "13 2019-08-14               735\n",
       "14 2019-08-15               628\n",
       "15 2019-08-16               361\n",
       "16 2019-08-17               412\n",
       "17 2019-08-18               668\n",
       "18 2019-08-19               502\n",
       "19 2019-08-20               575\n",
       "20 2019-08-21               646\n",
       "21 2019-08-22               609\n",
       "22 2019-08-23               468\n",
       "23 2019-08-24               395\n",
       "24 2019-08-25               621\n",
       "25 2019-08-26               722\n",
       "26 2019-08-27               711\n",
       "27 2019-08-28               594\n",
       "28 2019-08-29               577\n",
       "29 2019-08-30               490\n",
       "30 2019-08-31               699"
      ]
     },
     "execution_count": 16,
     "metadata": {},
     "output_type": "execute_result"
    }
   ],
   "source": [
    "visitorsADaily = visitors.query('group == \"A\"')[['date','visitors']]\n",
    "visitorsADaily.columns = ['date','visitorsPerDateA']\n",
    "visitorsADaily"
   ]
  },
  {
   "cell_type": "code",
   "execution_count": 17,
   "metadata": {},
   "outputs": [
    {
     "data": {
      "text/html": [
       "<div>\n",
       "<style scoped>\n",
       "    .dataframe tbody tr th:only-of-type {\n",
       "        vertical-align: middle;\n",
       "    }\n",
       "\n",
       "    .dataframe tbody tr th {\n",
       "        vertical-align: top;\n",
       "    }\n",
       "\n",
       "    .dataframe thead th {\n",
       "        text-align: right;\n",
       "    }\n",
       "</style>\n",
       "<table border=\"1\" class=\"dataframe\">\n",
       "  <thead>\n",
       "    <tr style=\"text-align: right;\">\n",
       "      <th></th>\n",
       "      <th>date</th>\n",
       "      <th>visitorsPerDateB</th>\n",
       "    </tr>\n",
       "  </thead>\n",
       "  <tbody>\n",
       "    <tr>\n",
       "      <th>31</th>\n",
       "      <td>2019-08-01</td>\n",
       "      <td>713</td>\n",
       "    </tr>\n",
       "    <tr>\n",
       "      <th>32</th>\n",
       "      <td>2019-08-02</td>\n",
       "      <td>581</td>\n",
       "    </tr>\n",
       "    <tr>\n",
       "      <th>33</th>\n",
       "      <td>2019-08-03</td>\n",
       "      <td>509</td>\n",
       "    </tr>\n",
       "    <tr>\n",
       "      <th>34</th>\n",
       "      <td>2019-08-04</td>\n",
       "      <td>770</td>\n",
       "    </tr>\n",
       "    <tr>\n",
       "      <th>35</th>\n",
       "      <td>2019-08-05</td>\n",
       "      <td>707</td>\n",
       "    </tr>\n",
       "    <tr>\n",
       "      <th>36</th>\n",
       "      <td>2019-08-06</td>\n",
       "      <td>655</td>\n",
       "    </tr>\n",
       "    <tr>\n",
       "      <th>37</th>\n",
       "      <td>2019-08-07</td>\n",
       "      <td>709</td>\n",
       "    </tr>\n",
       "    <tr>\n",
       "      <th>38</th>\n",
       "      <td>2019-08-08</td>\n",
       "      <td>654</td>\n",
       "    </tr>\n",
       "    <tr>\n",
       "      <th>39</th>\n",
       "      <td>2019-08-09</td>\n",
       "      <td>610</td>\n",
       "    </tr>\n",
       "    <tr>\n",
       "      <th>40</th>\n",
       "      <td>2019-08-10</td>\n",
       "      <td>369</td>\n",
       "    </tr>\n",
       "    <tr>\n",
       "      <th>41</th>\n",
       "      <td>2019-08-11</td>\n",
       "      <td>721</td>\n",
       "    </tr>\n",
       "    <tr>\n",
       "      <th>42</th>\n",
       "      <td>2019-08-12</td>\n",
       "      <td>543</td>\n",
       "    </tr>\n",
       "    <tr>\n",
       "      <th>43</th>\n",
       "      <td>2019-08-13</td>\n",
       "      <td>769</td>\n",
       "    </tr>\n",
       "    <tr>\n",
       "      <th>44</th>\n",
       "      <td>2019-08-14</td>\n",
       "      <td>746</td>\n",
       "    </tr>\n",
       "    <tr>\n",
       "      <th>45</th>\n",
       "      <td>2019-08-15</td>\n",
       "      <td>544</td>\n",
       "    </tr>\n",
       "    <tr>\n",
       "      <th>46</th>\n",
       "      <td>2019-08-16</td>\n",
       "      <td>413</td>\n",
       "    </tr>\n",
       "    <tr>\n",
       "      <th>47</th>\n",
       "      <td>2019-08-17</td>\n",
       "      <td>421</td>\n",
       "    </tr>\n",
       "    <tr>\n",
       "      <th>48</th>\n",
       "      <td>2019-08-18</td>\n",
       "      <td>737</td>\n",
       "    </tr>\n",
       "    <tr>\n",
       "      <th>49</th>\n",
       "      <td>2019-08-19</td>\n",
       "      <td>487</td>\n",
       "    </tr>\n",
       "    <tr>\n",
       "      <th>50</th>\n",
       "      <td>2019-08-20</td>\n",
       "      <td>560</td>\n",
       "    </tr>\n",
       "    <tr>\n",
       "      <th>51</th>\n",
       "      <td>2019-08-21</td>\n",
       "      <td>656</td>\n",
       "    </tr>\n",
       "    <tr>\n",
       "      <th>52</th>\n",
       "      <td>2019-08-22</td>\n",
       "      <td>650</td>\n",
       "    </tr>\n",
       "    <tr>\n",
       "      <th>53</th>\n",
       "      <td>2019-08-23</td>\n",
       "      <td>546</td>\n",
       "    </tr>\n",
       "    <tr>\n",
       "      <th>54</th>\n",
       "      <td>2019-08-24</td>\n",
       "      <td>378</td>\n",
       "    </tr>\n",
       "    <tr>\n",
       "      <th>55</th>\n",
       "      <td>2019-08-25</td>\n",
       "      <td>679</td>\n",
       "    </tr>\n",
       "    <tr>\n",
       "      <th>56</th>\n",
       "      <td>2019-08-26</td>\n",
       "      <td>676</td>\n",
       "    </tr>\n",
       "    <tr>\n",
       "      <th>57</th>\n",
       "      <td>2019-08-27</td>\n",
       "      <td>720</td>\n",
       "    </tr>\n",
       "    <tr>\n",
       "      <th>58</th>\n",
       "      <td>2019-08-28</td>\n",
       "      <td>654</td>\n",
       "    </tr>\n",
       "    <tr>\n",
       "      <th>59</th>\n",
       "      <td>2019-08-29</td>\n",
       "      <td>531</td>\n",
       "    </tr>\n",
       "    <tr>\n",
       "      <th>60</th>\n",
       "      <td>2019-08-30</td>\n",
       "      <td>490</td>\n",
       "    </tr>\n",
       "    <tr>\n",
       "      <th>61</th>\n",
       "      <td>2019-08-31</td>\n",
       "      <td>718</td>\n",
       "    </tr>\n",
       "  </tbody>\n",
       "</table>\n",
       "</div>"
      ],
      "text/plain": [
       "         date  visitorsPerDateB\n",
       "31 2019-08-01               713\n",
       "32 2019-08-02               581\n",
       "33 2019-08-03               509\n",
       "34 2019-08-04               770\n",
       "35 2019-08-05               707\n",
       "36 2019-08-06               655\n",
       "37 2019-08-07               709\n",
       "38 2019-08-08               654\n",
       "39 2019-08-09               610\n",
       "40 2019-08-10               369\n",
       "41 2019-08-11               721\n",
       "42 2019-08-12               543\n",
       "43 2019-08-13               769\n",
       "44 2019-08-14               746\n",
       "45 2019-08-15               544\n",
       "46 2019-08-16               413\n",
       "47 2019-08-17               421\n",
       "48 2019-08-18               737\n",
       "49 2019-08-19               487\n",
       "50 2019-08-20               560\n",
       "51 2019-08-21               656\n",
       "52 2019-08-22               650\n",
       "53 2019-08-23               546\n",
       "54 2019-08-24               378\n",
       "55 2019-08-25               679\n",
       "56 2019-08-26               676\n",
       "57 2019-08-27               720\n",
       "58 2019-08-28               654\n",
       "59 2019-08-29               531\n",
       "60 2019-08-30               490\n",
       "61 2019-08-31               718"
      ]
     },
     "execution_count": 17,
     "metadata": {},
     "output_type": "execute_result"
    }
   ],
   "source": [
    "visitorsBDaily = visitors.query('group == \"B\"')[['date','visitors']]\n",
    "visitorsBDaily.columns = ['date','visitorsPerDateB']\n",
    "visitorsBDaily"
   ]
  },
  {
   "cell_type": "code",
   "execution_count": 18,
   "metadata": {},
   "outputs": [
    {
     "data": {
      "text/html": [
       "<div>\n",
       "<style scoped>\n",
       "    .dataframe tbody tr th:only-of-type {\n",
       "        vertical-align: middle;\n",
       "    }\n",
       "\n",
       "    .dataframe tbody tr th {\n",
       "        vertical-align: top;\n",
       "    }\n",
       "\n",
       "    .dataframe thead th {\n",
       "        text-align: right;\n",
       "    }\n",
       "</style>\n",
       "<table border=\"1\" class=\"dataframe\">\n",
       "  <thead>\n",
       "    <tr style=\"text-align: right;\">\n",
       "      <th></th>\n",
       "      <th>date</th>\n",
       "      <th>visitorsCummulativeA</th>\n",
       "    </tr>\n",
       "  </thead>\n",
       "  <tbody>\n",
       "    <tr>\n",
       "      <th>0</th>\n",
       "      <td>2019-08-01</td>\n",
       "      <td>719</td>\n",
       "    </tr>\n",
       "    <tr>\n",
       "      <th>1</th>\n",
       "      <td>2019-08-02</td>\n",
       "      <td>1338</td>\n",
       "    </tr>\n",
       "    <tr>\n",
       "      <th>2</th>\n",
       "      <td>2019-08-03</td>\n",
       "      <td>1845</td>\n",
       "    </tr>\n",
       "    <tr>\n",
       "      <th>3</th>\n",
       "      <td>2019-08-04</td>\n",
       "      <td>2562</td>\n",
       "    </tr>\n",
       "    <tr>\n",
       "      <th>4</th>\n",
       "      <td>2019-08-05</td>\n",
       "      <td>3318</td>\n",
       "    </tr>\n",
       "    <tr>\n",
       "      <th>5</th>\n",
       "      <td>2019-08-06</td>\n",
       "      <td>3985</td>\n",
       "    </tr>\n",
       "    <tr>\n",
       "      <th>6</th>\n",
       "      <td>2019-08-07</td>\n",
       "      <td>4629</td>\n",
       "    </tr>\n",
       "    <tr>\n",
       "      <th>7</th>\n",
       "      <td>2019-08-08</td>\n",
       "      <td>5239</td>\n",
       "    </tr>\n",
       "    <tr>\n",
       "      <th>8</th>\n",
       "      <td>2019-08-09</td>\n",
       "      <td>5856</td>\n",
       "    </tr>\n",
       "    <tr>\n",
       "      <th>9</th>\n",
       "      <td>2019-08-10</td>\n",
       "      <td>6262</td>\n",
       "    </tr>\n",
       "    <tr>\n",
       "      <th>10</th>\n",
       "      <td>2019-08-11</td>\n",
       "      <td>6980</td>\n",
       "    </tr>\n",
       "    <tr>\n",
       "      <th>11</th>\n",
       "      <td>2019-08-12</td>\n",
       "      <td>7575</td>\n",
       "    </tr>\n",
       "    <tr>\n",
       "      <th>12</th>\n",
       "      <td>2019-08-13</td>\n",
       "      <td>8323</td>\n",
       "    </tr>\n",
       "    <tr>\n",
       "      <th>13</th>\n",
       "      <td>2019-08-14</td>\n",
       "      <td>9058</td>\n",
       "    </tr>\n",
       "    <tr>\n",
       "      <th>14</th>\n",
       "      <td>2019-08-15</td>\n",
       "      <td>9686</td>\n",
       "    </tr>\n",
       "    <tr>\n",
       "      <th>15</th>\n",
       "      <td>2019-08-16</td>\n",
       "      <td>10047</td>\n",
       "    </tr>\n",
       "    <tr>\n",
       "      <th>16</th>\n",
       "      <td>2019-08-17</td>\n",
       "      <td>10459</td>\n",
       "    </tr>\n",
       "    <tr>\n",
       "      <th>17</th>\n",
       "      <td>2019-08-18</td>\n",
       "      <td>11127</td>\n",
       "    </tr>\n",
       "    <tr>\n",
       "      <th>18</th>\n",
       "      <td>2019-08-19</td>\n",
       "      <td>11629</td>\n",
       "    </tr>\n",
       "    <tr>\n",
       "      <th>19</th>\n",
       "      <td>2019-08-20</td>\n",
       "      <td>12204</td>\n",
       "    </tr>\n",
       "    <tr>\n",
       "      <th>20</th>\n",
       "      <td>2019-08-21</td>\n",
       "      <td>12850</td>\n",
       "    </tr>\n",
       "    <tr>\n",
       "      <th>21</th>\n",
       "      <td>2019-08-22</td>\n",
       "      <td>13459</td>\n",
       "    </tr>\n",
       "    <tr>\n",
       "      <th>22</th>\n",
       "      <td>2019-08-23</td>\n",
       "      <td>13927</td>\n",
       "    </tr>\n",
       "    <tr>\n",
       "      <th>23</th>\n",
       "      <td>2019-08-24</td>\n",
       "      <td>14322</td>\n",
       "    </tr>\n",
       "    <tr>\n",
       "      <th>24</th>\n",
       "      <td>2019-08-25</td>\n",
       "      <td>14943</td>\n",
       "    </tr>\n",
       "    <tr>\n",
       "      <th>25</th>\n",
       "      <td>2019-08-26</td>\n",
       "      <td>15665</td>\n",
       "    </tr>\n",
       "    <tr>\n",
       "      <th>26</th>\n",
       "      <td>2019-08-27</td>\n",
       "      <td>16376</td>\n",
       "    </tr>\n",
       "    <tr>\n",
       "      <th>27</th>\n",
       "      <td>2019-08-28</td>\n",
       "      <td>16970</td>\n",
       "    </tr>\n",
       "    <tr>\n",
       "      <th>28</th>\n",
       "      <td>2019-08-29</td>\n",
       "      <td>17547</td>\n",
       "    </tr>\n",
       "    <tr>\n",
       "      <th>29</th>\n",
       "      <td>2019-08-30</td>\n",
       "      <td>18037</td>\n",
       "    </tr>\n",
       "    <tr>\n",
       "      <th>30</th>\n",
       "      <td>2019-08-31</td>\n",
       "      <td>18736</td>\n",
       "    </tr>\n",
       "  </tbody>\n",
       "</table>\n",
       "</div>"
      ],
      "text/plain": [
       "         date  visitorsCummulativeA\n",
       "0  2019-08-01                   719\n",
       "1  2019-08-02                  1338\n",
       "2  2019-08-03                  1845\n",
       "3  2019-08-04                  2562\n",
       "4  2019-08-05                  3318\n",
       "5  2019-08-06                  3985\n",
       "6  2019-08-07                  4629\n",
       "7  2019-08-08                  5239\n",
       "8  2019-08-09                  5856\n",
       "9  2019-08-10                  6262\n",
       "10 2019-08-11                  6980\n",
       "11 2019-08-12                  7575\n",
       "12 2019-08-13                  8323\n",
       "13 2019-08-14                  9058\n",
       "14 2019-08-15                  9686\n",
       "15 2019-08-16                 10047\n",
       "16 2019-08-17                 10459\n",
       "17 2019-08-18                 11127\n",
       "18 2019-08-19                 11629\n",
       "19 2019-08-20                 12204\n",
       "20 2019-08-21                 12850\n",
       "21 2019-08-22                 13459\n",
       "22 2019-08-23                 13927\n",
       "23 2019-08-24                 14322\n",
       "24 2019-08-25                 14943\n",
       "25 2019-08-26                 15665\n",
       "26 2019-08-27                 16376\n",
       "27 2019-08-28                 16970\n",
       "28 2019-08-29                 17547\n",
       "29 2019-08-30                 18037\n",
       "30 2019-08-31                 18736"
      ]
     },
     "execution_count": 18,
     "metadata": {},
     "output_type": "execute_result"
    }
   ],
   "source": [
    "visitorsACummulative = visitorsADaily.apply(\n",
    "    lambda x: visitorsADaily[visitorsADaily['date'] <= x['date']].agg(\n",
    "        {'date': 'max', 'visitorsPerDateA': 'sum'}\n",
    "    ),\n",
    "    axis=1,\n",
    ")\n",
    "visitorsACummulative.columns = ['date', 'visitorsCummulativeA']\n",
    "visitorsACummulative"
   ]
  },
  {
   "cell_type": "code",
   "execution_count": 19,
   "metadata": {},
   "outputs": [
    {
     "data": {
      "text/html": [
       "<div>\n",
       "<style scoped>\n",
       "    .dataframe tbody tr th:only-of-type {\n",
       "        vertical-align: middle;\n",
       "    }\n",
       "\n",
       "    .dataframe tbody tr th {\n",
       "        vertical-align: top;\n",
       "    }\n",
       "\n",
       "    .dataframe thead th {\n",
       "        text-align: right;\n",
       "    }\n",
       "</style>\n",
       "<table border=\"1\" class=\"dataframe\">\n",
       "  <thead>\n",
       "    <tr style=\"text-align: right;\">\n",
       "      <th></th>\n",
       "      <th>date</th>\n",
       "      <th>visitorsCummulativeB</th>\n",
       "    </tr>\n",
       "  </thead>\n",
       "  <tbody>\n",
       "    <tr>\n",
       "      <th>31</th>\n",
       "      <td>2019-08-01</td>\n",
       "      <td>713</td>\n",
       "    </tr>\n",
       "    <tr>\n",
       "      <th>32</th>\n",
       "      <td>2019-08-02</td>\n",
       "      <td>1294</td>\n",
       "    </tr>\n",
       "    <tr>\n",
       "      <th>33</th>\n",
       "      <td>2019-08-03</td>\n",
       "      <td>1803</td>\n",
       "    </tr>\n",
       "    <tr>\n",
       "      <th>34</th>\n",
       "      <td>2019-08-04</td>\n",
       "      <td>2573</td>\n",
       "    </tr>\n",
       "    <tr>\n",
       "      <th>35</th>\n",
       "      <td>2019-08-05</td>\n",
       "      <td>3280</td>\n",
       "    </tr>\n",
       "    <tr>\n",
       "      <th>36</th>\n",
       "      <td>2019-08-06</td>\n",
       "      <td>3935</td>\n",
       "    </tr>\n",
       "    <tr>\n",
       "      <th>37</th>\n",
       "      <td>2019-08-07</td>\n",
       "      <td>4644</td>\n",
       "    </tr>\n",
       "    <tr>\n",
       "      <th>38</th>\n",
       "      <td>2019-08-08</td>\n",
       "      <td>5298</td>\n",
       "    </tr>\n",
       "    <tr>\n",
       "      <th>39</th>\n",
       "      <td>2019-08-09</td>\n",
       "      <td>5908</td>\n",
       "    </tr>\n",
       "    <tr>\n",
       "      <th>40</th>\n",
       "      <td>2019-08-10</td>\n",
       "      <td>6277</td>\n",
       "    </tr>\n",
       "    <tr>\n",
       "      <th>41</th>\n",
       "      <td>2019-08-11</td>\n",
       "      <td>6998</td>\n",
       "    </tr>\n",
       "    <tr>\n",
       "      <th>42</th>\n",
       "      <td>2019-08-12</td>\n",
       "      <td>7541</td>\n",
       "    </tr>\n",
       "    <tr>\n",
       "      <th>43</th>\n",
       "      <td>2019-08-13</td>\n",
       "      <td>8310</td>\n",
       "    </tr>\n",
       "    <tr>\n",
       "      <th>44</th>\n",
       "      <td>2019-08-14</td>\n",
       "      <td>9056</td>\n",
       "    </tr>\n",
       "    <tr>\n",
       "      <th>45</th>\n",
       "      <td>2019-08-15</td>\n",
       "      <td>9600</td>\n",
       "    </tr>\n",
       "    <tr>\n",
       "      <th>46</th>\n",
       "      <td>2019-08-16</td>\n",
       "      <td>10013</td>\n",
       "    </tr>\n",
       "    <tr>\n",
       "      <th>47</th>\n",
       "      <td>2019-08-17</td>\n",
       "      <td>10434</td>\n",
       "    </tr>\n",
       "    <tr>\n",
       "      <th>48</th>\n",
       "      <td>2019-08-18</td>\n",
       "      <td>11171</td>\n",
       "    </tr>\n",
       "    <tr>\n",
       "      <th>49</th>\n",
       "      <td>2019-08-19</td>\n",
       "      <td>11658</td>\n",
       "    </tr>\n",
       "    <tr>\n",
       "      <th>50</th>\n",
       "      <td>2019-08-20</td>\n",
       "      <td>12218</td>\n",
       "    </tr>\n",
       "    <tr>\n",
       "      <th>51</th>\n",
       "      <td>2019-08-21</td>\n",
       "      <td>12874</td>\n",
       "    </tr>\n",
       "    <tr>\n",
       "      <th>52</th>\n",
       "      <td>2019-08-22</td>\n",
       "      <td>13524</td>\n",
       "    </tr>\n",
       "    <tr>\n",
       "      <th>53</th>\n",
       "      <td>2019-08-23</td>\n",
       "      <td>14070</td>\n",
       "    </tr>\n",
       "    <tr>\n",
       "      <th>54</th>\n",
       "      <td>2019-08-24</td>\n",
       "      <td>14448</td>\n",
       "    </tr>\n",
       "    <tr>\n",
       "      <th>55</th>\n",
       "      <td>2019-08-25</td>\n",
       "      <td>15127</td>\n",
       "    </tr>\n",
       "    <tr>\n",
       "      <th>56</th>\n",
       "      <td>2019-08-26</td>\n",
       "      <td>15803</td>\n",
       "    </tr>\n",
       "    <tr>\n",
       "      <th>57</th>\n",
       "      <td>2019-08-27</td>\n",
       "      <td>16523</td>\n",
       "    </tr>\n",
       "    <tr>\n",
       "      <th>58</th>\n",
       "      <td>2019-08-28</td>\n",
       "      <td>17177</td>\n",
       "    </tr>\n",
       "    <tr>\n",
       "      <th>59</th>\n",
       "      <td>2019-08-29</td>\n",
       "      <td>17708</td>\n",
       "    </tr>\n",
       "    <tr>\n",
       "      <th>60</th>\n",
       "      <td>2019-08-30</td>\n",
       "      <td>18198</td>\n",
       "    </tr>\n",
       "    <tr>\n",
       "      <th>61</th>\n",
       "      <td>2019-08-31</td>\n",
       "      <td>18916</td>\n",
       "    </tr>\n",
       "  </tbody>\n",
       "</table>\n",
       "</div>"
      ],
      "text/plain": [
       "         date  visitorsCummulativeB\n",
       "31 2019-08-01                   713\n",
       "32 2019-08-02                  1294\n",
       "33 2019-08-03                  1803\n",
       "34 2019-08-04                  2573\n",
       "35 2019-08-05                  3280\n",
       "36 2019-08-06                  3935\n",
       "37 2019-08-07                  4644\n",
       "38 2019-08-08                  5298\n",
       "39 2019-08-09                  5908\n",
       "40 2019-08-10                  6277\n",
       "41 2019-08-11                  6998\n",
       "42 2019-08-12                  7541\n",
       "43 2019-08-13                  8310\n",
       "44 2019-08-14                  9056\n",
       "45 2019-08-15                  9600\n",
       "46 2019-08-16                 10013\n",
       "47 2019-08-17                 10434\n",
       "48 2019-08-18                 11171\n",
       "49 2019-08-19                 11658\n",
       "50 2019-08-20                 12218\n",
       "51 2019-08-21                 12874\n",
       "52 2019-08-22                 13524\n",
       "53 2019-08-23                 14070\n",
       "54 2019-08-24                 14448\n",
       "55 2019-08-25                 15127\n",
       "56 2019-08-26                 15803\n",
       "57 2019-08-27                 16523\n",
       "58 2019-08-28                 17177\n",
       "59 2019-08-29                 17708\n",
       "60 2019-08-30                 18198\n",
       "61 2019-08-31                 18916"
      ]
     },
     "execution_count": 19,
     "metadata": {},
     "output_type": "execute_result"
    }
   ],
   "source": [
    "visitorsBCummulative = visitorsBDaily.apply(\n",
    "    lambda x: visitorsBDaily[visitorsBDaily['date'] <= x['date']].agg(\n",
    "        {'date': 'max', 'visitorsPerDateB': 'sum'}\n",
    "    ),\n",
    "    axis=1,\n",
    ")\n",
    "visitorsBCummulative.columns = ['date', 'visitorsCummulativeB']\n",
    "visitorsBCummulative"
   ]
  },
  {
   "cell_type": "code",
   "execution_count": 20,
   "metadata": {},
   "outputs": [],
   "source": [
    "orders.columns = ['orderId','userId','date','revenue','group']"
   ]
  },
  {
   "cell_type": "markdown",
   "metadata": {},
   "source": [
    "<div class=\"alert alert-block alert-info\">\n",
    "    \n",
    "### Комментарий студента_V1: \n",
    "\n",
    "Было:\n",
    "<code>\n",
    "ordersADaily = (\n",
    "    orders[orders['group'] == 'A'][['date', 'orderId', 'userId', 'revenue']]\n",
    "    .groupby('date', as_index=False)\n",
    "    .agg({'userId': pd.Series.nunique, 'revenue': 'sum'})\n",
    ")\n",
    "ordersADaily.columns = ['date', 'ordersPerDateA', 'revenuePerDateA']\n",
    "ordersADaily\n",
    "</code>\n",
    "Стало:\n",
    "</div>\n"
   ]
  },
  {
   "cell_type": "code",
   "execution_count": 21,
   "metadata": {},
   "outputs": [
    {
     "data": {
      "text/html": [
       "<div>\n",
       "<style scoped>\n",
       "    .dataframe tbody tr th:only-of-type {\n",
       "        vertical-align: middle;\n",
       "    }\n",
       "\n",
       "    .dataframe tbody tr th {\n",
       "        vertical-align: top;\n",
       "    }\n",
       "\n",
       "    .dataframe thead th {\n",
       "        text-align: right;\n",
       "    }\n",
       "</style>\n",
       "<table border=\"1\" class=\"dataframe\">\n",
       "  <thead>\n",
       "    <tr style=\"text-align: right;\">\n",
       "      <th></th>\n",
       "      <th>date</th>\n",
       "      <th>ordersPerDateA</th>\n",
       "      <th>revenuePerDateA</th>\n",
       "    </tr>\n",
       "  </thead>\n",
       "  <tbody>\n",
       "    <tr>\n",
       "      <th>0</th>\n",
       "      <td>2019-08-01</td>\n",
       "      <td>23</td>\n",
       "      <td>142779</td>\n",
       "    </tr>\n",
       "    <tr>\n",
       "      <th>1</th>\n",
       "      <td>2019-08-02</td>\n",
       "      <td>19</td>\n",
       "      <td>91602</td>\n",
       "    </tr>\n",
       "    <tr>\n",
       "      <th>2</th>\n",
       "      <td>2019-08-03</td>\n",
       "      <td>24</td>\n",
       "      <td>112473</td>\n",
       "    </tr>\n",
       "    <tr>\n",
       "      <th>3</th>\n",
       "      <td>2019-08-04</td>\n",
       "      <td>11</td>\n",
       "      <td>41176</td>\n",
       "    </tr>\n",
       "    <tr>\n",
       "      <th>4</th>\n",
       "      <td>2019-08-05</td>\n",
       "      <td>22</td>\n",
       "      <td>86383</td>\n",
       "    </tr>\n",
       "    <tr>\n",
       "      <th>5</th>\n",
       "      <td>2019-08-06</td>\n",
       "      <td>15</td>\n",
       "      <td>40919</td>\n",
       "    </tr>\n",
       "    <tr>\n",
       "      <th>6</th>\n",
       "      <td>2019-08-07</td>\n",
       "      <td>16</td>\n",
       "      <td>123248</td>\n",
       "    </tr>\n",
       "    <tr>\n",
       "      <th>7</th>\n",
       "      <td>2019-08-08</td>\n",
       "      <td>14</td>\n",
       "      <td>88639</td>\n",
       "    </tr>\n",
       "    <tr>\n",
       "      <th>8</th>\n",
       "      <td>2019-08-09</td>\n",
       "      <td>11</td>\n",
       "      <td>134237</td>\n",
       "    </tr>\n",
       "    <tr>\n",
       "      <th>9</th>\n",
       "      <td>2019-08-10</td>\n",
       "      <td>15</td>\n",
       "      <td>152275</td>\n",
       "    </tr>\n",
       "    <tr>\n",
       "      <th>10</th>\n",
       "      <td>2019-08-11</td>\n",
       "      <td>11</td>\n",
       "      <td>60665</td>\n",
       "    </tr>\n",
       "    <tr>\n",
       "      <th>11</th>\n",
       "      <td>2019-08-12</td>\n",
       "      <td>19</td>\n",
       "      <td>220392</td>\n",
       "    </tr>\n",
       "    <tr>\n",
       "      <th>12</th>\n",
       "      <td>2019-08-13</td>\n",
       "      <td>14</td>\n",
       "      <td>263638</td>\n",
       "    </tr>\n",
       "    <tr>\n",
       "      <th>13</th>\n",
       "      <td>2019-08-14</td>\n",
       "      <td>17</td>\n",
       "      <td>43266</td>\n",
       "    </tr>\n",
       "    <tr>\n",
       "      <th>14</th>\n",
       "      <td>2019-08-15</td>\n",
       "      <td>10</td>\n",
       "      <td>80877</td>\n",
       "    </tr>\n",
       "    <tr>\n",
       "      <th>15</th>\n",
       "      <td>2019-08-16</td>\n",
       "      <td>18</td>\n",
       "      <td>99851</td>\n",
       "    </tr>\n",
       "    <tr>\n",
       "      <th>16</th>\n",
       "      <td>2019-08-17</td>\n",
       "      <td>6</td>\n",
       "      <td>34740</td>\n",
       "    </tr>\n",
       "    <tr>\n",
       "      <th>17</th>\n",
       "      <td>2019-08-18</td>\n",
       "      <td>13</td>\n",
       "      <td>59581</td>\n",
       "    </tr>\n",
       "    <tr>\n",
       "      <th>18</th>\n",
       "      <td>2019-08-19</td>\n",
       "      <td>21</td>\n",
       "      <td>168193</td>\n",
       "    </tr>\n",
       "    <tr>\n",
       "      <th>19</th>\n",
       "      <td>2019-08-20</td>\n",
       "      <td>10</td>\n",
       "      <td>58679</td>\n",
       "    </tr>\n",
       "    <tr>\n",
       "      <th>20</th>\n",
       "      <td>2019-08-21</td>\n",
       "      <td>20</td>\n",
       "      <td>170169</td>\n",
       "    </tr>\n",
       "    <tr>\n",
       "      <th>21</th>\n",
       "      <td>2019-08-22</td>\n",
       "      <td>10</td>\n",
       "      <td>92365</td>\n",
       "    </tr>\n",
       "    <tr>\n",
       "      <th>22</th>\n",
       "      <td>2019-08-23</td>\n",
       "      <td>20</td>\n",
       "      <td>57863</td>\n",
       "    </tr>\n",
       "    <tr>\n",
       "      <th>23</th>\n",
       "      <td>2019-08-24</td>\n",
       "      <td>13</td>\n",
       "      <td>122013</td>\n",
       "    </tr>\n",
       "    <tr>\n",
       "      <th>24</th>\n",
       "      <td>2019-08-25</td>\n",
       "      <td>8</td>\n",
       "      <td>51884</td>\n",
       "    </tr>\n",
       "    <tr>\n",
       "      <th>25</th>\n",
       "      <td>2019-08-26</td>\n",
       "      <td>16</td>\n",
       "      <td>157214</td>\n",
       "    </tr>\n",
       "    <tr>\n",
       "      <th>26</th>\n",
       "      <td>2019-08-27</td>\n",
       "      <td>23</td>\n",
       "      <td>185350</td>\n",
       "    </tr>\n",
       "    <tr>\n",
       "      <th>27</th>\n",
       "      <td>2019-08-28</td>\n",
       "      <td>15</td>\n",
       "      <td>96462</td>\n",
       "    </tr>\n",
       "    <tr>\n",
       "      <th>28</th>\n",
       "      <td>2019-08-29</td>\n",
       "      <td>17</td>\n",
       "      <td>196300</td>\n",
       "    </tr>\n",
       "    <tr>\n",
       "      <th>29</th>\n",
       "      <td>2019-08-30</td>\n",
       "      <td>9</td>\n",
       "      <td>78180</td>\n",
       "    </tr>\n",
       "    <tr>\n",
       "      <th>30</th>\n",
       "      <td>2019-08-31</td>\n",
       "      <td>8</td>\n",
       "      <td>53243</td>\n",
       "    </tr>\n",
       "  </tbody>\n",
       "</table>\n",
       "</div>"
      ],
      "text/plain": [
       "         date  ordersPerDateA  revenuePerDateA\n",
       "0  2019-08-01              23           142779\n",
       "1  2019-08-02              19            91602\n",
       "2  2019-08-03              24           112473\n",
       "3  2019-08-04              11            41176\n",
       "4  2019-08-05              22            86383\n",
       "5  2019-08-06              15            40919\n",
       "6  2019-08-07              16           123248\n",
       "7  2019-08-08              14            88639\n",
       "8  2019-08-09              11           134237\n",
       "9  2019-08-10              15           152275\n",
       "10 2019-08-11              11            60665\n",
       "11 2019-08-12              19           220392\n",
       "12 2019-08-13              14           263638\n",
       "13 2019-08-14              17            43266\n",
       "14 2019-08-15              10            80877\n",
       "15 2019-08-16              18            99851\n",
       "16 2019-08-17               6            34740\n",
       "17 2019-08-18              13            59581\n",
       "18 2019-08-19              21           168193\n",
       "19 2019-08-20              10            58679\n",
       "20 2019-08-21              20           170169\n",
       "21 2019-08-22              10            92365\n",
       "22 2019-08-23              20            57863\n",
       "23 2019-08-24              13           122013\n",
       "24 2019-08-25               8            51884\n",
       "25 2019-08-26              16           157214\n",
       "26 2019-08-27              23           185350\n",
       "27 2019-08-28              15            96462\n",
       "28 2019-08-29              17           196300\n",
       "29 2019-08-30               9            78180\n",
       "30 2019-08-31               8            53243"
      ]
     },
     "execution_count": 21,
     "metadata": {},
     "output_type": "execute_result"
    }
   ],
   "source": [
    "ordersADaily = (\n",
    "    orders[orders['group'] == 'A'][['date', 'orderId', 'userId', 'revenue']]\n",
    "    .groupby('date', as_index=False)\n",
    "    .agg({'orderId': pd.Series.nunique, 'revenue': 'sum'})\n",
    ")\n",
    "ordersADaily.columns = ['date', 'ordersPerDateA', 'revenuePerDateA']\n",
    "ordersADaily"
   ]
  },
  {
   "cell_type": "code",
   "execution_count": 22,
   "metadata": {},
   "outputs": [
    {
     "data": {
      "text/html": [
       "<div>\n",
       "<style scoped>\n",
       "    .dataframe tbody tr th:only-of-type {\n",
       "        vertical-align: middle;\n",
       "    }\n",
       "\n",
       "    .dataframe tbody tr th {\n",
       "        vertical-align: top;\n",
       "    }\n",
       "\n",
       "    .dataframe thead th {\n",
       "        text-align: right;\n",
       "    }\n",
       "</style>\n",
       "<table border=\"1\" class=\"dataframe\">\n",
       "  <thead>\n",
       "    <tr style=\"text-align: right;\">\n",
       "      <th></th>\n",
       "      <th>date</th>\n",
       "      <th>ordersPerDateB</th>\n",
       "      <th>revenuePerDateB</th>\n",
       "    </tr>\n",
       "  </thead>\n",
       "  <tbody>\n",
       "    <tr>\n",
       "      <th>0</th>\n",
       "      <td>2019-08-01</td>\n",
       "      <td>17</td>\n",
       "      <td>59758</td>\n",
       "    </tr>\n",
       "    <tr>\n",
       "      <th>1</th>\n",
       "      <td>2019-08-02</td>\n",
       "      <td>23</td>\n",
       "      <td>162043</td>\n",
       "    </tr>\n",
       "    <tr>\n",
       "      <th>2</th>\n",
       "      <td>2019-08-03</td>\n",
       "      <td>14</td>\n",
       "      <td>67049</td>\n",
       "    </tr>\n",
       "    <tr>\n",
       "      <th>3</th>\n",
       "      <td>2019-08-04</td>\n",
       "      <td>14</td>\n",
       "      <td>96890</td>\n",
       "    </tr>\n",
       "    <tr>\n",
       "      <th>4</th>\n",
       "      <td>2019-08-05</td>\n",
       "      <td>21</td>\n",
       "      <td>89908</td>\n",
       "    </tr>\n",
       "    <tr>\n",
       "      <th>5</th>\n",
       "      <td>2019-08-06</td>\n",
       "      <td>23</td>\n",
       "      <td>214842</td>\n",
       "    </tr>\n",
       "    <tr>\n",
       "      <th>6</th>\n",
       "      <td>2019-08-07</td>\n",
       "      <td>23</td>\n",
       "      <td>219164</td>\n",
       "    </tr>\n",
       "    <tr>\n",
       "      <th>7</th>\n",
       "      <td>2019-08-08</td>\n",
       "      <td>22</td>\n",
       "      <td>150141</td>\n",
       "    </tr>\n",
       "    <tr>\n",
       "      <th>8</th>\n",
       "      <td>2019-08-09</td>\n",
       "      <td>19</td>\n",
       "      <td>103166</td>\n",
       "    </tr>\n",
       "    <tr>\n",
       "      <th>9</th>\n",
       "      <td>2019-08-10</td>\n",
       "      <td>22</td>\n",
       "      <td>105162</td>\n",
       "    </tr>\n",
       "    <tr>\n",
       "      <th>10</th>\n",
       "      <td>2019-08-11</td>\n",
       "      <td>12</td>\n",
       "      <td>53060</td>\n",
       "    </tr>\n",
       "    <tr>\n",
       "      <th>11</th>\n",
       "      <td>2019-08-12</td>\n",
       "      <td>19</td>\n",
       "      <td>104054</td>\n",
       "    </tr>\n",
       "    <tr>\n",
       "      <th>12</th>\n",
       "      <td>2019-08-13</td>\n",
       "      <td>20</td>\n",
       "      <td>117691</td>\n",
       "    </tr>\n",
       "    <tr>\n",
       "      <th>13</th>\n",
       "      <td>2019-08-14</td>\n",
       "      <td>14</td>\n",
       "      <td>107340</td>\n",
       "    </tr>\n",
       "    <tr>\n",
       "      <th>14</th>\n",
       "      <td>2019-08-15</td>\n",
       "      <td>26</td>\n",
       "      <td>310159</td>\n",
       "    </tr>\n",
       "    <tr>\n",
       "      <th>15</th>\n",
       "      <td>2019-08-16</td>\n",
       "      <td>18</td>\n",
       "      <td>114250</td>\n",
       "    </tr>\n",
       "    <tr>\n",
       "      <th>16</th>\n",
       "      <td>2019-08-17</td>\n",
       "      <td>13</td>\n",
       "      <td>80865</td>\n",
       "    </tr>\n",
       "    <tr>\n",
       "      <th>17</th>\n",
       "      <td>2019-08-18</td>\n",
       "      <td>7</td>\n",
       "      <td>35323</td>\n",
       "    </tr>\n",
       "    <tr>\n",
       "      <th>18</th>\n",
       "      <td>2019-08-19</td>\n",
       "      <td>21</td>\n",
       "      <td>1429920</td>\n",
       "    </tr>\n",
       "    <tr>\n",
       "      <th>19</th>\n",
       "      <td>2019-08-20</td>\n",
       "      <td>20</td>\n",
       "      <td>147274</td>\n",
       "    </tr>\n",
       "    <tr>\n",
       "      <th>20</th>\n",
       "      <td>2019-08-21</td>\n",
       "      <td>12</td>\n",
       "      <td>140347</td>\n",
       "    </tr>\n",
       "    <tr>\n",
       "      <th>21</th>\n",
       "      <td>2019-08-22</td>\n",
       "      <td>21</td>\n",
       "      <td>141728</td>\n",
       "    </tr>\n",
       "    <tr>\n",
       "      <th>22</th>\n",
       "      <td>2019-08-23</td>\n",
       "      <td>13</td>\n",
       "      <td>77269</td>\n",
       "    </tr>\n",
       "    <tr>\n",
       "      <th>23</th>\n",
       "      <td>2019-08-24</td>\n",
       "      <td>14</td>\n",
       "      <td>87866</td>\n",
       "    </tr>\n",
       "    <tr>\n",
       "      <th>24</th>\n",
       "      <td>2019-08-25</td>\n",
       "      <td>12</td>\n",
       "      <td>79257</td>\n",
       "    </tr>\n",
       "    <tr>\n",
       "      <th>25</th>\n",
       "      <td>2019-08-26</td>\n",
       "      <td>22</td>\n",
       "      <td>173439</td>\n",
       "    </tr>\n",
       "    <tr>\n",
       "      <th>26</th>\n",
       "      <td>2019-08-27</td>\n",
       "      <td>11</td>\n",
       "      <td>111347</td>\n",
       "    </tr>\n",
       "    <tr>\n",
       "      <th>27</th>\n",
       "      <td>2019-08-28</td>\n",
       "      <td>22</td>\n",
       "      <td>61198</td>\n",
       "    </tr>\n",
       "    <tr>\n",
       "      <th>28</th>\n",
       "      <td>2019-08-29</td>\n",
       "      <td>15</td>\n",
       "      <td>106100</td>\n",
       "    </tr>\n",
       "    <tr>\n",
       "      <th>29</th>\n",
       "      <td>2019-08-30</td>\n",
       "      <td>21</td>\n",
       "      <td>209223</td>\n",
       "    </tr>\n",
       "    <tr>\n",
       "      <th>30</th>\n",
       "      <td>2019-08-31</td>\n",
       "      <td>17</td>\n",
       "      <td>113139</td>\n",
       "    </tr>\n",
       "  </tbody>\n",
       "</table>\n",
       "</div>"
      ],
      "text/plain": [
       "         date  ordersPerDateB  revenuePerDateB\n",
       "0  2019-08-01              17            59758\n",
       "1  2019-08-02              23           162043\n",
       "2  2019-08-03              14            67049\n",
       "3  2019-08-04              14            96890\n",
       "4  2019-08-05              21            89908\n",
       "5  2019-08-06              23           214842\n",
       "6  2019-08-07              23           219164\n",
       "7  2019-08-08              22           150141\n",
       "8  2019-08-09              19           103166\n",
       "9  2019-08-10              22           105162\n",
       "10 2019-08-11              12            53060\n",
       "11 2019-08-12              19           104054\n",
       "12 2019-08-13              20           117691\n",
       "13 2019-08-14              14           107340\n",
       "14 2019-08-15              26           310159\n",
       "15 2019-08-16              18           114250\n",
       "16 2019-08-17              13            80865\n",
       "17 2019-08-18               7            35323\n",
       "18 2019-08-19              21          1429920\n",
       "19 2019-08-20              20           147274\n",
       "20 2019-08-21              12           140347\n",
       "21 2019-08-22              21           141728\n",
       "22 2019-08-23              13            77269\n",
       "23 2019-08-24              14            87866\n",
       "24 2019-08-25              12            79257\n",
       "25 2019-08-26              22           173439\n",
       "26 2019-08-27              11           111347\n",
       "27 2019-08-28              22            61198\n",
       "28 2019-08-29              15           106100\n",
       "29 2019-08-30              21           209223\n",
       "30 2019-08-31              17           113139"
      ]
     },
     "execution_count": 22,
     "metadata": {},
     "output_type": "execute_result"
    }
   ],
   "source": [
    "ordersBDaily = (\n",
    "    orders[orders['group'] == 'B'][['date', 'orderId', 'userId', 'revenue']]\n",
    "    .groupby('date', as_index=False)\n",
    "    .agg({'orderId': pd.Series.nunique, 'revenue': 'sum'})\n",
    ")\n",
    "ordersBDaily.columns = ['date', 'ordersPerDateB', 'revenuePerDateB']\n",
    "ordersBDaily"
   ]
  },
  {
   "cell_type": "code",
   "execution_count": 23,
   "metadata": {},
   "outputs": [
    {
     "data": {
      "text/html": [
       "<div>\n",
       "<style scoped>\n",
       "    .dataframe tbody tr th:only-of-type {\n",
       "        vertical-align: middle;\n",
       "    }\n",
       "\n",
       "    .dataframe tbody tr th {\n",
       "        vertical-align: top;\n",
       "    }\n",
       "\n",
       "    .dataframe thead th {\n",
       "        text-align: right;\n",
       "    }\n",
       "</style>\n",
       "<table border=\"1\" class=\"dataframe\">\n",
       "  <thead>\n",
       "    <tr style=\"text-align: right;\">\n",
       "      <th></th>\n",
       "      <th>date</th>\n",
       "      <th>ordersCummulativeA</th>\n",
       "      <th>revenueCummulativeA</th>\n",
       "    </tr>\n",
       "  </thead>\n",
       "  <tbody>\n",
       "    <tr>\n",
       "      <th>0</th>\n",
       "      <td>2019-08-01</td>\n",
       "      <td>23</td>\n",
       "      <td>142779</td>\n",
       "    </tr>\n",
       "    <tr>\n",
       "      <th>1</th>\n",
       "      <td>2019-08-02</td>\n",
       "      <td>42</td>\n",
       "      <td>234381</td>\n",
       "    </tr>\n",
       "    <tr>\n",
       "      <th>2</th>\n",
       "      <td>2019-08-03</td>\n",
       "      <td>66</td>\n",
       "      <td>346854</td>\n",
       "    </tr>\n",
       "    <tr>\n",
       "      <th>3</th>\n",
       "      <td>2019-08-04</td>\n",
       "      <td>77</td>\n",
       "      <td>388030</td>\n",
       "    </tr>\n",
       "    <tr>\n",
       "      <th>4</th>\n",
       "      <td>2019-08-05</td>\n",
       "      <td>99</td>\n",
       "      <td>474413</td>\n",
       "    </tr>\n",
       "    <tr>\n",
       "      <th>5</th>\n",
       "      <td>2019-08-06</td>\n",
       "      <td>114</td>\n",
       "      <td>515332</td>\n",
       "    </tr>\n",
       "    <tr>\n",
       "      <th>6</th>\n",
       "      <td>2019-08-07</td>\n",
       "      <td>130</td>\n",
       "      <td>638580</td>\n",
       "    </tr>\n",
       "    <tr>\n",
       "      <th>7</th>\n",
       "      <td>2019-08-08</td>\n",
       "      <td>144</td>\n",
       "      <td>727219</td>\n",
       "    </tr>\n",
       "    <tr>\n",
       "      <th>8</th>\n",
       "      <td>2019-08-09</td>\n",
       "      <td>155</td>\n",
       "      <td>861456</td>\n",
       "    </tr>\n",
       "    <tr>\n",
       "      <th>9</th>\n",
       "      <td>2019-08-10</td>\n",
       "      <td>170</td>\n",
       "      <td>1013731</td>\n",
       "    </tr>\n",
       "    <tr>\n",
       "      <th>10</th>\n",
       "      <td>2019-08-11</td>\n",
       "      <td>181</td>\n",
       "      <td>1074396</td>\n",
       "    </tr>\n",
       "    <tr>\n",
       "      <th>11</th>\n",
       "      <td>2019-08-12</td>\n",
       "      <td>200</td>\n",
       "      <td>1294788</td>\n",
       "    </tr>\n",
       "    <tr>\n",
       "      <th>12</th>\n",
       "      <td>2019-08-13</td>\n",
       "      <td>214</td>\n",
       "      <td>1558426</td>\n",
       "    </tr>\n",
       "    <tr>\n",
       "      <th>13</th>\n",
       "      <td>2019-08-14</td>\n",
       "      <td>231</td>\n",
       "      <td>1601692</td>\n",
       "    </tr>\n",
       "    <tr>\n",
       "      <th>14</th>\n",
       "      <td>2019-08-15</td>\n",
       "      <td>241</td>\n",
       "      <td>1682569</td>\n",
       "    </tr>\n",
       "    <tr>\n",
       "      <th>15</th>\n",
       "      <td>2019-08-16</td>\n",
       "      <td>259</td>\n",
       "      <td>1782420</td>\n",
       "    </tr>\n",
       "    <tr>\n",
       "      <th>16</th>\n",
       "      <td>2019-08-17</td>\n",
       "      <td>265</td>\n",
       "      <td>1817160</td>\n",
       "    </tr>\n",
       "    <tr>\n",
       "      <th>17</th>\n",
       "      <td>2019-08-18</td>\n",
       "      <td>278</td>\n",
       "      <td>1876741</td>\n",
       "    </tr>\n",
       "    <tr>\n",
       "      <th>18</th>\n",
       "      <td>2019-08-19</td>\n",
       "      <td>299</td>\n",
       "      <td>2044934</td>\n",
       "    </tr>\n",
       "    <tr>\n",
       "      <th>19</th>\n",
       "      <td>2019-08-20</td>\n",
       "      <td>309</td>\n",
       "      <td>2103613</td>\n",
       "    </tr>\n",
       "    <tr>\n",
       "      <th>20</th>\n",
       "      <td>2019-08-21</td>\n",
       "      <td>329</td>\n",
       "      <td>2273782</td>\n",
       "    </tr>\n",
       "    <tr>\n",
       "      <th>21</th>\n",
       "      <td>2019-08-22</td>\n",
       "      <td>339</td>\n",
       "      <td>2366147</td>\n",
       "    </tr>\n",
       "    <tr>\n",
       "      <th>22</th>\n",
       "      <td>2019-08-23</td>\n",
       "      <td>359</td>\n",
       "      <td>2424010</td>\n",
       "    </tr>\n",
       "    <tr>\n",
       "      <th>23</th>\n",
       "      <td>2019-08-24</td>\n",
       "      <td>372</td>\n",
       "      <td>2546023</td>\n",
       "    </tr>\n",
       "    <tr>\n",
       "      <th>24</th>\n",
       "      <td>2019-08-25</td>\n",
       "      <td>380</td>\n",
       "      <td>2597907</td>\n",
       "    </tr>\n",
       "    <tr>\n",
       "      <th>25</th>\n",
       "      <td>2019-08-26</td>\n",
       "      <td>396</td>\n",
       "      <td>2755121</td>\n",
       "    </tr>\n",
       "    <tr>\n",
       "      <th>26</th>\n",
       "      <td>2019-08-27</td>\n",
       "      <td>419</td>\n",
       "      <td>2940471</td>\n",
       "    </tr>\n",
       "    <tr>\n",
       "      <th>27</th>\n",
       "      <td>2019-08-28</td>\n",
       "      <td>434</td>\n",
       "      <td>3036933</td>\n",
       "    </tr>\n",
       "    <tr>\n",
       "      <th>28</th>\n",
       "      <td>2019-08-29</td>\n",
       "      <td>451</td>\n",
       "      <td>3233233</td>\n",
       "    </tr>\n",
       "    <tr>\n",
       "      <th>29</th>\n",
       "      <td>2019-08-30</td>\n",
       "      <td>460</td>\n",
       "      <td>3311413</td>\n",
       "    </tr>\n",
       "    <tr>\n",
       "      <th>30</th>\n",
       "      <td>2019-08-31</td>\n",
       "      <td>468</td>\n",
       "      <td>3364656</td>\n",
       "    </tr>\n",
       "  </tbody>\n",
       "</table>\n",
       "</div>"
      ],
      "text/plain": [
       "         date  ordersCummulativeA  revenueCummulativeA\n",
       "0  2019-08-01                  23               142779\n",
       "1  2019-08-02                  42               234381\n",
       "2  2019-08-03                  66               346854\n",
       "3  2019-08-04                  77               388030\n",
       "4  2019-08-05                  99               474413\n",
       "5  2019-08-06                 114               515332\n",
       "6  2019-08-07                 130               638580\n",
       "7  2019-08-08                 144               727219\n",
       "8  2019-08-09                 155               861456\n",
       "9  2019-08-10                 170              1013731\n",
       "10 2019-08-11                 181              1074396\n",
       "11 2019-08-12                 200              1294788\n",
       "12 2019-08-13                 214              1558426\n",
       "13 2019-08-14                 231              1601692\n",
       "14 2019-08-15                 241              1682569\n",
       "15 2019-08-16                 259              1782420\n",
       "16 2019-08-17                 265              1817160\n",
       "17 2019-08-18                 278              1876741\n",
       "18 2019-08-19                 299              2044934\n",
       "19 2019-08-20                 309              2103613\n",
       "20 2019-08-21                 329              2273782\n",
       "21 2019-08-22                 339              2366147\n",
       "22 2019-08-23                 359              2424010\n",
       "23 2019-08-24                 372              2546023\n",
       "24 2019-08-25                 380              2597907\n",
       "25 2019-08-26                 396              2755121\n",
       "26 2019-08-27                 419              2940471\n",
       "27 2019-08-28                 434              3036933\n",
       "28 2019-08-29                 451              3233233\n",
       "29 2019-08-30                 460              3311413\n",
       "30 2019-08-31                 468              3364656"
      ]
     },
     "execution_count": 23,
     "metadata": {},
     "output_type": "execute_result"
    }
   ],
   "source": [
    "ordersACummulative = ordersADaily.apply(\n",
    "    lambda x: ordersADaily[ordersADaily['date'] <= x['date']].agg(\n",
    "        {'date': 'max', 'ordersPerDateA': 'sum', 'revenuePerDateA': 'sum'}\n",
    "    ),\n",
    "    axis=1,\n",
    ").sort_values(by=['date'])\n",
    "ordersACummulative.columns = [\n",
    "    'date',\n",
    "    'ordersCummulativeA',\n",
    "    'revenueCummulativeA',\n",
    "]\n",
    "ordersACummulative"
   ]
  },
  {
   "cell_type": "code",
   "execution_count": 24,
   "metadata": {},
   "outputs": [
    {
     "data": {
      "text/html": [
       "<div>\n",
       "<style scoped>\n",
       "    .dataframe tbody tr th:only-of-type {\n",
       "        vertical-align: middle;\n",
       "    }\n",
       "\n",
       "    .dataframe tbody tr th {\n",
       "        vertical-align: top;\n",
       "    }\n",
       "\n",
       "    .dataframe thead th {\n",
       "        text-align: right;\n",
       "    }\n",
       "</style>\n",
       "<table border=\"1\" class=\"dataframe\">\n",
       "  <thead>\n",
       "    <tr style=\"text-align: right;\">\n",
       "      <th></th>\n",
       "      <th>date</th>\n",
       "      <th>ordersCummulativeB</th>\n",
       "      <th>revenueCummulativeB</th>\n",
       "    </tr>\n",
       "  </thead>\n",
       "  <tbody>\n",
       "    <tr>\n",
       "      <th>0</th>\n",
       "      <td>2019-08-01</td>\n",
       "      <td>17</td>\n",
       "      <td>59758</td>\n",
       "    </tr>\n",
       "    <tr>\n",
       "      <th>1</th>\n",
       "      <td>2019-08-02</td>\n",
       "      <td>40</td>\n",
       "      <td>221801</td>\n",
       "    </tr>\n",
       "    <tr>\n",
       "      <th>2</th>\n",
       "      <td>2019-08-03</td>\n",
       "      <td>54</td>\n",
       "      <td>288850</td>\n",
       "    </tr>\n",
       "    <tr>\n",
       "      <th>3</th>\n",
       "      <td>2019-08-04</td>\n",
       "      <td>68</td>\n",
       "      <td>385740</td>\n",
       "    </tr>\n",
       "    <tr>\n",
       "      <th>4</th>\n",
       "      <td>2019-08-05</td>\n",
       "      <td>89</td>\n",
       "      <td>475648</td>\n",
       "    </tr>\n",
       "    <tr>\n",
       "      <th>5</th>\n",
       "      <td>2019-08-06</td>\n",
       "      <td>112</td>\n",
       "      <td>690490</td>\n",
       "    </tr>\n",
       "    <tr>\n",
       "      <th>6</th>\n",
       "      <td>2019-08-07</td>\n",
       "      <td>135</td>\n",
       "      <td>909654</td>\n",
       "    </tr>\n",
       "    <tr>\n",
       "      <th>7</th>\n",
       "      <td>2019-08-08</td>\n",
       "      <td>157</td>\n",
       "      <td>1059795</td>\n",
       "    </tr>\n",
       "    <tr>\n",
       "      <th>8</th>\n",
       "      <td>2019-08-09</td>\n",
       "      <td>176</td>\n",
       "      <td>1162961</td>\n",
       "    </tr>\n",
       "    <tr>\n",
       "      <th>9</th>\n",
       "      <td>2019-08-10</td>\n",
       "      <td>198</td>\n",
       "      <td>1268123</td>\n",
       "    </tr>\n",
       "    <tr>\n",
       "      <th>10</th>\n",
       "      <td>2019-08-11</td>\n",
       "      <td>210</td>\n",
       "      <td>1321183</td>\n",
       "    </tr>\n",
       "    <tr>\n",
       "      <th>11</th>\n",
       "      <td>2019-08-12</td>\n",
       "      <td>229</td>\n",
       "      <td>1425237</td>\n",
       "    </tr>\n",
       "    <tr>\n",
       "      <th>12</th>\n",
       "      <td>2019-08-13</td>\n",
       "      <td>249</td>\n",
       "      <td>1542928</td>\n",
       "    </tr>\n",
       "    <tr>\n",
       "      <th>13</th>\n",
       "      <td>2019-08-14</td>\n",
       "      <td>263</td>\n",
       "      <td>1650268</td>\n",
       "    </tr>\n",
       "    <tr>\n",
       "      <th>14</th>\n",
       "      <td>2019-08-15</td>\n",
       "      <td>289</td>\n",
       "      <td>1960427</td>\n",
       "    </tr>\n",
       "    <tr>\n",
       "      <th>15</th>\n",
       "      <td>2019-08-16</td>\n",
       "      <td>307</td>\n",
       "      <td>2074677</td>\n",
       "    </tr>\n",
       "    <tr>\n",
       "      <th>16</th>\n",
       "      <td>2019-08-17</td>\n",
       "      <td>320</td>\n",
       "      <td>2155542</td>\n",
       "    </tr>\n",
       "    <tr>\n",
       "      <th>17</th>\n",
       "      <td>2019-08-18</td>\n",
       "      <td>327</td>\n",
       "      <td>2190865</td>\n",
       "    </tr>\n",
       "    <tr>\n",
       "      <th>18</th>\n",
       "      <td>2019-08-19</td>\n",
       "      <td>348</td>\n",
       "      <td>3620785</td>\n",
       "    </tr>\n",
       "    <tr>\n",
       "      <th>19</th>\n",
       "      <td>2019-08-20</td>\n",
       "      <td>368</td>\n",
       "      <td>3768059</td>\n",
       "    </tr>\n",
       "    <tr>\n",
       "      <th>20</th>\n",
       "      <td>2019-08-21</td>\n",
       "      <td>380</td>\n",
       "      <td>3908406</td>\n",
       "    </tr>\n",
       "    <tr>\n",
       "      <th>21</th>\n",
       "      <td>2019-08-22</td>\n",
       "      <td>401</td>\n",
       "      <td>4050134</td>\n",
       "    </tr>\n",
       "    <tr>\n",
       "      <th>22</th>\n",
       "      <td>2019-08-23</td>\n",
       "      <td>414</td>\n",
       "      <td>4127403</td>\n",
       "    </tr>\n",
       "    <tr>\n",
       "      <th>23</th>\n",
       "      <td>2019-08-24</td>\n",
       "      <td>428</td>\n",
       "      <td>4215269</td>\n",
       "    </tr>\n",
       "    <tr>\n",
       "      <th>24</th>\n",
       "      <td>2019-08-25</td>\n",
       "      <td>440</td>\n",
       "      <td>4294526</td>\n",
       "    </tr>\n",
       "    <tr>\n",
       "      <th>25</th>\n",
       "      <td>2019-08-26</td>\n",
       "      <td>462</td>\n",
       "      <td>4467965</td>\n",
       "    </tr>\n",
       "    <tr>\n",
       "      <th>26</th>\n",
       "      <td>2019-08-27</td>\n",
       "      <td>473</td>\n",
       "      <td>4579312</td>\n",
       "    </tr>\n",
       "    <tr>\n",
       "      <th>27</th>\n",
       "      <td>2019-08-28</td>\n",
       "      <td>495</td>\n",
       "      <td>4640510</td>\n",
       "    </tr>\n",
       "    <tr>\n",
       "      <th>28</th>\n",
       "      <td>2019-08-29</td>\n",
       "      <td>510</td>\n",
       "      <td>4746610</td>\n",
       "    </tr>\n",
       "    <tr>\n",
       "      <th>29</th>\n",
       "      <td>2019-08-30</td>\n",
       "      <td>531</td>\n",
       "      <td>4955833</td>\n",
       "    </tr>\n",
       "    <tr>\n",
       "      <th>30</th>\n",
       "      <td>2019-08-31</td>\n",
       "      <td>548</td>\n",
       "      <td>5068972</td>\n",
       "    </tr>\n",
       "  </tbody>\n",
       "</table>\n",
       "</div>"
      ],
      "text/plain": [
       "         date  ordersCummulativeB  revenueCummulativeB\n",
       "0  2019-08-01                  17                59758\n",
       "1  2019-08-02                  40               221801\n",
       "2  2019-08-03                  54               288850\n",
       "3  2019-08-04                  68               385740\n",
       "4  2019-08-05                  89               475648\n",
       "5  2019-08-06                 112               690490\n",
       "6  2019-08-07                 135               909654\n",
       "7  2019-08-08                 157              1059795\n",
       "8  2019-08-09                 176              1162961\n",
       "9  2019-08-10                 198              1268123\n",
       "10 2019-08-11                 210              1321183\n",
       "11 2019-08-12                 229              1425237\n",
       "12 2019-08-13                 249              1542928\n",
       "13 2019-08-14                 263              1650268\n",
       "14 2019-08-15                 289              1960427\n",
       "15 2019-08-16                 307              2074677\n",
       "16 2019-08-17                 320              2155542\n",
       "17 2019-08-18                 327              2190865\n",
       "18 2019-08-19                 348              3620785\n",
       "19 2019-08-20                 368              3768059\n",
       "20 2019-08-21                 380              3908406\n",
       "21 2019-08-22                 401              4050134\n",
       "22 2019-08-23                 414              4127403\n",
       "23 2019-08-24                 428              4215269\n",
       "24 2019-08-25                 440              4294526\n",
       "25 2019-08-26                 462              4467965\n",
       "26 2019-08-27                 473              4579312\n",
       "27 2019-08-28                 495              4640510\n",
       "28 2019-08-29                 510              4746610\n",
       "29 2019-08-30                 531              4955833\n",
       "30 2019-08-31                 548              5068972"
      ]
     },
     "execution_count": 24,
     "metadata": {},
     "output_type": "execute_result"
    }
   ],
   "source": [
    "ordersBCummulative = ordersBDaily.apply(\n",
    "    lambda x: ordersBDaily[ordersBDaily['date'] <= x['date']].agg(\n",
    "        {'date': 'max', 'ordersPerDateB': 'sum', 'revenuePerDateB': 'sum'}\n",
    "    ),\n",
    "    axis=1,\n",
    ").sort_values(by=['date'])\n",
    "ordersBCummulative.columns = [\n",
    "    'date',\n",
    "    'ordersCummulativeB',\n",
    "    'revenueCummulativeB',\n",
    "]\n",
    "ordersBCummulative"
   ]
  },
  {
   "cell_type": "code",
   "execution_count": 25,
   "metadata": {},
   "outputs": [
    {
     "data": {
      "text/html": [
       "<div>\n",
       "<style scoped>\n",
       "    .dataframe tbody tr th:only-of-type {\n",
       "        vertical-align: middle;\n",
       "    }\n",
       "\n",
       "    .dataframe tbody tr th {\n",
       "        vertical-align: top;\n",
       "    }\n",
       "\n",
       "    .dataframe thead th {\n",
       "        text-align: right;\n",
       "    }\n",
       "</style>\n",
       "<table border=\"1\" class=\"dataframe\">\n",
       "  <thead>\n",
       "    <tr style=\"text-align: right;\">\n",
       "      <th></th>\n",
       "      <th>date</th>\n",
       "      <th>ordersPerDateA</th>\n",
       "      <th>revenuePerDateA</th>\n",
       "      <th>ordersPerDateB</th>\n",
       "      <th>revenuePerDateB</th>\n",
       "      <th>ordersCummulativeA</th>\n",
       "      <th>revenueCummulativeA</th>\n",
       "      <th>ordersCummulativeB</th>\n",
       "      <th>revenueCummulativeB</th>\n",
       "      <th>visitorsPerDateA</th>\n",
       "      <th>visitorsPerDateB</th>\n",
       "      <th>visitorsCummulativeA</th>\n",
       "      <th>visitorsCummulativeB</th>\n",
       "    </tr>\n",
       "  </thead>\n",
       "  <tbody>\n",
       "    <tr>\n",
       "      <th>0</th>\n",
       "      <td>2019-08-01</td>\n",
       "      <td>23</td>\n",
       "      <td>142779</td>\n",
       "      <td>17</td>\n",
       "      <td>59758</td>\n",
       "      <td>23</td>\n",
       "      <td>142779</td>\n",
       "      <td>17</td>\n",
       "      <td>59758</td>\n",
       "      <td>719</td>\n",
       "      <td>713</td>\n",
       "      <td>719</td>\n",
       "      <td>713</td>\n",
       "    </tr>\n",
       "    <tr>\n",
       "      <th>1</th>\n",
       "      <td>2019-08-02</td>\n",
       "      <td>19</td>\n",
       "      <td>91602</td>\n",
       "      <td>23</td>\n",
       "      <td>162043</td>\n",
       "      <td>42</td>\n",
       "      <td>234381</td>\n",
       "      <td>40</td>\n",
       "      <td>221801</td>\n",
       "      <td>619</td>\n",
       "      <td>581</td>\n",
       "      <td>1338</td>\n",
       "      <td>1294</td>\n",
       "    </tr>\n",
       "    <tr>\n",
       "      <th>2</th>\n",
       "      <td>2019-08-03</td>\n",
       "      <td>24</td>\n",
       "      <td>112473</td>\n",
       "      <td>14</td>\n",
       "      <td>67049</td>\n",
       "      <td>66</td>\n",
       "      <td>346854</td>\n",
       "      <td>54</td>\n",
       "      <td>288850</td>\n",
       "      <td>507</td>\n",
       "      <td>509</td>\n",
       "      <td>1845</td>\n",
       "      <td>1803</td>\n",
       "    </tr>\n",
       "    <tr>\n",
       "      <th>3</th>\n",
       "      <td>2019-08-04</td>\n",
       "      <td>11</td>\n",
       "      <td>41176</td>\n",
       "      <td>14</td>\n",
       "      <td>96890</td>\n",
       "      <td>77</td>\n",
       "      <td>388030</td>\n",
       "      <td>68</td>\n",
       "      <td>385740</td>\n",
       "      <td>717</td>\n",
       "      <td>770</td>\n",
       "      <td>2562</td>\n",
       "      <td>2573</td>\n",
       "    </tr>\n",
       "    <tr>\n",
       "      <th>4</th>\n",
       "      <td>2019-08-05</td>\n",
       "      <td>22</td>\n",
       "      <td>86383</td>\n",
       "      <td>21</td>\n",
       "      <td>89908</td>\n",
       "      <td>99</td>\n",
       "      <td>474413</td>\n",
       "      <td>89</td>\n",
       "      <td>475648</td>\n",
       "      <td>756</td>\n",
       "      <td>707</td>\n",
       "      <td>3318</td>\n",
       "      <td>3280</td>\n",
       "    </tr>\n",
       "    <tr>\n",
       "      <th>5</th>\n",
       "      <td>2019-08-06</td>\n",
       "      <td>15</td>\n",
       "      <td>40919</td>\n",
       "      <td>23</td>\n",
       "      <td>214842</td>\n",
       "      <td>114</td>\n",
       "      <td>515332</td>\n",
       "      <td>112</td>\n",
       "      <td>690490</td>\n",
       "      <td>667</td>\n",
       "      <td>655</td>\n",
       "      <td>3985</td>\n",
       "      <td>3935</td>\n",
       "    </tr>\n",
       "    <tr>\n",
       "      <th>6</th>\n",
       "      <td>2019-08-07</td>\n",
       "      <td>16</td>\n",
       "      <td>123248</td>\n",
       "      <td>23</td>\n",
       "      <td>219164</td>\n",
       "      <td>130</td>\n",
       "      <td>638580</td>\n",
       "      <td>135</td>\n",
       "      <td>909654</td>\n",
       "      <td>644</td>\n",
       "      <td>709</td>\n",
       "      <td>4629</td>\n",
       "      <td>4644</td>\n",
       "    </tr>\n",
       "    <tr>\n",
       "      <th>7</th>\n",
       "      <td>2019-08-08</td>\n",
       "      <td>14</td>\n",
       "      <td>88639</td>\n",
       "      <td>22</td>\n",
       "      <td>150141</td>\n",
       "      <td>144</td>\n",
       "      <td>727219</td>\n",
       "      <td>157</td>\n",
       "      <td>1059795</td>\n",
       "      <td>610</td>\n",
       "      <td>654</td>\n",
       "      <td>5239</td>\n",
       "      <td>5298</td>\n",
       "    </tr>\n",
       "    <tr>\n",
       "      <th>8</th>\n",
       "      <td>2019-08-09</td>\n",
       "      <td>11</td>\n",
       "      <td>134237</td>\n",
       "      <td>19</td>\n",
       "      <td>103166</td>\n",
       "      <td>155</td>\n",
       "      <td>861456</td>\n",
       "      <td>176</td>\n",
       "      <td>1162961</td>\n",
       "      <td>617</td>\n",
       "      <td>610</td>\n",
       "      <td>5856</td>\n",
       "      <td>5908</td>\n",
       "    </tr>\n",
       "    <tr>\n",
       "      <th>9</th>\n",
       "      <td>2019-08-10</td>\n",
       "      <td>15</td>\n",
       "      <td>152275</td>\n",
       "      <td>22</td>\n",
       "      <td>105162</td>\n",
       "      <td>170</td>\n",
       "      <td>1013731</td>\n",
       "      <td>198</td>\n",
       "      <td>1268123</td>\n",
       "      <td>406</td>\n",
       "      <td>369</td>\n",
       "      <td>6262</td>\n",
       "      <td>6277</td>\n",
       "    </tr>\n",
       "    <tr>\n",
       "      <th>10</th>\n",
       "      <td>2019-08-11</td>\n",
       "      <td>11</td>\n",
       "      <td>60665</td>\n",
       "      <td>12</td>\n",
       "      <td>53060</td>\n",
       "      <td>181</td>\n",
       "      <td>1074396</td>\n",
       "      <td>210</td>\n",
       "      <td>1321183</td>\n",
       "      <td>718</td>\n",
       "      <td>721</td>\n",
       "      <td>6980</td>\n",
       "      <td>6998</td>\n",
       "    </tr>\n",
       "    <tr>\n",
       "      <th>11</th>\n",
       "      <td>2019-08-12</td>\n",
       "      <td>19</td>\n",
       "      <td>220392</td>\n",
       "      <td>19</td>\n",
       "      <td>104054</td>\n",
       "      <td>200</td>\n",
       "      <td>1294788</td>\n",
       "      <td>229</td>\n",
       "      <td>1425237</td>\n",
       "      <td>595</td>\n",
       "      <td>543</td>\n",
       "      <td>7575</td>\n",
       "      <td>7541</td>\n",
       "    </tr>\n",
       "    <tr>\n",
       "      <th>12</th>\n",
       "      <td>2019-08-13</td>\n",
       "      <td>14</td>\n",
       "      <td>263638</td>\n",
       "      <td>20</td>\n",
       "      <td>117691</td>\n",
       "      <td>214</td>\n",
       "      <td>1558426</td>\n",
       "      <td>249</td>\n",
       "      <td>1542928</td>\n",
       "      <td>748</td>\n",
       "      <td>769</td>\n",
       "      <td>8323</td>\n",
       "      <td>8310</td>\n",
       "    </tr>\n",
       "    <tr>\n",
       "      <th>13</th>\n",
       "      <td>2019-08-14</td>\n",
       "      <td>17</td>\n",
       "      <td>43266</td>\n",
       "      <td>14</td>\n",
       "      <td>107340</td>\n",
       "      <td>231</td>\n",
       "      <td>1601692</td>\n",
       "      <td>263</td>\n",
       "      <td>1650268</td>\n",
       "      <td>735</td>\n",
       "      <td>746</td>\n",
       "      <td>9058</td>\n",
       "      <td>9056</td>\n",
       "    </tr>\n",
       "    <tr>\n",
       "      <th>14</th>\n",
       "      <td>2019-08-15</td>\n",
       "      <td>10</td>\n",
       "      <td>80877</td>\n",
       "      <td>26</td>\n",
       "      <td>310159</td>\n",
       "      <td>241</td>\n",
       "      <td>1682569</td>\n",
       "      <td>289</td>\n",
       "      <td>1960427</td>\n",
       "      <td>628</td>\n",
       "      <td>544</td>\n",
       "      <td>9686</td>\n",
       "      <td>9600</td>\n",
       "    </tr>\n",
       "    <tr>\n",
       "      <th>15</th>\n",
       "      <td>2019-08-16</td>\n",
       "      <td>18</td>\n",
       "      <td>99851</td>\n",
       "      <td>18</td>\n",
       "      <td>114250</td>\n",
       "      <td>259</td>\n",
       "      <td>1782420</td>\n",
       "      <td>307</td>\n",
       "      <td>2074677</td>\n",
       "      <td>361</td>\n",
       "      <td>413</td>\n",
       "      <td>10047</td>\n",
       "      <td>10013</td>\n",
       "    </tr>\n",
       "    <tr>\n",
       "      <th>16</th>\n",
       "      <td>2019-08-17</td>\n",
       "      <td>6</td>\n",
       "      <td>34740</td>\n",
       "      <td>13</td>\n",
       "      <td>80865</td>\n",
       "      <td>265</td>\n",
       "      <td>1817160</td>\n",
       "      <td>320</td>\n",
       "      <td>2155542</td>\n",
       "      <td>412</td>\n",
       "      <td>421</td>\n",
       "      <td>10459</td>\n",
       "      <td>10434</td>\n",
       "    </tr>\n",
       "    <tr>\n",
       "      <th>17</th>\n",
       "      <td>2019-08-18</td>\n",
       "      <td>13</td>\n",
       "      <td>59581</td>\n",
       "      <td>7</td>\n",
       "      <td>35323</td>\n",
       "      <td>278</td>\n",
       "      <td>1876741</td>\n",
       "      <td>327</td>\n",
       "      <td>2190865</td>\n",
       "      <td>668</td>\n",
       "      <td>737</td>\n",
       "      <td>11127</td>\n",
       "      <td>11171</td>\n",
       "    </tr>\n",
       "    <tr>\n",
       "      <th>18</th>\n",
       "      <td>2019-08-19</td>\n",
       "      <td>21</td>\n",
       "      <td>168193</td>\n",
       "      <td>21</td>\n",
       "      <td>1429920</td>\n",
       "      <td>299</td>\n",
       "      <td>2044934</td>\n",
       "      <td>348</td>\n",
       "      <td>3620785</td>\n",
       "      <td>502</td>\n",
       "      <td>487</td>\n",
       "      <td>11629</td>\n",
       "      <td>11658</td>\n",
       "    </tr>\n",
       "    <tr>\n",
       "      <th>19</th>\n",
       "      <td>2019-08-20</td>\n",
       "      <td>10</td>\n",
       "      <td>58679</td>\n",
       "      <td>20</td>\n",
       "      <td>147274</td>\n",
       "      <td>309</td>\n",
       "      <td>2103613</td>\n",
       "      <td>368</td>\n",
       "      <td>3768059</td>\n",
       "      <td>575</td>\n",
       "      <td>560</td>\n",
       "      <td>12204</td>\n",
       "      <td>12218</td>\n",
       "    </tr>\n",
       "    <tr>\n",
       "      <th>20</th>\n",
       "      <td>2019-08-21</td>\n",
       "      <td>20</td>\n",
       "      <td>170169</td>\n",
       "      <td>12</td>\n",
       "      <td>140347</td>\n",
       "      <td>329</td>\n",
       "      <td>2273782</td>\n",
       "      <td>380</td>\n",
       "      <td>3908406</td>\n",
       "      <td>646</td>\n",
       "      <td>656</td>\n",
       "      <td>12850</td>\n",
       "      <td>12874</td>\n",
       "    </tr>\n",
       "    <tr>\n",
       "      <th>21</th>\n",
       "      <td>2019-08-22</td>\n",
       "      <td>10</td>\n",
       "      <td>92365</td>\n",
       "      <td>21</td>\n",
       "      <td>141728</td>\n",
       "      <td>339</td>\n",
       "      <td>2366147</td>\n",
       "      <td>401</td>\n",
       "      <td>4050134</td>\n",
       "      <td>609</td>\n",
       "      <td>650</td>\n",
       "      <td>13459</td>\n",
       "      <td>13524</td>\n",
       "    </tr>\n",
       "    <tr>\n",
       "      <th>22</th>\n",
       "      <td>2019-08-23</td>\n",
       "      <td>20</td>\n",
       "      <td>57863</td>\n",
       "      <td>13</td>\n",
       "      <td>77269</td>\n",
       "      <td>359</td>\n",
       "      <td>2424010</td>\n",
       "      <td>414</td>\n",
       "      <td>4127403</td>\n",
       "      <td>468</td>\n",
       "      <td>546</td>\n",
       "      <td>13927</td>\n",
       "      <td>14070</td>\n",
       "    </tr>\n",
       "    <tr>\n",
       "      <th>23</th>\n",
       "      <td>2019-08-24</td>\n",
       "      <td>13</td>\n",
       "      <td>122013</td>\n",
       "      <td>14</td>\n",
       "      <td>87866</td>\n",
       "      <td>372</td>\n",
       "      <td>2546023</td>\n",
       "      <td>428</td>\n",
       "      <td>4215269</td>\n",
       "      <td>395</td>\n",
       "      <td>378</td>\n",
       "      <td>14322</td>\n",
       "      <td>14448</td>\n",
       "    </tr>\n",
       "    <tr>\n",
       "      <th>24</th>\n",
       "      <td>2019-08-25</td>\n",
       "      <td>8</td>\n",
       "      <td>51884</td>\n",
       "      <td>12</td>\n",
       "      <td>79257</td>\n",
       "      <td>380</td>\n",
       "      <td>2597907</td>\n",
       "      <td>440</td>\n",
       "      <td>4294526</td>\n",
       "      <td>621</td>\n",
       "      <td>679</td>\n",
       "      <td>14943</td>\n",
       "      <td>15127</td>\n",
       "    </tr>\n",
       "    <tr>\n",
       "      <th>25</th>\n",
       "      <td>2019-08-26</td>\n",
       "      <td>16</td>\n",
       "      <td>157214</td>\n",
       "      <td>22</td>\n",
       "      <td>173439</td>\n",
       "      <td>396</td>\n",
       "      <td>2755121</td>\n",
       "      <td>462</td>\n",
       "      <td>4467965</td>\n",
       "      <td>722</td>\n",
       "      <td>676</td>\n",
       "      <td>15665</td>\n",
       "      <td>15803</td>\n",
       "    </tr>\n",
       "    <tr>\n",
       "      <th>26</th>\n",
       "      <td>2019-08-27</td>\n",
       "      <td>23</td>\n",
       "      <td>185350</td>\n",
       "      <td>11</td>\n",
       "      <td>111347</td>\n",
       "      <td>419</td>\n",
       "      <td>2940471</td>\n",
       "      <td>473</td>\n",
       "      <td>4579312</td>\n",
       "      <td>711</td>\n",
       "      <td>720</td>\n",
       "      <td>16376</td>\n",
       "      <td>16523</td>\n",
       "    </tr>\n",
       "    <tr>\n",
       "      <th>27</th>\n",
       "      <td>2019-08-28</td>\n",
       "      <td>15</td>\n",
       "      <td>96462</td>\n",
       "      <td>22</td>\n",
       "      <td>61198</td>\n",
       "      <td>434</td>\n",
       "      <td>3036933</td>\n",
       "      <td>495</td>\n",
       "      <td>4640510</td>\n",
       "      <td>594</td>\n",
       "      <td>654</td>\n",
       "      <td>16970</td>\n",
       "      <td>17177</td>\n",
       "    </tr>\n",
       "    <tr>\n",
       "      <th>28</th>\n",
       "      <td>2019-08-29</td>\n",
       "      <td>17</td>\n",
       "      <td>196300</td>\n",
       "      <td>15</td>\n",
       "      <td>106100</td>\n",
       "      <td>451</td>\n",
       "      <td>3233233</td>\n",
       "      <td>510</td>\n",
       "      <td>4746610</td>\n",
       "      <td>577</td>\n",
       "      <td>531</td>\n",
       "      <td>17547</td>\n",
       "      <td>17708</td>\n",
       "    </tr>\n",
       "    <tr>\n",
       "      <th>29</th>\n",
       "      <td>2019-08-30</td>\n",
       "      <td>9</td>\n",
       "      <td>78180</td>\n",
       "      <td>21</td>\n",
       "      <td>209223</td>\n",
       "      <td>460</td>\n",
       "      <td>3311413</td>\n",
       "      <td>531</td>\n",
       "      <td>4955833</td>\n",
       "      <td>490</td>\n",
       "      <td>490</td>\n",
       "      <td>18037</td>\n",
       "      <td>18198</td>\n",
       "    </tr>\n",
       "    <tr>\n",
       "      <th>30</th>\n",
       "      <td>2019-08-31</td>\n",
       "      <td>8</td>\n",
       "      <td>53243</td>\n",
       "      <td>17</td>\n",
       "      <td>113139</td>\n",
       "      <td>468</td>\n",
       "      <td>3364656</td>\n",
       "      <td>548</td>\n",
       "      <td>5068972</td>\n",
       "      <td>699</td>\n",
       "      <td>718</td>\n",
       "      <td>18736</td>\n",
       "      <td>18916</td>\n",
       "    </tr>\n",
       "  </tbody>\n",
       "</table>\n",
       "</div>"
      ],
      "text/plain": [
       "         date  ordersPerDateA  revenuePerDateA  ordersPerDateB  \\\n",
       "0  2019-08-01              23           142779              17   \n",
       "1  2019-08-02              19            91602              23   \n",
       "2  2019-08-03              24           112473              14   \n",
       "3  2019-08-04              11            41176              14   \n",
       "4  2019-08-05              22            86383              21   \n",
       "5  2019-08-06              15            40919              23   \n",
       "6  2019-08-07              16           123248              23   \n",
       "7  2019-08-08              14            88639              22   \n",
       "8  2019-08-09              11           134237              19   \n",
       "9  2019-08-10              15           152275              22   \n",
       "10 2019-08-11              11            60665              12   \n",
       "11 2019-08-12              19           220392              19   \n",
       "12 2019-08-13              14           263638              20   \n",
       "13 2019-08-14              17            43266              14   \n",
       "14 2019-08-15              10            80877              26   \n",
       "15 2019-08-16              18            99851              18   \n",
       "16 2019-08-17               6            34740              13   \n",
       "17 2019-08-18              13            59581               7   \n",
       "18 2019-08-19              21           168193              21   \n",
       "19 2019-08-20              10            58679              20   \n",
       "20 2019-08-21              20           170169              12   \n",
       "21 2019-08-22              10            92365              21   \n",
       "22 2019-08-23              20            57863              13   \n",
       "23 2019-08-24              13           122013              14   \n",
       "24 2019-08-25               8            51884              12   \n",
       "25 2019-08-26              16           157214              22   \n",
       "26 2019-08-27              23           185350              11   \n",
       "27 2019-08-28              15            96462              22   \n",
       "28 2019-08-29              17           196300              15   \n",
       "29 2019-08-30               9            78180              21   \n",
       "30 2019-08-31               8            53243              17   \n",
       "\n",
       "    revenuePerDateB  ordersCummulativeA  revenueCummulativeA  \\\n",
       "0             59758                  23               142779   \n",
       "1            162043                  42               234381   \n",
       "2             67049                  66               346854   \n",
       "3             96890                  77               388030   \n",
       "4             89908                  99               474413   \n",
       "5            214842                 114               515332   \n",
       "6            219164                 130               638580   \n",
       "7            150141                 144               727219   \n",
       "8            103166                 155               861456   \n",
       "9            105162                 170              1013731   \n",
       "10            53060                 181              1074396   \n",
       "11           104054                 200              1294788   \n",
       "12           117691                 214              1558426   \n",
       "13           107340                 231              1601692   \n",
       "14           310159                 241              1682569   \n",
       "15           114250                 259              1782420   \n",
       "16            80865                 265              1817160   \n",
       "17            35323                 278              1876741   \n",
       "18          1429920                 299              2044934   \n",
       "19           147274                 309              2103613   \n",
       "20           140347                 329              2273782   \n",
       "21           141728                 339              2366147   \n",
       "22            77269                 359              2424010   \n",
       "23            87866                 372              2546023   \n",
       "24            79257                 380              2597907   \n",
       "25           173439                 396              2755121   \n",
       "26           111347                 419              2940471   \n",
       "27            61198                 434              3036933   \n",
       "28           106100                 451              3233233   \n",
       "29           209223                 460              3311413   \n",
       "30           113139                 468              3364656   \n",
       "\n",
       "    ordersCummulativeB  revenueCummulativeB  visitorsPerDateA  \\\n",
       "0                   17                59758               719   \n",
       "1                   40               221801               619   \n",
       "2                   54               288850               507   \n",
       "3                   68               385740               717   \n",
       "4                   89               475648               756   \n",
       "5                  112               690490               667   \n",
       "6                  135               909654               644   \n",
       "7                  157              1059795               610   \n",
       "8                  176              1162961               617   \n",
       "9                  198              1268123               406   \n",
       "10                 210              1321183               718   \n",
       "11                 229              1425237               595   \n",
       "12                 249              1542928               748   \n",
       "13                 263              1650268               735   \n",
       "14                 289              1960427               628   \n",
       "15                 307              2074677               361   \n",
       "16                 320              2155542               412   \n",
       "17                 327              2190865               668   \n",
       "18                 348              3620785               502   \n",
       "19                 368              3768059               575   \n",
       "20                 380              3908406               646   \n",
       "21                 401              4050134               609   \n",
       "22                 414              4127403               468   \n",
       "23                 428              4215269               395   \n",
       "24                 440              4294526               621   \n",
       "25                 462              4467965               722   \n",
       "26                 473              4579312               711   \n",
       "27                 495              4640510               594   \n",
       "28                 510              4746610               577   \n",
       "29                 531              4955833               490   \n",
       "30                 548              5068972               699   \n",
       "\n",
       "    visitorsPerDateB  visitorsCummulativeA  visitorsCummulativeB  \n",
       "0                713                   719                   713  \n",
       "1                581                  1338                  1294  \n",
       "2                509                  1845                  1803  \n",
       "3                770                  2562                  2573  \n",
       "4                707                  3318                  3280  \n",
       "5                655                  3985                  3935  \n",
       "6                709                  4629                  4644  \n",
       "7                654                  5239                  5298  \n",
       "8                610                  5856                  5908  \n",
       "9                369                  6262                  6277  \n",
       "10               721                  6980                  6998  \n",
       "11               543                  7575                  7541  \n",
       "12               769                  8323                  8310  \n",
       "13               746                  9058                  9056  \n",
       "14               544                  9686                  9600  \n",
       "15               413                 10047                 10013  \n",
       "16               421                 10459                 10434  \n",
       "17               737                 11127                 11171  \n",
       "18               487                 11629                 11658  \n",
       "19               560                 12204                 12218  \n",
       "20               656                 12850                 12874  \n",
       "21               650                 13459                 13524  \n",
       "22               546                 13927                 14070  \n",
       "23               378                 14322                 14448  \n",
       "24               679                 14943                 15127  \n",
       "25               676                 15665                 15803  \n",
       "26               720                 16376                 16523  \n",
       "27               654                 16970                 17177  \n",
       "28               531                 17547                 17708  \n",
       "29               490                 18037                 18198  \n",
       "30               718                 18736                 18916  "
      ]
     },
     "execution_count": 25,
     "metadata": {},
     "output_type": "execute_result"
    }
   ],
   "source": [
    "data = (\n",
    "    ordersADaily.merge(\n",
    "        ordersBDaily, left_on='date', right_on='date', how='left'\n",
    "    )\n",
    "    .merge(ordersACummulative, left_on='date', right_on='date', how='left')\n",
    "    .merge(ordersBCummulative, left_on='date', right_on='date', how='left')\n",
    "    .merge(visitorsADaily, left_on='date', right_on='date', how='left')\n",
    "    .merge(visitorsBDaily, left_on='date', right_on='date', how='left')\n",
    "    .merge(visitorsACummulative, left_on='date', right_on='date', how='left')\n",
    "    .merge(visitorsBCummulative, left_on='date', right_on='date', how='left')\n",
    ")\n",
    "data"
   ]
  },
  {
   "cell_type": "markdown",
   "metadata": {},
   "source": [
    "### 1. Постройте график кумулятивной выручки по группам. Сделайте выводы и предположения."
   ]
  },
  {
   "cell_type": "code",
   "execution_count": 26,
   "metadata": {},
   "outputs": [
    {
     "data": {
      "image/png": "[encoded data removed]",
      "text/plain": [
       "<Figure size 720x720 with 1 Axes>"
      ]
     },
     "metadata": {
      "needs_background": "light"
     },
     "output_type": "display_data"
    }
   ],
   "source": [
    "plt.figure(figsize=(10, 10))\n",
    "plt.rc('axes', titlesize= 20 ) \n",
    "plt.rc('xtick', labelsize= 10 ) \n",
    "plt.rc('ytick', labelsize= 10) \n",
    "\n",
    "plt.plot(ordersACummulative['date'], ordersACummulative['revenueCummulativeA'], label='A')\n",
    "plt.plot(ordersBCummulative['date'], ordersBCummulative['revenueCummulativeB'], label='B')\n",
    "plt.title(\"График кумулятивной выручки по группам\")\n",
    "plt.xlabel('Дата')\n",
    "plt.ylabel('Кумулятивная выручка')\n",
    "plt.legend() \n",
    "plt.show()"
   ]
  },
  {
   "cell_type": "markdown",
   "metadata": {},
   "source": [
    "Из графика можно сказать, что до 2019-08-05 выручка росла одинаково. </p>\n",
    "С 2019-08-05 по 2019-08-13 были различия. Кумулятивная выручка группы Б увеличиливалась больше, чем группы А. </p>\n",
    "2019-08-13 график снова сошёлся. </p>\n",
    "После 2019-08-13 график был поход на период с 2019-08-05 по 2019-08-13, но в дату 2019-08-18 случился резкий скачок Кумулятивной выручки группы Б. </p>\n",
    "Вывод: В некоторые моменты кумулятивная выручка Группы Б была больше, чем у группы А.Надо разобраться с чем связан скачок, возможно удалить эти данные и посмотреть на ещё раз.</p>\n",
    "Предположение: По кумулятивной выручке группа Б выглядит лучше."
   ]
  },
  {
   "cell_type": "markdown",
   "metadata": {},
   "source": [
    "<div class=\"alert alert-block alert-info\">\n",
    "\n",
    "### Комментарий студента_V1: \n",
    "\n",
    "Сделано\n",
    "\n",
    "</div>"
   ]
  },
  {
   "cell_type": "markdown",
   "metadata": {},
   "source": [
    "### 2. Постройте график кумулятивного среднего чека по группам. Сделайте выводы и предположения."
   ]
  },
  {
   "cell_type": "code",
   "execution_count": 27,
   "metadata": {},
   "outputs": [
    {
     "data": {
      "image/png": "[encoded data removed]",
      "text/plain": [
       "<Figure size 720x720 with 1 Axes>"
      ]
     },
     "metadata": {
      "needs_background": "light"
     },
     "output_type": "display_data"
    }
   ],
   "source": [
    "plt.figure(figsize=(10, 10))\n",
    "plt.rc('axes', titlesize= 20 ) \n",
    "plt.rc('xtick', labelsize= 10 ) \n",
    "plt.rc('ytick', labelsize= 10)\n",
    "\n",
    "plt.plot(ordersACummulative['date'], ordersACummulative['revenueCummulativeA']/ordersACummulative['ordersCummulativeA'], label='A')\n",
    "plt.plot(ordersBCummulative['date'], ordersBCummulative['revenueCummulativeB']/ordersBCummulative['ordersCummulativeB'], label='B')\n",
    "plt.title(\"График кумулятивного среднего чека по группам\")\n",
    "plt.xlabel('Дата')\n",
    "plt.ylabel('Кумулятивный средний чек')\n",
    "plt.legend()\n",
    "plt.show()"
   ]
  },
  {
   "cell_type": "markdown",
   "metadata": {},
   "source": [
    "По графику кумулятивного среднего чека, выглядит лучше группа Б.</p>\n",
    "Если убрать скачок у группы Б, то возможно, по кумулятвному среднему чеку график А будет лежать выше, поскольку после резкого повышения графика группы Б, он продолжает идти вниз."
   ]
  },
  {
   "cell_type": "markdown",
   "metadata": {},
   "source": [
    "### 3. Постройте график относительного изменения кумулятивного среднего чека группы B к группе A. Сделайте выводы и предположения."
   ]
  },
  {
   "cell_type": "code",
   "execution_count": 28,
   "metadata": {},
   "outputs": [
    {
     "data": {
      "image/png": "[encoded data removed]",
      "text/plain": [
       "<Figure size 720x720 with 1 Axes>"
      ]
     },
     "metadata": {
      "needs_background": "light"
     },
     "output_type": "display_data"
    }
   ],
   "source": [
    "plt.figure(figsize=(10, 10))\n",
    "plt.rc('axes', titlesize= 20 ) \n",
    "plt.rc('xtick', labelsize= 10 ) \n",
    "plt.rc('ytick', labelsize= 10)\n",
    "plt.plot(ordersACummulative['date'], \\\n",
    "         (ordersBCummulative['revenueCummulativeB']/ordersBCummulative['ordersCummulativeB'])/ \n",
    "         (ordersACummulative['revenueCummulativeA']/ordersACummulative['ordersCummulativeA'])-1)\n",
    "plt.axhline(y=0, color='black', linestyle='--')\n",
    "plt.title(\"График относительного изменения кумулятивного среднего чека группы В к группе А\")\n",
    "plt.xlabel('Дата')\n",
    "plt.show()"
   ]
  },
  {
   "cell_type": "markdown",
   "metadata": {},
   "source": [
    "В период с 2019-08-04 по 2019-08-11 кумулятивный средний чек группы Б был больше, чем группы А. После чего, до 2019-08-18 чек был больше у группы А. ПОсле этого чек группы Б улетел в небеса (видимо какая-то Очень крупная покупка). \n",
    "Но отношение ЧекБ/ЧекА, судя по концу графика, стремится уменьшиться."
   ]
  },
  {
   "cell_type": "markdown",
   "metadata": {},
   "source": [
    "### 4. Постройте график кумулятивного среднего количества заказов на посетителя по группам. Сделайте выводы и предположения."
   ]
  },
  {
   "cell_type": "code",
   "execution_count": 29,
   "metadata": {},
   "outputs": [
    {
     "data": {
      "image/png": "[encoded data removed]",
      "text/plain": [
       "<Figure size 720x720 with 1 Axes>"
      ]
     },
     "metadata": {
      "needs_background": "light"
     },
     "output_type": "display_data"
    }
   ],
   "source": [
    "plt.figure(figsize=(10, 10))\n",
    "plt.rc('axes', titlesize= 20 ) \n",
    "plt.rc('xtick', labelsize= 10 ) \n",
    "plt.rc('ytick', labelsize= 10)\n",
    "plt.plot(data['date'], data['ordersCummulativeA'] / data['visitorsCummulativeA'], label='A')\n",
    "plt.plot(data['date'], data['ordersCummulativeB'] / data['visitorsCummulativeB'], label='B')\n",
    "plt.title(\"График кумулятивного среднего количества заказов на посетителя по группам\")\n",
    "plt.xlabel('Дата')\n",
    "plt.ylabel('Среднее количество посетителей')\n",
    "plt.legend() \n",
    "plt.show()"
   ]
  },
  {
   "cell_type": "markdown",
   "metadata": {},
   "source": [
    "Скачок у обеих групп в начале эксперимента, почти сразу низкий спад. </p>\n",
    "Спад показателя группы А продолжился, в то же время Показатель группы Б снова начал расти. </p>\n",
    "После чего показатели перестали претерпевать сильных изменений. </p>\n",
    "Группа Б лидирует в данном показателе."
   ]
  },
  {
   "cell_type": "markdown",
   "metadata": {},
   "source": [
    "### 5. Постройте график относительного изменения кумулятивного среднего количества заказов на посетителя группы B к группе A. Сделайте выводы и предположения."
   ]
  },
  {
   "cell_type": "code",
   "execution_count": 30,
   "metadata": {},
   "outputs": [
    {
     "data": {
      "image/png": "[encoded data removed]",
      "text/plain": [
       "<Figure size 720x720 with 1 Axes>"
      ]
     },
     "metadata": {
      "needs_background": "light"
     },
     "output_type": "display_data"
    }
   ],
   "source": [
    "plt.figure(figsize=(10, 10))\n",
    "plt.rc('axes', titlesize= 20 ) \n",
    "plt.rc('xtick', labelsize= 10 ) \n",
    "plt.rc('ytick', labelsize= 10)\n",
    "plt.plot(data['date'], ((data['ordersCummulativeB'] / data['visitorsCummulativeB']) / (data['ordersCummulativeA'] / data['visitorsCummulativeA']) - 1), label='A')\n",
    "plt.axhline(y=0, color='black', linestyle='--')\n",
    "plt.title(\"График относительного изменения кумулятивного среднего количества заказов на посетителя группы B к группе A\")\n",
    "plt.xlabel('Дата')\n",
    "plt.show()"
   ]
  },
  {
   "cell_type": "markdown",
   "metadata": {},
   "source": [
    "Есть лишь небольшой отрезок времени, когда кумулятивный показатель среднего количества заказов на поситетеля группы А больше этого же показателя группы Б."
   ]
  },
  {
   "cell_type": "markdown",
   "metadata": {},
   "source": [
    "### 6. Постройте точечный график количества заказов по пользователям. Сделайте выводы и предположения."
   ]
  },
  {
   "cell_type": "code",
   "execution_count": 31,
   "metadata": {},
   "outputs": [
    {
     "data": {
      "image/png": "[encoded data removed]",
      "text/plain": [
       "<Figure size 720x720 with 1 Axes>"
      ]
     },
     "metadata": {
      "needs_background": "light"
     },
     "output_type": "display_data"
    }
   ],
   "source": [
    "ordersByUsers = (\n",
    "    orders.groupby('userId',as_index=False)\n",
    "    .agg({'orderId':'nunique'})\n",
    ")\n",
    "x_values = pd.Series(range(0, len(ordersByUsers)))\n",
    "plt.figure(figsize=(10,10))\n",
    "plt.rc('axes', titlesize= 20 ) \n",
    "plt.rc('xtick', labelsize= 10 ) \n",
    "plt.rc('ytick', labelsize= 10)\n",
    "plt.scatter(x=x_values,y=ordersByUsers['orderId'])\n",
    "plt.title(\"Точечный график количества заказов по пользователям\")\n",
    "plt.xlabel('-')\n",
    "plt.ylabel('Количество заказов')\n",
    "plt.show()"
   ]
  },
  {
   "cell_type": "markdown",
   "metadata": {},
   "source": [
    "Основная часть людей делала лишь 1 заказ, редко по 2 заказа, ещё реже 3 заказа."
   ]
  },
  {
   "cell_type": "markdown",
   "metadata": {},
   "source": [
    "### 7. Посчитайте 95-й и 99-й перцентили количества заказов на пользователя. Выберите границу для определения аномальных пользователей."
   ]
  },
  {
   "cell_type": "code",
   "execution_count": 32,
   "metadata": {},
   "outputs": [
    {
     "data": {
      "text/plain": [
       "array([1., 2.])"
      ]
     },
     "execution_count": 32,
     "metadata": {},
     "output_type": "execute_result"
    }
   ],
   "source": [
    "np.percentile(ordersByUsers['orderId'], [95,99])"
   ]
  },
  {
   "cell_type": "markdown",
   "metadata": {},
   "source": [
    "Границу выбираю 1 заказ."
   ]
  },
  {
   "cell_type": "markdown",
   "metadata": {},
   "source": [
    "### 8. Постройте точечный график стоимостей заказов. Сделайте выводы и предположения."
   ]
  },
  {
   "cell_type": "code",
   "execution_count": 33,
   "metadata": {},
   "outputs": [
    {
     "data": {
      "image/png": "[encoded data removed]",
      "text/plain": [
       "<Figure size 720x720 with 1 Axes>"
      ]
     },
     "metadata": {
      "needs_background": "light"
     },
     "output_type": "display_data"
    }
   ],
   "source": [
    "\n",
    "x_values = pd.Series(range(0, len(orders)))\n",
    "plt.figure(figsize=(10,10))\n",
    "plt.rc('axes', titlesize= 20 ) \n",
    "plt.rc('xtick', labelsize= 10 ) \n",
    "plt.rc('ytick', labelsize= 10)\n",
    "plt.scatter(x=x_values,y=orders['revenue'])\n",
    "plt.title(\"Точечный график стоимости заказов\")\n",
    "plt.xlabel('-')\n",
    "plt.ylabel('Сумма заказов')\n",
    "plt.show()"
   ]
  },
  {
   "cell_type": "code",
   "execution_count": 34,
   "metadata": {},
   "outputs": [
    {
     "data": {
      "image/png": "[encoded data removed]",
      "text/plain": [
       "<Figure size 720x720 with 1 Axes>"
      ]
     },
     "metadata": {
      "needs_background": "light"
     },
     "output_type": "display_data"
    }
   ],
   "source": [
    "\n",
    "x_values = pd.Series(range(0, len(orders.query('revenue < 20000'))))\n",
    "plt.figure(figsize=(10,10))\n",
    "plt.rc('axes', titlesize= 20 ) \n",
    "plt.rc('xtick', labelsize= 10 ) \n",
    "plt.rc('ytick', labelsize= 10)\n",
    "plt.scatter(x=x_values,y=orders.query('revenue < 20000')['revenue'])\n",
    "plt.title(\"Точечный график стоимости заказов\")\n",
    "plt.xlabel('-')\n",
    "plt.ylabel('Сумма заказов')\n",
    "plt.show()"
   ]
  },
  {
   "cell_type": "markdown",
   "metadata": {},
   "source": [
    "<div class=\"alert alert-block alert-info\">\n",
    "\n",
    "### Комментарий студента_V1: \n",
    "\n",
    "Наиболее плотная часть по стоимости заказа лежит в границах от 0 до ~ 3500.\n",
    "\n",
    "</div>"
   ]
  },
  {
   "cell_type": "markdown",
   "metadata": {},
   "source": [
    "Основная часть заказов ниже ~0.05 * 1e6. Один заказ около 0.2 * 1e6. Один заказ больше 1.2 * 1e6 (тот самый, который резко уводил *денежные* графики вверх)"
   ]
  },
  {
   "cell_type": "markdown",
   "metadata": {},
   "source": [
    "### 9. Посчитайте 95-й и 99-й перцентили стоимости заказов. Выберите границу для определения аномальных заказов."
   ]
  },
  {
   "cell_type": "code",
   "execution_count": 35,
   "metadata": {},
   "outputs": [
    {
     "data": {
      "text/plain": [
       "array([26785., 53904.])"
      ]
     },
     "execution_count": 35,
     "metadata": {},
     "output_type": "execute_result"
    }
   ],
   "source": [
    "np.percentile(orders['revenue'], [95,99])"
   ]
  },
  {
   "cell_type": "markdown",
   "metadata": {},
   "source": [
    "95-й перцентиль равен 26785. Его и возьму за границу аномальных заказов."
   ]
  },
  {
   "cell_type": "markdown",
   "metadata": {},
   "source": [
    "### 10. Посчитайте статистическую значимость различий в среднем количестве заказов на посетителя между группами по «сырым» данным. Сделайте выводы и предположения."
   ]
  },
  {
   "cell_type": "markdown",
   "metadata": {},
   "source": [
    "<div class=\"alert alert-block alert-info\">\n",
    "\n",
    "### Комментарий студента_V1: \n",
    "    \n",
    "Нулевая гипотеза Н0 - различий в среднем количестве заказов на посетителя между группами А и Б нет. </p>\n",
    "Альтернативная гипотеза Н1 - различия есть.\n",
    "\n",
    "</div>"
   ]
  },
  {
   "cell_type": "code",
   "execution_count": 36,
   "metadata": {},
   "outputs": [],
   "source": [
    "ordersByUsersA = (\n",
    "    orders.query('group == \"A\"')\n",
    "    .groupby('userId', as_index=False)\n",
    "    .agg({'orderId': 'nunique'})\n",
    ")\n",
    "ordersByUsersA.columns = ['userId','orders']\n",
    "ordersByUsersB = (\n",
    "    orders.query('group == \"B\"')\n",
    "    .groupby('userId', as_index=False)\n",
    "    .agg({'orderId': 'nunique'})\n",
    ")\n",
    "ordersByUsersB.columns = ['userId','orders']"
   ]
  },
  {
   "cell_type": "code",
   "execution_count": 37,
   "metadata": {},
   "outputs": [],
   "source": [
    "sampleA = pd.concat([ordersByUsersA['orders'],pd.Series(0, index=np.arange(data['visitorsPerDateA'].sum() - len(ordersByUsersA['orders'])), name='orders')],axis=0)\n",
    "sampleB = pd.concat([ordersByUsersB['orders'],pd.Series(0, index=np.arange(data['visitorsPerDateB'].sum() - len(ordersByUsersB['orders'])), name='orders')],axis=0)"
   ]
  },
  {
   "cell_type": "code",
   "execution_count": 38,
   "metadata": {},
   "outputs": [
    {
     "name": "stdout",
     "output_type": "stream",
     "text": [
      "0.01102\n"
     ]
    }
   ],
   "source": [
    "print(\"{0:.5f}\".format(stats.mannwhitneyu(sampleA, sampleB)[1]))\n"
   ]
  },
  {
   "cell_type": "markdown",
   "metadata": {},
   "source": [
    "P-value < 0.05 => Есть статистически значимые отличия между группами."
   ]
  },
  {
   "cell_type": "markdown",
   "metadata": {},
   "source": [
    "<div class=\"alert alert-block alert-info\">\n",
    "\n",
    "### Комментарий студента_V1: \n",
    "    \n",
    "Добавил ниже\n",
    "\n",
    "</div>"
   ]
  },
  {
   "cell_type": "code",
   "execution_count": 39,
   "metadata": {},
   "outputs": [
    {
     "name": "stdout",
     "output_type": "stream",
     "text": [
      "0.160\n"
     ]
    }
   ],
   "source": [
    "print(\"{0:.3f}\".format(sampleB.mean() / sampleA.mean() - 1))"
   ]
  },
  {
   "cell_type": "markdown",
   "metadata": {},
   "source": [
    "<div class=\"alert alert-block alert-info\">\n",
    "\n",
    "### Комментарий студента_V1: \n",
    "    \n",
    "Относительный прирост группы Б в среднем количестве заказов = 16%\n",
    "ПРоцент достаточно большой, что подтверждает результат теста о стат.значимости.\n",
    "\n",
    "</div>"
   ]
  },
  {
   "cell_type": "markdown",
   "metadata": {},
   "source": [
    "### 11. Посчитайте статистическую значимость различий в среднем чеке заказа между группами по «сырым» данным. Сделайте выводы и предположения."
   ]
  },
  {
   "cell_type": "markdown",
   "metadata": {},
   "source": [
    "<div class=\"alert alert-block alert-info\">\n",
    "\n",
    "### Комментарий студента_V1: \n",
    "    \n",
    "Нулевая гипотеза Н0 - различий в среднем чеке между группами А и Б нет.\n",
    "\n",
    "Альтернативная гипотеза Н1 - различия есть.\n",
    "\n",
    "</div>"
   ]
  },
  {
   "cell_type": "code",
   "execution_count": 40,
   "metadata": {},
   "outputs": [
    {
     "name": "stdout",
     "output_type": "stream",
     "text": [
      "0.829\n"
     ]
    }
   ],
   "source": [
    "sampleA = orders.query('group == \"A\"')['revenue']\n",
    "sampleB = orders.query('group == \"B\"')['revenue']\n",
    "print('{0:.3f}'.format(stats.mannwhitneyu(sampleA, sampleB)[1]))"
   ]
  },
  {
   "cell_type": "code",
   "execution_count": 41,
   "metadata": {
    "scrolled": true
   },
   "outputs": [
    {
     "name": "stdout",
     "output_type": "stream",
     "text": [
      "0.287\n"
     ]
    }
   ],
   "source": [
    "print(\"{0:.3f}\".format(sampleB.mean() / sampleA.mean() - 1))"
   ]
  },
  {
   "cell_type": "markdown",
   "metadata": {},
   "source": [
    "<div class=\"alert alert-block alert-info\">\n",
    "\n",
    "### Комментарий студента_V1: \n",
    "    \n",
    "ОТносительный прирост группы Б в среднем чеке = 28.7% </p>\n",
    "Огромная цифра! При этом я отвергаю нулевую гипотезу. Возможно дело в том, что данные *сырые* посмотрим что будет после их *очистки*\n",
    "\n",
    "</div>"
   ]
  },
  {
   "cell_type": "markdown",
   "metadata": {},
   "source": [
    "P-value > 0.05 => Нет статистически значимых отличий между группами. Не отвергаем нулевую гипотезу."
   ]
  },
  {
   "cell_type": "markdown",
   "metadata": {},
   "source": [
    "### 12. Посчитайте статистическую значимость различий в среднем количестве заказов на посетителя между группами по «очищенным» данным. Сделайте выводы и предположения."
   ]
  },
  {
   "cell_type": "code",
   "execution_count": 42,
   "metadata": {},
   "outputs": [
    {
     "data": {
      "text/plain": [
       "1.0"
      ]
     },
     "execution_count": 42,
     "metadata": {},
     "output_type": "execute_result"
    }
   ],
   "source": [
    "filter_count_order = np.percentile(ordersByUsers['orderId'], [95,99])[0]\n",
    "filter_count_order"
   ]
  },
  {
   "cell_type": "code",
   "execution_count": 43,
   "metadata": {},
   "outputs": [
    {
     "data": {
      "text/plain": [
       "26785.0"
      ]
     },
     "execution_count": 43,
     "metadata": {},
     "output_type": "execute_result"
    }
   ],
   "source": [
    "filter_count_revenue = np.percentile(orders['revenue'], [95,99])[0]\n",
    "filter_count_revenue"
   ]
  },
  {
   "cell_type": "code",
   "execution_count": 44,
   "metadata": {},
   "outputs": [
    {
     "data": {
      "text/plain": [
       "568      113298937\n",
       "1099     148427295\n",
       "928      204675465\n",
       "33       249864742\n",
       "684      358944393\n",
       "36       366673373\n",
       "648      382846391\n",
       "51       406208401\n",
       "67       522292794\n",
       "58       611059232\n",
       "64       678354126\n",
       "751      689129267\n",
       "72       759473111\n",
       "77       787824685\n",
       "654      816783716\n",
       "339      834731816\n",
       "949      887908475\n",
       "744      888512513\n",
       "563      935349363\n",
       "709      950626008\n",
       "551     1010866419\n",
       "1103    1164614297\n",
       "137     1211585711\n",
       "1136    1307669133\n",
       "421     1357170471\n",
       "549     1367935136\n",
       "176     1404560065\n",
       "562     1452540367\n",
       "1121    1604853044\n",
       "1038    1605520752\n",
       "420     1606766439\n",
       "171     1617417821\n",
       "208     1637811943\n",
       "180     1772171838\n",
       "425     1920142716\n",
       "250     1985475298\n",
       "256     2025197455\n",
       "265     2096506107\n",
       "1196    2108080724\n",
       "211     2108163459\n",
       "227     2232111114\n",
       "570     2247666522\n",
       "287     2254456485\n",
       "131     2254586615\n",
       "1006    2261934787\n",
       "273     2278620397\n",
       "755     2279926127\n",
       "239     2306096143\n",
       "296     2366521417\n",
       "303     2397843657\n",
       "1142    2606908679\n",
       "279     2706377257\n",
       "282     2733145037\n",
       "347     2742574263\n",
       "286     2744017357\n",
       "527     2837914161\n",
       "925     2840985286\n",
       "890     2853587382\n",
       "302     2892265953\n",
       "530     2912540959\n",
       "73      2947100995\n",
       "173     2953427180\n",
       "310     2988190573\n",
       "960     2999642019\n",
       "388     3077396270\n",
       "208     3118156181\n",
       "481     3177790019\n",
       "78      3288820196\n",
       "746     3321013705\n",
       "418     3332057097\n",
       "728     3357398384\n",
       "421     3362039251\n",
       "867     3372131337\n",
       "425     3379260072\n",
       "374     3469608676\n",
       "1087    3590655705\n",
       "409     3908431265\n",
       "613     3931967268\n",
       "486     3935952912\n",
       "489     3941503500\n",
       "416     3967698036\n",
       "940     4003628586\n",
       "723     4009017467\n",
       "430     4109358064\n",
       "743     4133034833\n",
       "507     4134830387\n",
       "Name: userId, dtype: int64"
      ]
     },
     "execution_count": 44,
     "metadata": {},
     "output_type": "execute_result"
    }
   ],
   "source": [
    "usersWithManyOrders = pd.concat(\n",
    "    [\n",
    "        ordersByUsersA[ordersByUsersA['orders'] > filter_count_order]['userId'],\n",
    "        ordersByUsersB[ordersByUsersB['orders'] > filter_count_order]['userId'],\n",
    "    ],\n",
    "    axis=0,\n",
    ")\n",
    "usersWithExpensiveOrders = orders[orders['revenue'] > filter_count_revenue]['userId']\n",
    "abnormalUsers = (\n",
    "    pd.concat([usersWithManyOrders, usersWithExpensiveOrders], axis=0)\n",
    "    .drop_duplicates()\n",
    "    .sort_values()\n",
    ")\n",
    "abnormalUsers"
   ]
  },
  {
   "cell_type": "markdown",
   "metadata": {},
   "source": [
    "<div class=\"alert alert-block alert-info\">\n",
    "\n",
    "### Комментарий студента_V1: \n",
    "    \n",
    "Сделано\n",
    "\n",
    "</div>"
   ]
  },
  {
   "cell_type": "markdown",
   "metadata": {},
   "source": [
    "\n",
    "<div class=\"alert alert-block alert-info\">\n",
    "\n",
    "### Комментарий студента_V1: \n",
    "\n",
    "Нулевая гипотеза Н0 - различий в среднем количестве заказов на посетителя между группами А и Б нет.\n",
    "\n",
    "Альтернативная гипотеза Н1 - различия есть.\n",
    "\n",
    "</div>"
   ]
  },
  {
   "cell_type": "code",
   "execution_count": 45,
   "metadata": {},
   "outputs": [],
   "source": [
    "sampleAFiltered = pd.concat(\n",
    "    [\n",
    "        ordersByUsersA[\n",
    "            np.logical_not(ordersByUsersA['userId'].isin(abnormalUsers))\n",
    "        ]['orders'],\n",
    "        pd.Series(\n",
    "            0,\n",
    "            index=np.arange(\n",
    "                data['visitorsPerDateA'].sum() - len(ordersByUsersA['orders'])\n",
    "            ),\n",
    "            name='orders',\n",
    "        ),\n",
    "    ],\n",
    "    axis=0,\n",
    ")\n",
    "\n",
    "sampleBFiltered = pd.concat(\n",
    "    [\n",
    "        ordersByUsersB[\n",
    "            np.logical_not(ordersByUsersB['userId'].isin(abnormalUsers))\n",
    "        ]['orders'],\n",
    "        pd.Series(\n",
    "            0,\n",
    "            index=np.arange(\n",
    "                data['visitorsPerDateB'].sum() - len(ordersByUsersB['orders'])\n",
    "            ),\n",
    "            name='orders',\n",
    "        ),\n",
    "    ],\n",
    "    axis=0,\n",
    ")"
   ]
  },
  {
   "cell_type": "code",
   "execution_count": 46,
   "metadata": {},
   "outputs": [
    {
     "name": "stdout",
     "output_type": "stream",
     "text": [
      "0.01593\n"
     ]
    }
   ],
   "source": [
    "print('{0:.5f}'.format(stats.mannwhitneyu(sampleAFiltered, sampleBFiltered)[1]))"
   ]
  },
  {
   "cell_type": "markdown",
   "metadata": {},
   "source": [
    "P-value < 0.05 => Есть стат.значимость. (как и в случае с сырыми данными) "
   ]
  },
  {
   "cell_type": "code",
   "execution_count": 47,
   "metadata": {},
   "outputs": [
    {
     "name": "stdout",
     "output_type": "stream",
     "text": [
      "0.174\n"
     ]
    }
   ],
   "source": [
    "print('{0:.3f}'.format(sampleBFiltered.mean()/sampleAFiltered.mean()-1))"
   ]
  },
  {
   "cell_type": "markdown",
   "metadata": {},
   "source": [
    "<div class=\"alert alert-block alert-info\">\n",
    "\n",
    "### Комментарий студента_V1: \n",
    "    \n",
    "Процент стал ещё больше - 17.4 %\n",
    "\n",
    "</div>"
   ]
  },
  {
   "cell_type": "markdown",
   "metadata": {},
   "source": [
    "### 13. Посчитайте статистическую значимость различий в среднем чеке заказа между группами по «очищенным» данным. Сделайте выводы и предположения."
   ]
  },
  {
   "cell_type": "markdown",
   "metadata": {},
   "source": [
    "\n",
    "<div class=\"alert alert-block alert-info\">\n",
    "\n",
    "### Комментарий студента_V1: \n",
    "\n",
    "Нулевая гипотеза Н0 - различий в среднем чеке между группами А и Б нет.\n",
    "\n",
    "Альтернативная гипотеза Н1 - различия есть.\n",
    "\n",
    "</div>"
   ]
  },
  {
   "cell_type": "code",
   "execution_count": 48,
   "metadata": {},
   "outputs": [
    {
     "data": {
      "text/plain": [
       "0.727"
      ]
     },
     "execution_count": 48,
     "metadata": {},
     "output_type": "execute_result"
    }
   ],
   "source": [
    "p_value = stats.mannwhitneyu(orders.query('group == \"A\" and ~(userId.isin(@abnormalUsers))')['revenue'] \\\n",
    "                   ,orders.query('group == \"B\" and ~(userId.isin(@abnormalUsers))')['revenue'])[1]\n",
    "round(p_value,3)"
   ]
  },
  {
   "cell_type": "markdown",
   "metadata": {},
   "source": [
    "P-value > 0.05 => Нет статистически значимых отличий между группами."
   ]
  },
  {
   "cell_type": "code",
   "execution_count": 49,
   "metadata": {},
   "outputs": [
    {
     "data": {
      "text/plain": [
       "0.035"
      ]
     },
     "execution_count": 49,
     "metadata": {},
     "output_type": "execute_result"
    }
   ],
   "source": [
    "diff = (orders.query('group == \"A\" and ~(userId.isin(@abnormalUsers))')['revenue'].mean() \\\n",
    "                   / orders.query('group == \"B\" and ~(userId.isin(@abnormalUsers))')['revenue'].mean()) - 1\n",
    "round(diff,3)"
   ]
  },
  {
   "cell_type": "markdown",
   "metadata": {},
   "source": [
    "<div class=\"alert alert-block alert-info\">\n",
    "\n",
    "Как я и предполагал, дело было в данных, уходящих за 95-й перцентиль.\n",
    "Теперь разница составляет лишь 3.5 %.\n",
    "\n",
    "</div>"
   ]
  },
  {
   "cell_type": "markdown",
   "metadata": {},
   "source": [
    "### 14. Примите решение по результатам теста и объясните его. Варианты решений: 1. Остановить тест, зафиксировать победу одной из групп. 2. Остановить тест, зафиксировать отсутствие различий между группами. 3. Продолжить тест."
   ]
  },
  {
   "cell_type": "markdown",
   "metadata": {},
   "source": [
    "Есть статистическая значимость различий в среднем количестве заказов на посетителя между группами по «сырым» данным и по «очищенным» данным. </p>\n",
    "По сырым данным нет статистически значимого различия по среднему чеку между группами. Нет статистического значимого различия и после удаления аномалий. </p>\n",
    "График различия кумулятивного среднего количества заказов на посетителя показал, что результаты группы Б лучше группы А. </p>\n",
    "Цель теста была увеличить выручку. Выручка = средний чек * количество заказов. В ходе теста я выяснил, что значимого различия по среднему чеку между группами нет, но есть между количеством заказов на посетителя(в пользу группы Б). Из этого можно сделать вывод что и Выручка выросла. </p>\n",
    "Поэтому я рекомендую остановить тест, зафиксировать победу группы Б."
   ]
  },
  {
   "cell_type": "markdown",
   "metadata": {},
   "source": [
    "<div class=\"alert alert-block alert-info\">\n",
    "\n",
    "В принципе, основные выводы остались такие же.\n",
    "</div>"
   ]
  },
  {
   "cell_type": "code",
   "execution_count": null,
   "metadata": {},
   "outputs": [],
   "source": []
  }
 ],
 "metadata": {
  "ExecuteTimeLog": [
   {
    "duration": 1154,
    "start_time": "2022-12-07T16:19:22.201Z"
   },
   {
    "duration": 278,
    "start_time": "2022-12-07T16:19:23.357Z"
   },
   {
    "duration": 3,
    "start_time": "2022-12-07T16:19:23.637Z"
   },
   {
    "duration": 24,
    "start_time": "2022-12-07T16:19:23.642Z"
   },
   {
    "duration": 17,
    "start_time": "2022-12-07T16:19:23.669Z"
   },
   {
    "duration": 13,
    "start_time": "2022-12-07T16:19:23.687Z"
   },
   {
    "duration": 15,
    "start_time": "2022-12-07T16:19:23.702Z"
   },
   {
    "duration": 19,
    "start_time": "2022-12-07T16:19:23.719Z"
   },
   {
    "duration": 10,
    "start_time": "2022-12-07T16:19:23.740Z"
   },
   {
    "duration": 9,
    "start_time": "2022-12-07T16:19:23.752Z"
   },
   {
    "duration": 8,
    "start_time": "2022-12-07T16:19:23.763Z"
   },
   {
    "duration": 6,
    "start_time": "2022-12-07T16:19:23.772Z"
   },
   {
    "duration": 5,
    "start_time": "2022-12-07T16:19:23.805Z"
   },
   {
    "duration": 11,
    "start_time": "2022-12-07T16:19:23.813Z"
   },
   {
    "duration": 17,
    "start_time": "2022-12-07T16:19:23.825Z"
   },
   {
    "duration": 20,
    "start_time": "2022-12-07T16:19:23.844Z"
   },
   {
    "duration": 71,
    "start_time": "2022-12-07T16:19:23.866Z"
   },
   {
    "duration": 49,
    "start_time": "2022-12-07T16:19:23.939Z"
   },
   {
    "duration": 5,
    "start_time": "2022-12-07T16:19:24.005Z"
   },
   {
    "duration": 24,
    "start_time": "2022-12-07T16:19:24.012Z"
   },
   {
    "duration": 22,
    "start_time": "2022-12-07T16:19:24.037Z"
   },
   {
    "duration": 83,
    "start_time": "2022-12-07T16:19:24.061Z"
   },
   {
    "duration": 76,
    "start_time": "2022-12-07T16:19:24.147Z"
   },
   {
    "duration": 32,
    "start_time": "2022-12-07T16:19:24.224Z"
   },
   {
    "duration": 305,
    "start_time": "2022-12-07T16:19:24.258Z"
   },
   {
    "duration": 213,
    "start_time": "2022-12-07T16:19:24.565Z"
   },
   {
    "duration": 326,
    "start_time": "2022-12-07T16:19:24.780Z"
   },
   {
    "duration": 205,
    "start_time": "2022-12-07T16:19:25.108Z"
   },
   {
    "duration": 326,
    "start_time": "2022-12-07T16:19:25.315Z"
   },
   {
    "duration": 153,
    "start_time": "2022-12-07T16:19:25.643Z"
   },
   {
    "duration": 9,
    "start_time": "2022-12-07T16:19:25.798Z"
   },
   {
    "duration": 157,
    "start_time": "2022-12-07T16:19:25.809Z"
   },
   {
    "duration": 5,
    "start_time": "2022-12-07T16:19:25.968Z"
   },
   {
    "duration": 40,
    "start_time": "2022-12-07T16:19:25.975Z"
   },
   {
    "duration": 25,
    "start_time": "2022-12-07T16:19:26.017Z"
   },
   {
    "duration": 37,
    "start_time": "2022-12-07T16:19:26.043Z"
   },
   {
    "duration": 12,
    "start_time": "2022-12-07T16:19:26.082Z"
   },
   {
    "duration": 28,
    "start_time": "2022-12-07T16:19:26.095Z"
   },
   {
    "duration": 26,
    "start_time": "2022-12-07T16:19:26.125Z"
   },
   {
    "duration": 64,
    "start_time": "2022-12-07T16:19:26.153Z"
   },
   {
    "duration": 25,
    "start_time": "2022-12-07T16:19:26.222Z"
   },
   {
    "duration": 286,
    "start_time": "2022-12-07T16:24:30.082Z"
   },
   {
    "duration": 355,
    "start_time": "2022-12-07T16:24:52.496Z"
   },
   {
    "duration": 13,
    "start_time": "2022-12-07T16:26:31.682Z"
   },
   {
    "duration": 10,
    "start_time": "2022-12-07T16:27:03.753Z"
   },
   {
    "duration": 4,
    "start_time": "2022-12-07T16:31:55.645Z"
   },
   {
    "duration": 1393,
    "start_time": "2022-12-08T12:58:49.130Z"
   },
   {
    "duration": 256,
    "start_time": "2022-12-08T12:58:50.525Z"
   },
   {
    "duration": 3,
    "start_time": "2022-12-08T12:58:50.783Z"
   },
   {
    "duration": 16,
    "start_time": "2022-12-08T12:58:50.787Z"
   },
   {
    "duration": 17,
    "start_time": "2022-12-08T12:58:50.806Z"
   },
   {
    "duration": 28,
    "start_time": "2022-12-08T12:58:50.825Z"
   },
   {
    "duration": 22,
    "start_time": "2022-12-08T12:58:50.855Z"
   },
   {
    "duration": 30,
    "start_time": "2022-12-08T12:58:50.878Z"
   },
   {
    "duration": 10,
    "start_time": "2022-12-08T12:58:50.910Z"
   },
   {
    "duration": 7,
    "start_time": "2022-12-08T12:58:50.922Z"
   },
   {
    "duration": 12,
    "start_time": "2022-12-08T12:58:50.930Z"
   },
   {
    "duration": 4,
    "start_time": "2022-12-08T12:58:50.946Z"
   },
   {
    "duration": 9,
    "start_time": "2022-12-08T12:58:50.952Z"
   },
   {
    "duration": 18,
    "start_time": "2022-12-08T12:58:50.964Z"
   },
   {
    "duration": 22,
    "start_time": "2022-12-08T12:58:50.984Z"
   },
   {
    "duration": 22,
    "start_time": "2022-12-08T12:58:51.008Z"
   },
   {
    "duration": 43,
    "start_time": "2022-12-08T12:58:51.032Z"
   },
   {
    "duration": 108,
    "start_time": "2022-12-08T12:58:51.077Z"
   },
   {
    "duration": 65,
    "start_time": "2022-12-08T12:58:51.186Z"
   },
   {
    "duration": 4,
    "start_time": "2022-12-08T12:58:51.253Z"
   },
   {
    "duration": 51,
    "start_time": "2022-12-08T12:58:51.260Z"
   },
   {
    "duration": 59,
    "start_time": "2022-12-08T12:58:51.313Z"
   },
   {
    "duration": 107,
    "start_time": "2022-12-08T12:58:51.374Z"
   },
   {
    "duration": 83,
    "start_time": "2022-12-08T12:58:51.482Z"
   },
   {
    "duration": 34,
    "start_time": "2022-12-08T12:58:51.567Z"
   },
   {
    "duration": 355,
    "start_time": "2022-12-08T12:58:51.603Z"
   },
   {
    "duration": 239,
    "start_time": "2022-12-08T12:58:51.960Z"
   },
   {
    "duration": 432,
    "start_time": "2022-12-08T12:58:52.200Z"
   },
   {
    "duration": 277,
    "start_time": "2022-12-08T12:58:52.634Z"
   },
   {
    "duration": 381,
    "start_time": "2022-12-08T12:58:52.914Z"
   },
   {
    "duration": 180,
    "start_time": "2022-12-08T12:58:53.296Z"
   },
   {
    "duration": 5,
    "start_time": "2022-12-08T12:58:53.478Z"
   },
   {
    "duration": 182,
    "start_time": "2022-12-08T12:58:53.484Z"
   },
   {
    "duration": 191,
    "start_time": "2022-12-08T12:58:53.668Z"
   },
   {
    "duration": 5,
    "start_time": "2022-12-08T12:58:53.860Z"
   },
   {
    "duration": 25,
    "start_time": "2022-12-08T12:58:53.866Z"
   },
   {
    "duration": 6,
    "start_time": "2022-12-08T12:58:53.893Z"
   },
   {
    "duration": 43,
    "start_time": "2022-12-08T12:58:53.900Z"
   },
   {
    "duration": 17,
    "start_time": "2022-12-08T12:58:53.944Z"
   },
   {
    "duration": 98,
    "start_time": "2022-12-08T12:58:53.963Z"
   },
   {
    "duration": 16,
    "start_time": "2022-12-08T12:58:54.064Z"
   },
   {
    "duration": 17,
    "start_time": "2022-12-08T12:58:54.081Z"
   },
   {
    "duration": 24,
    "start_time": "2022-12-08T12:58:54.100Z"
   },
   {
    "duration": 42,
    "start_time": "2022-12-08T12:58:54.126Z"
   },
   {
    "duration": 16,
    "start_time": "2022-12-08T12:58:54.170Z"
   },
   {
    "duration": 41,
    "start_time": "2022-12-08T12:58:54.187Z"
   },
   {
    "duration": 4,
    "start_time": "2022-12-08T12:58:54.229Z"
   },
   {
    "duration": 49,
    "start_time": "2022-12-08T12:58:54.234Z"
   },
   {
    "duration": 25,
    "start_time": "2022-12-08T12:58:54.285Z"
   },
   {
    "duration": 1196,
    "start_time": "2022-12-08T18:51:49.091Z"
   },
   {
    "duration": 283,
    "start_time": "2022-12-08T18:51:50.289Z"
   },
   {
    "duration": 3,
    "start_time": "2022-12-08T18:51:50.574Z"
   },
   {
    "duration": 31,
    "start_time": "2022-12-08T18:51:50.579Z"
   },
   {
    "duration": 12,
    "start_time": "2022-12-08T18:51:50.613Z"
   },
   {
    "duration": 12,
    "start_time": "2022-12-08T18:51:50.626Z"
   },
   {
    "duration": 22,
    "start_time": "2022-12-08T18:51:50.639Z"
   },
   {
    "duration": 24,
    "start_time": "2022-12-08T18:51:50.662Z"
   },
   {
    "duration": 15,
    "start_time": "2022-12-08T18:51:50.688Z"
   },
   {
    "duration": 5,
    "start_time": "2022-12-08T18:51:50.705Z"
   },
   {
    "duration": 14,
    "start_time": "2022-12-08T18:51:50.711Z"
   },
   {
    "duration": 8,
    "start_time": "2022-12-08T18:51:50.726Z"
   },
   {
    "duration": 7,
    "start_time": "2022-12-08T18:51:50.735Z"
   },
   {
    "duration": 8,
    "start_time": "2022-12-08T18:51:50.744Z"
   },
   {
    "duration": 11,
    "start_time": "2022-12-08T18:51:50.753Z"
   },
   {
    "duration": 11,
    "start_time": "2022-12-08T18:51:50.778Z"
   },
   {
    "duration": 15,
    "start_time": "2022-12-08T18:51:50.791Z"
   },
   {
    "duration": 50,
    "start_time": "2022-12-08T18:51:50.808Z"
   },
   {
    "duration": 59,
    "start_time": "2022-12-08T18:51:50.877Z"
   },
   {
    "duration": 10,
    "start_time": "2022-12-08T18:51:50.938Z"
   },
   {
    "duration": 29,
    "start_time": "2022-12-08T18:51:50.950Z"
   },
   {
    "duration": 27,
    "start_time": "2022-12-08T18:51:50.981Z"
   },
   {
    "duration": 79,
    "start_time": "2022-12-08T18:51:51.010Z"
   },
   {
    "duration": 62,
    "start_time": "2022-12-08T18:51:51.091Z"
   },
   {
    "duration": 58,
    "start_time": "2022-12-08T18:51:51.154Z"
   },
   {
    "duration": 319,
    "start_time": "2022-12-08T18:51:51.214Z"
   },
   {
    "duration": 252,
    "start_time": "2022-12-08T18:51:51.534Z"
   },
   {
    "duration": 332,
    "start_time": "2022-12-08T18:51:51.788Z"
   },
   {
    "duration": 244,
    "start_time": "2022-12-08T18:51:52.122Z"
   },
   {
    "duration": 360,
    "start_time": "2022-12-08T18:51:52.368Z"
   },
   {
    "duration": 187,
    "start_time": "2022-12-08T18:51:52.730Z"
   },
   {
    "duration": 4,
    "start_time": "2022-12-08T18:51:52.919Z"
   },
   {
    "duration": 181,
    "start_time": "2022-12-08T18:51:52.925Z"
   },
   {
    "duration": 179,
    "start_time": "2022-12-08T18:51:53.108Z"
   },
   {
    "duration": 6,
    "start_time": "2022-12-08T18:51:53.289Z"
   },
   {
    "duration": 17,
    "start_time": "2022-12-08T18:51:53.297Z"
   },
   {
    "duration": 22,
    "start_time": "2022-12-08T18:51:53.316Z"
   },
   {
    "duration": 31,
    "start_time": "2022-12-08T18:51:53.339Z"
   },
   {
    "duration": 3,
    "start_time": "2022-12-08T18:51:53.372Z"
   },
   {
    "duration": 80,
    "start_time": "2022-12-08T18:51:53.377Z"
   },
   {
    "duration": 16,
    "start_time": "2022-12-08T18:51:53.461Z"
   },
   {
    "duration": 18,
    "start_time": "2022-12-08T18:51:53.479Z"
   },
   {
    "duration": 15,
    "start_time": "2022-12-08T18:51:53.499Z"
   },
   {
    "duration": 42,
    "start_time": "2022-12-08T18:51:53.516Z"
   },
   {
    "duration": 13,
    "start_time": "2022-12-08T18:51:53.560Z"
   },
   {
    "duration": 51,
    "start_time": "2022-12-08T18:51:53.574Z"
   },
   {
    "duration": 8,
    "start_time": "2022-12-08T18:51:53.627Z"
   },
   {
    "duration": 54,
    "start_time": "2022-12-08T18:51:53.636Z"
   },
   {
    "duration": 26,
    "start_time": "2022-12-08T18:51:53.692Z"
   },
   {
    "duration": 1180,
    "start_time": "2023-03-16T12:03:15.798Z"
   },
   {
    "duration": 267,
    "start_time": "2023-03-16T12:03:16.980Z"
   },
   {
    "duration": 2,
    "start_time": "2023-03-16T12:03:17.249Z"
   },
   {
    "duration": 14,
    "start_time": "2023-03-16T12:03:17.253Z"
   },
   {
    "duration": 12,
    "start_time": "2023-03-16T12:03:17.269Z"
   },
   {
    "duration": 12,
    "start_time": "2023-03-16T12:03:17.283Z"
   },
   {
    "duration": 16,
    "start_time": "2023-03-16T12:03:17.296Z"
   },
   {
    "duration": 16,
    "start_time": "2023-03-16T12:03:17.313Z"
   },
   {
    "duration": 9,
    "start_time": "2023-03-16T12:03:17.331Z"
   },
   {
    "duration": 6,
    "start_time": "2023-03-16T12:03:17.342Z"
   },
   {
    "duration": 9,
    "start_time": "2023-03-16T12:03:17.350Z"
   },
   {
    "duration": 10,
    "start_time": "2023-03-16T12:03:17.360Z"
   },
   {
    "duration": 6,
    "start_time": "2023-03-16T12:03:17.371Z"
   },
   {
    "duration": 34,
    "start_time": "2023-03-16T12:03:17.380Z"
   },
   {
    "duration": 10,
    "start_time": "2023-03-16T12:03:17.416Z"
   },
   {
    "duration": 11,
    "start_time": "2023-03-16T12:03:17.428Z"
   },
   {
    "duration": 12,
    "start_time": "2023-03-16T12:03:17.440Z"
   },
   {
    "duration": 76,
    "start_time": "2023-03-16T12:03:17.454Z"
   },
   {
    "duration": 52,
    "start_time": "2023-03-16T12:03:17.532Z"
   },
   {
    "duration": 4,
    "start_time": "2023-03-16T12:03:17.585Z"
   },
   {
    "duration": 38,
    "start_time": "2023-03-16T12:03:17.591Z"
   },
   {
    "duration": 21,
    "start_time": "2023-03-16T12:03:17.631Z"
   },
   {
    "duration": 78,
    "start_time": "2023-03-16T12:03:17.653Z"
   },
   {
    "duration": 60,
    "start_time": "2023-03-16T12:03:17.732Z"
   },
   {
    "duration": 49,
    "start_time": "2023-03-16T12:03:17.793Z"
   },
   {
    "duration": 317,
    "start_time": "2023-03-16T12:03:17.844Z"
   },
   {
    "duration": 249,
    "start_time": "2023-03-16T12:03:18.163Z"
   },
   {
    "duration": 338,
    "start_time": "2023-03-16T12:03:18.413Z"
   },
   {
    "duration": 290,
    "start_time": "2023-03-16T12:03:18.752Z"
   },
   {
    "duration": 346,
    "start_time": "2023-03-16T12:03:19.044Z"
   },
   {
    "duration": 209,
    "start_time": "2023-03-16T12:03:19.391Z"
   },
   {
    "duration": 10,
    "start_time": "2023-03-16T12:03:19.602Z"
   },
   {
    "duration": 180,
    "start_time": "2023-03-16T12:03:19.614Z"
   },
   {
    "duration": 200,
    "start_time": "2023-03-16T12:03:19.796Z"
   },
   {
    "duration": 7,
    "start_time": "2023-03-16T12:03:19.998Z"
   },
   {
    "duration": 34,
    "start_time": "2023-03-16T12:03:20.013Z"
   },
   {
    "duration": 9,
    "start_time": "2023-03-16T12:03:20.050Z"
   },
   {
    "duration": 70,
    "start_time": "2023-03-16T12:03:20.061Z"
   },
   {
    "duration": 13,
    "start_time": "2023-03-16T12:03:20.133Z"
   },
   {
    "duration": 93,
    "start_time": "2023-03-16T12:03:20.148Z"
   },
   {
    "duration": 16,
    "start_time": "2023-03-16T12:03:20.245Z"
   },
   {
    "duration": 21,
    "start_time": "2023-03-16T12:03:20.264Z"
   },
   {
    "duration": 44,
    "start_time": "2023-03-16T12:03:20.287Z"
   },
   {
    "duration": 27,
    "start_time": "2023-03-16T12:03:20.333Z"
   },
   {
    "duration": 27,
    "start_time": "2023-03-16T12:03:20.362Z"
   },
   {
    "duration": 37,
    "start_time": "2023-03-16T12:03:20.391Z"
   },
   {
    "duration": 3,
    "start_time": "2023-03-16T12:03:20.430Z"
   },
   {
    "duration": 51,
    "start_time": "2023-03-16T12:03:20.435Z"
   },
   {
    "duration": 54,
    "start_time": "2023-03-16T12:03:20.488Z"
   }
  ],
  "kernelspec": {
   "display_name": "Python 3 (ipykernel)",
   "language": "python",
   "name": "python3"
  },
  "language_info": {
   "codemirror_mode": {
    "name": "ipython",
    "version": 3
   },
   "file_extension": ".py",
   "mimetype": "text/x-python",
   "name": "python",
   "nbconvert_exporter": "python",
   "pygments_lexer": "ipython3",
   "version": "3.9.12"
  },
  "toc": {
   "base_numbering": 1,
   "nav_menu": {},
   "number_sections": false,
   "sideBar": true,
   "skip_h1_title": false,
   "title_cell": "Table of Contents",
   "title_sidebar": "Contents",
   "toc_cell": false,
   "toc_position": {
    "height": "calc(100% - 180px)",
    "left": "10px",
    "top": "150px",
    "width": "366.188px"
   },
   "toc_section_display": true,
   "toc_window_display": true
  }
 },
 "nbformat": 4,
 "nbformat_minor": 4
}
