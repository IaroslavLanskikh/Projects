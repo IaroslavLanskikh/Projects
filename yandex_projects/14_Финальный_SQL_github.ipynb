{
 "cells": [
  {
   "cell_type": "markdown",
   "id": "89a0b66c-8ccb-4c75-ba57-7a8019ea73f1",
   "metadata": {},
   "source": [
    "# Задача:\n",
    "Компания купила крупный сервис для чтения книг по подписке. <br>\n",
    "Моя первая задача как аналитика — проанализировать базу данных. <br>\n",
    "В ней — информация о книгах, издательствах, авторах, а также пользовательские обзоры книг. Эти данные помогут сформулировать ценностное предложение для нового продукта."
   ]
  },
  {
   "cell_type": "markdown",
   "id": "9d20a747-d046-47f8-9b7c-78d46ef6fac2",
   "metadata": {},
   "source": [
    "# Описание данных:"
   ]
  },
  {
   "cell_type": "markdown",
   "id": "36ad6a06-1959-443f-86c8-ff93efd1b632",
   "metadata": {},
   "source": [
    "### Описание данных\n",
    "\n",
    "**Таблица `books`**\n",
    "\n",
    "Содержит данные о книгах:\n",
    "\n",
    "- `book_id` — идентификатор книги;\n",
    "- `author_id` — идентификатор автора;\n",
    "- `title` — название книги;\n",
    "- `num_pages` — количество страниц;\n",
    "- `publication_date` — дата публикации книги;\n",
    "- `publisher_id` — идентификатор издателя.\n",
    "\n",
    "**Таблица `authors`**\n",
    "\n",
    "Содержит данные об авторах:\n",
    "\n",
    "- `author_id` — идентификатор автора;\n",
    "- `author` — имя автора.\n",
    "\n",
    "**Таблица `publishers`**\n",
    "\n",
    "Содержит данные об издательствах:\n",
    "\n",
    "- `publisher_id` — идентификатор издательства;\n",
    "- `publisher` — название издательства;\n",
    "\n",
    "**Таблица `ratings`**\n",
    "\n",
    "Содержит данные о пользовательских оценках книг:\n",
    "\n",
    "- `rating_id` — идентификатор оценки;\n",
    "- `book_id` — идентификатор книги;\n",
    "- `username` — имя пользователя, оставившего оценку;\n",
    "- `rating` — оценка книги.\n",
    "\n",
    "**Таблица `reviews`**\n",
    "\n",
    "Содержит данные о пользовательских обзорах на книги:\n",
    "\n",
    "- `review_id` — идентификатор обзора;\n",
    "- `book_id` — идентификатор книги;\n",
    "- `username` — имя пользователя, написавшего обзор;\n",
    "- `text` — текст обзора."
   ]
  },
  {
   "cell_type": "markdown",
   "id": "51285081-fcb3-43b0-bd98-cc7b7cfb3a05",
   "metadata": {},
   "source": [
    "# Подготовка"
   ]
  },
  {
   "cell_type": "code",
   "execution_count": 1,
   "id": "bb9f9b10-ec27-4477-bae8-a0324628da62",
   "metadata": {},
   "outputs": [],
   "source": [
    "# импортируем библиотеки\n",
    "import pandas as pd\n",
    "from sqlalchemy import create_engine"
   ]
  },
  {
   "cell_type": "code",
   "execution_count": 1,
   "id": "a96edcf3-212a-4a97-8653-cfc8028dbd56",
   "metadata": {},
   "outputs": [],
   "source": [
    "# устанавливаем параметры\n",
    "# db_config = {'user': 'Какое-то имя', # имя пользователя\n",
    "# 'pwd': 'Какой-то пароль', # пароль\n",
    "# 'host': 'Какой-то хост',\n",
    "# 'port': Какой-то порт, # порт подключения\n",
    "# 'db': 'ещё что-то'} # название базы данных"
   ]
  },
  {
   "cell_type": "code",
   "execution_count": 3,
   "id": "c9c0353a-2bf7-4612-838c-f1335f158e7a",
   "metadata": {},
   "outputs": [],
   "source": [
    "connection_string = 'postgresql://{}:{}@{}:{}/{}'.format(db_config['user'],\n",
    " db_config['pwd'],\n",
    " db_config['host'],\n",
    " db_config['port'],\n",
    " db_config['db'])"
   ]
  },
  {
   "cell_type": "code",
   "execution_count": 4,
   "id": "bcee80e3-59c6-4b78-8494-f27d7b50d2a0",
   "metadata": {},
   "outputs": [],
   "source": [
    "# сохраняем коннектор\n",
    "engine = create_engine(connection_string, connect_args={'sslmode':'require'})"
   ]
  },
  {
   "cell_type": "code",
   "execution_count": 5,
   "id": "ab63a584-f5bc-4fac-8a55-8d1d45a301c3",
   "metadata": {},
   "outputs": [],
   "source": [
    "def sql(query):\n",
    "    return(pd.io.sql.read_sql(query, con = engine))"
   ]
  },
  {
   "cell_type": "markdown",
   "id": "dcaa4483-5779-4ff4-a061-64a421365721",
   "metadata": {},
   "source": [
    "# Исследуйте таблицы — выведите первые строки;"
   ]
  },
  {
   "cell_type": "markdown",
   "id": "4382c58b-7f7b-495b-aad4-c991166a225a",
   "metadata": {},
   "source": [
    "## books"
   ]
  },
  {
   "cell_type": "code",
   "execution_count": 6,
   "id": "b8fb68f2-1fb8-4136-a489-33daed5fc83b",
   "metadata": {},
   "outputs": [
    {
     "data": {
      "text/html": [
       "<div>\n",
       "<style scoped>\n",
       "    .dataframe tbody tr th:only-of-type {\n",
       "        vertical-align: middle;\n",
       "    }\n",
       "\n",
       "    .dataframe tbody tr th {\n",
       "        vertical-align: top;\n",
       "    }\n",
       "\n",
       "    .dataframe thead th {\n",
       "        text-align: right;\n",
       "    }\n",
       "</style>\n",
       "<table border=\"1\" class=\"dataframe\">\n",
       "  <thead>\n",
       "    <tr style=\"text-align: right;\">\n",
       "      <th></th>\n",
       "      <th>book_id</th>\n",
       "      <th>author_id</th>\n",
       "      <th>title</th>\n",
       "      <th>num_pages</th>\n",
       "      <th>publication_date</th>\n",
       "      <th>publisher_id</th>\n",
       "    </tr>\n",
       "  </thead>\n",
       "  <tbody>\n",
       "    <tr>\n",
       "      <th>0</th>\n",
       "      <td>1</td>\n",
       "      <td>546</td>\n",
       "      <td>'Salem's Lot</td>\n",
       "      <td>594</td>\n",
       "      <td>2005-11-01</td>\n",
       "      <td>93</td>\n",
       "    </tr>\n",
       "  </tbody>\n",
       "</table>\n",
       "</div>"
      ],
      "text/plain": [
       "   book_id  author_id         title  num_pages publication_date  publisher_id\n",
       "0        1        546  'Salem's Lot        594       2005-11-01            93"
      ]
     },
     "execution_count": 6,
     "metadata": {},
     "output_type": "execute_result"
    }
   ],
   "source": [
    "sql('''\n",
    "    SELECT *\n",
    "    FROM books\n",
    "    LIMIT 1\n",
    "''')"
   ]
  },
  {
   "cell_type": "markdown",
   "id": "78f241e6-7b56-4088-94c0-83d40084621d",
   "metadata": {},
   "source": [
    "## authors"
   ]
  },
  {
   "cell_type": "code",
   "execution_count": 7,
   "id": "5899d75b-11c6-46ce-9af8-599d8b04ffd9",
   "metadata": {},
   "outputs": [
    {
     "data": {
      "text/html": [
       "<div>\n",
       "<style scoped>\n",
       "    .dataframe tbody tr th:only-of-type {\n",
       "        vertical-align: middle;\n",
       "    }\n",
       "\n",
       "    .dataframe tbody tr th {\n",
       "        vertical-align: top;\n",
       "    }\n",
       "\n",
       "    .dataframe thead th {\n",
       "        text-align: right;\n",
       "    }\n",
       "</style>\n",
       "<table border=\"1\" class=\"dataframe\">\n",
       "  <thead>\n",
       "    <tr style=\"text-align: right;\">\n",
       "      <th></th>\n",
       "      <th>author_id</th>\n",
       "      <th>author</th>\n",
       "    </tr>\n",
       "  </thead>\n",
       "  <tbody>\n",
       "    <tr>\n",
       "      <th>0</th>\n",
       "      <td>1</td>\n",
       "      <td>A.S. Byatt</td>\n",
       "    </tr>\n",
       "  </tbody>\n",
       "</table>\n",
       "</div>"
      ],
      "text/plain": [
       "   author_id      author\n",
       "0          1  A.S. Byatt"
      ]
     },
     "execution_count": 7,
     "metadata": {},
     "output_type": "execute_result"
    }
   ],
   "source": [
    "sql('''\n",
    "    SELECT *\n",
    "    FROM authors\n",
    "    LIMIT 1\n",
    "''')"
   ]
  },
  {
   "cell_type": "markdown",
   "id": "5dfda3bc-4e7e-4812-aa6d-6182d511b94d",
   "metadata": {},
   "source": [
    "## publishers"
   ]
  },
  {
   "cell_type": "code",
   "execution_count": 8,
   "id": "035ed53e-7411-4dca-a623-309e899de7ca",
   "metadata": {},
   "outputs": [
    {
     "data": {
      "text/html": [
       "<div>\n",
       "<style scoped>\n",
       "    .dataframe tbody tr th:only-of-type {\n",
       "        vertical-align: middle;\n",
       "    }\n",
       "\n",
       "    .dataframe tbody tr th {\n",
       "        vertical-align: top;\n",
       "    }\n",
       "\n",
       "    .dataframe thead th {\n",
       "        text-align: right;\n",
       "    }\n",
       "</style>\n",
       "<table border=\"1\" class=\"dataframe\">\n",
       "  <thead>\n",
       "    <tr style=\"text-align: right;\">\n",
       "      <th></th>\n",
       "      <th>publisher_id</th>\n",
       "      <th>publisher</th>\n",
       "    </tr>\n",
       "  </thead>\n",
       "  <tbody>\n",
       "    <tr>\n",
       "      <th>0</th>\n",
       "      <td>1</td>\n",
       "      <td>Ace</td>\n",
       "    </tr>\n",
       "  </tbody>\n",
       "</table>\n",
       "</div>"
      ],
      "text/plain": [
       "   publisher_id publisher\n",
       "0             1       Ace"
      ]
     },
     "execution_count": 8,
     "metadata": {},
     "output_type": "execute_result"
    }
   ],
   "source": [
    "sql('''\n",
    "    SELECT *\n",
    "    FROM publishers\n",
    "    LIMIT 1\n",
    "''')"
   ]
  },
  {
   "cell_type": "markdown",
   "id": "bb7e2e50-5cac-435f-9d42-055a89b73000",
   "metadata": {},
   "source": [
    "## ratings"
   ]
  },
  {
   "cell_type": "code",
   "execution_count": 9,
   "id": "9576845f-aa5d-4597-b8a1-c3b34129382a",
   "metadata": {},
   "outputs": [
    {
     "data": {
      "text/html": [
       "<div>\n",
       "<style scoped>\n",
       "    .dataframe tbody tr th:only-of-type {\n",
       "        vertical-align: middle;\n",
       "    }\n",
       "\n",
       "    .dataframe tbody tr th {\n",
       "        vertical-align: top;\n",
       "    }\n",
       "\n",
       "    .dataframe thead th {\n",
       "        text-align: right;\n",
       "    }\n",
       "</style>\n",
       "<table border=\"1\" class=\"dataframe\">\n",
       "  <thead>\n",
       "    <tr style=\"text-align: right;\">\n",
       "      <th></th>\n",
       "      <th>rating_id</th>\n",
       "      <th>book_id</th>\n",
       "      <th>username</th>\n",
       "      <th>rating</th>\n",
       "    </tr>\n",
       "  </thead>\n",
       "  <tbody>\n",
       "    <tr>\n",
       "      <th>0</th>\n",
       "      <td>1</td>\n",
       "      <td>1</td>\n",
       "      <td>ryanfranco</td>\n",
       "      <td>4</td>\n",
       "    </tr>\n",
       "  </tbody>\n",
       "</table>\n",
       "</div>"
      ],
      "text/plain": [
       "   rating_id  book_id    username  rating\n",
       "0          1        1  ryanfranco       4"
      ]
     },
     "execution_count": 9,
     "metadata": {},
     "output_type": "execute_result"
    }
   ],
   "source": [
    "sql('''\n",
    "    SELECT *\n",
    "    FROM ratings\n",
    "    LIMIT 1\n",
    "''')"
   ]
  },
  {
   "cell_type": "markdown",
   "id": "4eb99ad0-2ca2-4c4d-b5c6-8eb98cf7f42f",
   "metadata": {},
   "source": [
    "## reviews"
   ]
  },
  {
   "cell_type": "code",
   "execution_count": 10,
   "id": "927bebfd-8611-4797-86e1-121f8ee06609",
   "metadata": {},
   "outputs": [
    {
     "data": {
      "text/html": [
       "<div>\n",
       "<style scoped>\n",
       "    .dataframe tbody tr th:only-of-type {\n",
       "        vertical-align: middle;\n",
       "    }\n",
       "\n",
       "    .dataframe tbody tr th {\n",
       "        vertical-align: top;\n",
       "    }\n",
       "\n",
       "    .dataframe thead th {\n",
       "        text-align: right;\n",
       "    }\n",
       "</style>\n",
       "<table border=\"1\" class=\"dataframe\">\n",
       "  <thead>\n",
       "    <tr style=\"text-align: right;\">\n",
       "      <th></th>\n",
       "      <th>review_id</th>\n",
       "      <th>book_id</th>\n",
       "      <th>username</th>\n",
       "      <th>text</th>\n",
       "    </tr>\n",
       "  </thead>\n",
       "  <tbody>\n",
       "    <tr>\n",
       "      <th>0</th>\n",
       "      <td>1</td>\n",
       "      <td>1</td>\n",
       "      <td>brandtandrea</td>\n",
       "      <td>Mention society tell send professor analysis. ...</td>\n",
       "    </tr>\n",
       "  </tbody>\n",
       "</table>\n",
       "</div>"
      ],
      "text/plain": [
       "   review_id  book_id      username  \\\n",
       "0          1        1  brandtandrea   \n",
       "\n",
       "                                                text  \n",
       "0  Mention society tell send professor analysis. ...  "
      ]
     },
     "execution_count": 10,
     "metadata": {},
     "output_type": "execute_result"
    }
   ],
   "source": [
    "sql('''\n",
    "    SELECT *\n",
    "    FROM reviews\n",
    "    LIMIT 1\n",
    "''')"
   ]
  },
  {
   "cell_type": "markdown",
   "id": "051b40a4-bde3-4a47-adc0-3fee73c05344",
   "metadata": {},
   "source": [
    "# Задания"
   ]
  },
  {
   "cell_type": "markdown",
   "id": "8bc36900-1eb3-4741-94ae-c493da9c6294",
   "metadata": {},
   "source": [
    "## Посчитайте, сколько книг вышло после 1 января 2000 года;"
   ]
  },
  {
   "cell_type": "code",
   "execution_count": 11,
   "id": "0bf2cc17-4902-4e1f-adc5-276391de7b80",
   "metadata": {},
   "outputs": [
    {
     "data": {
      "text/html": [
       "<div>\n",
       "<style scoped>\n",
       "    .dataframe tbody tr th:only-of-type {\n",
       "        vertical-align: middle;\n",
       "    }\n",
       "\n",
       "    .dataframe tbody tr th {\n",
       "        vertical-align: top;\n",
       "    }\n",
       "\n",
       "    .dataframe thead th {\n",
       "        text-align: right;\n",
       "    }\n",
       "</style>\n",
       "<table border=\"1\" class=\"dataframe\">\n",
       "  <thead>\n",
       "    <tr style=\"text-align: right;\">\n",
       "      <th></th>\n",
       "      <th>count</th>\n",
       "    </tr>\n",
       "  </thead>\n",
       "  <tbody>\n",
       "    <tr>\n",
       "      <th>0</th>\n",
       "      <td>819</td>\n",
       "    </tr>\n",
       "  </tbody>\n",
       "</table>\n",
       "</div>"
      ],
      "text/plain": [
       "   count\n",
       "0    819"
      ]
     },
     "execution_count": 11,
     "metadata": {},
     "output_type": "execute_result"
    }
   ],
   "source": [
    "sql('''\n",
    "    SELECT COUNT(*)\n",
    "    FROM books\n",
    "    WHERE publication_date > '2000-01-01'\n",
    "''')"
   ]
  },
  {
   "cell_type": "markdown",
   "id": "e79c1e3a-0a53-446f-88df-343ed501374f",
   "metadata": {},
   "source": [
    "Вывод:<br>\n",
    "\n",
    "Всего 819 книг вышло после 1 января 2000 года."
   ]
  },
  {
   "cell_type": "markdown",
   "id": "48196902-b992-4396-8810-6b05db26460d",
   "metadata": {},
   "source": [
    "## Для каждой книги посчитайте количество обзоров и среднюю оценку;"
   ]
  },
  {
   "cell_type": "code",
   "execution_count": 12,
   "id": "a92b72a4-afbf-4244-91ac-ac55672bec84",
   "metadata": {},
   "outputs": [
    {
     "data": {
      "text/html": [
       "<div>\n",
       "<style scoped>\n",
       "    .dataframe tbody tr th:only-of-type {\n",
       "        vertical-align: middle;\n",
       "    }\n",
       "\n",
       "    .dataframe tbody tr th {\n",
       "        vertical-align: top;\n",
       "    }\n",
       "\n",
       "    .dataframe thead th {\n",
       "        text-align: right;\n",
       "    }\n",
       "</style>\n",
       "<table border=\"1\" class=\"dataframe\">\n",
       "  <thead>\n",
       "    <tr style=\"text-align: right;\">\n",
       "      <th></th>\n",
       "      <th>book_id</th>\n",
       "      <th>title</th>\n",
       "      <th>avg_rating</th>\n",
       "      <th>count_reviews</th>\n",
       "    </tr>\n",
       "  </thead>\n",
       "  <tbody>\n",
       "    <tr>\n",
       "      <th>0</th>\n",
       "      <td>83</td>\n",
       "      <td>Anne Rice's The Vampire Lestat: A Graphic Novel</td>\n",
       "      <td>3.67</td>\n",
       "      <td>0</td>\n",
       "    </tr>\n",
       "    <tr>\n",
       "      <th>1</th>\n",
       "      <td>672</td>\n",
       "      <td>The Cat in the Hat and Other Dr. Seuss Favorites</td>\n",
       "      <td>5.00</td>\n",
       "      <td>0</td>\n",
       "    </tr>\n",
       "    <tr>\n",
       "      <th>2</th>\n",
       "      <td>221</td>\n",
       "      <td>Essential Tales and Poems</td>\n",
       "      <td>4.00</td>\n",
       "      <td>0</td>\n",
       "    </tr>\n",
       "    <tr>\n",
       "      <th>3</th>\n",
       "      <td>808</td>\n",
       "      <td>The Natural Way to Draw</td>\n",
       "      <td>3.00</td>\n",
       "      <td>0</td>\n",
       "    </tr>\n",
       "    <tr>\n",
       "      <th>4</th>\n",
       "      <td>191</td>\n",
       "      <td>Disney's Beauty and the Beast (A Little Golden...</td>\n",
       "      <td>4.00</td>\n",
       "      <td>0</td>\n",
       "    </tr>\n",
       "    <tr>\n",
       "      <th>...</th>\n",
       "      <td>...</td>\n",
       "      <td>...</td>\n",
       "      <td>...</td>\n",
       "      <td>...</td>\n",
       "    </tr>\n",
       "    <tr>\n",
       "      <th>995</th>\n",
       "      <td>733</td>\n",
       "      <td>The Giver (The Giver  #1)</td>\n",
       "      <td>3.75</td>\n",
       "      <td>6</td>\n",
       "    </tr>\n",
       "    <tr>\n",
       "      <th>996</th>\n",
       "      <td>854</td>\n",
       "      <td>The Road</td>\n",
       "      <td>3.77</td>\n",
       "      <td>6</td>\n",
       "    </tr>\n",
       "    <tr>\n",
       "      <th>997</th>\n",
       "      <td>695</td>\n",
       "      <td>The Curious Incident of the Dog in the Night-Time</td>\n",
       "      <td>4.08</td>\n",
       "      <td>6</td>\n",
       "    </tr>\n",
       "    <tr>\n",
       "      <th>998</th>\n",
       "      <td>696</td>\n",
       "      <td>The Da Vinci Code (Robert Langdon  #2)</td>\n",
       "      <td>3.83</td>\n",
       "      <td>6</td>\n",
       "    </tr>\n",
       "    <tr>\n",
       "      <th>999</th>\n",
       "      <td>948</td>\n",
       "      <td>Twilight (Twilight  #1)</td>\n",
       "      <td>3.66</td>\n",
       "      <td>7</td>\n",
       "    </tr>\n",
       "  </tbody>\n",
       "</table>\n",
       "<p>1000 rows × 4 columns</p>\n",
       "</div>"
      ],
      "text/plain": [
       "     book_id                                              title  avg_rating  \\\n",
       "0         83    Anne Rice's The Vampire Lestat: A Graphic Novel        3.67   \n",
       "1        672   The Cat in the Hat and Other Dr. Seuss Favorites        5.00   \n",
       "2        221                          Essential Tales and Poems        4.00   \n",
       "3        808                            The Natural Way to Draw        3.00   \n",
       "4        191  Disney's Beauty and the Beast (A Little Golden...        4.00   \n",
       "..       ...                                                ...         ...   \n",
       "995      733                          The Giver (The Giver  #1)        3.75   \n",
       "996      854                                           The Road        3.77   \n",
       "997      695  The Curious Incident of the Dog in the Night-Time        4.08   \n",
       "998      696             The Da Vinci Code (Robert Langdon  #2)        3.83   \n",
       "999      948                            Twilight (Twilight  #1)        3.66   \n",
       "\n",
       "     count_reviews  \n",
       "0                0  \n",
       "1                0  \n",
       "2                0  \n",
       "3                0  \n",
       "4                0  \n",
       "..             ...  \n",
       "995              6  \n",
       "996              6  \n",
       "997              6  \n",
       "998              6  \n",
       "999              7  \n",
       "\n",
       "[1000 rows x 4 columns]"
      ]
     },
     "execution_count": 12,
     "metadata": {},
     "output_type": "execute_result"
    }
   ],
   "source": [
    "sql('''\n",
    "\n",
    "    SELECT book_id,\n",
    "            title,\n",
    "            ROUND(AVG(rating),2) AS avg_rating,\n",
    "            COUNT(DISTINCT (review_id)) AS count_reviews\n",
    "    FROM books\n",
    "        LEFT JOIN ratings USING(book_id)\n",
    "        LEFT JOIN reviews USING(book_id)\n",
    "    GROUP BY book_id\n",
    "    ORDER BY 4\n",
    "''')"
   ]
  },
  {
   "cell_type": "markdown",
   "id": "9e8ccb00-6fea-493e-9262-5d15ef1bc04a",
   "metadata": {},
   "source": [
    "Вывод:<br>\n",
    "\n",
    "Встречаются книги без обзоров.<br>\n",
    "Достал данные, добавил новые столбцы: \n",
    "<ul>\n",
    "   <li> avg_rating - средний рейтинг книги\n",
    "       <li>count_reviews - количество обзоров.\n",
    "</ul>"
   ]
  },
  {
   "cell_type": "markdown",
   "id": "9beee1c4-ff5c-4f90-b148-322e51910dde",
   "metadata": {},
   "source": [
    "## Определите издательство, которое выпустило наибольшее число книг толще 50 страниц — так вы исключите из анализа брошюры;"
   ]
  },
  {
   "cell_type": "markdown",
   "id": "bbdf2047-476b-4417-b636-925a24ab7273",
   "metadata": {},
   "source": [
    "Условие в HAVING - при варианте, если окажется несколько издательств с одинаковым количеством выпущеных книг."
   ]
  },
  {
   "cell_type": "code",
   "execution_count": 13,
   "id": "d1265465-147b-4f6f-9faf-9eff789cab5d",
   "metadata": {},
   "outputs": [
    {
     "data": {
      "text/html": [
       "<div>\n",
       "<style scoped>\n",
       "    .dataframe tbody tr th:only-of-type {\n",
       "        vertical-align: middle;\n",
       "    }\n",
       "\n",
       "    .dataframe tbody tr th {\n",
       "        vertical-align: top;\n",
       "    }\n",
       "\n",
       "    .dataframe thead th {\n",
       "        text-align: right;\n",
       "    }\n",
       "</style>\n",
       "<table border=\"1\" class=\"dataframe\">\n",
       "  <thead>\n",
       "    <tr style=\"text-align: right;\">\n",
       "      <th></th>\n",
       "      <th>publisher</th>\n",
       "      <th>count_books</th>\n",
       "    </tr>\n",
       "  </thead>\n",
       "  <tbody>\n",
       "    <tr>\n",
       "      <th>0</th>\n",
       "      <td>Penguin Books</td>\n",
       "      <td>42</td>\n",
       "    </tr>\n",
       "  </tbody>\n",
       "</table>\n",
       "</div>"
      ],
      "text/plain": [
       "       publisher  count_books\n",
       "0  Penguin Books           42"
      ]
     },
     "execution_count": 13,
     "metadata": {},
     "output_type": "execute_result"
    }
   ],
   "source": [
    "sql('''\n",
    "    WITH id AS (\n",
    "        SELECT publisher_id,COUNT(book_id) AS count_books\n",
    "        FROM books\n",
    "        WHERE num_pages > 50\n",
    "        GROUP BY publisher_id\n",
    "        HAVING COUNT(book_id) = (\n",
    "                            SELECT COUNT(book_id)\n",
    "                            FROM books\n",
    "                            WHERE num_pages > 50\n",
    "                            GROUP BY publisher_id\n",
    "                            ORDER BY 1 DESC\n",
    "                            LIMIT 1\n",
    "                            )\n",
    ")\n",
    "    SELECT publisher,count_books\n",
    "    FROM id\n",
    "        INNER JOIN publishers USING (publisher_id)\n",
    "''')"
   ]
  },
  {
   "cell_type": "markdown",
   "id": "f65a0cab-073d-4c4e-9cd5-96c0c81dc6c1",
   "metadata": {},
   "source": [
    "Вывод:<br>\n",
    "\n",
    "Издательство *Penguin Books* выпустило наибольшее число книг толще 50 страниц."
   ]
  },
  {
   "cell_type": "markdown",
   "id": "04ae0637-50dd-4118-823f-1e4af8db38f7",
   "metadata": {},
   "source": [
    "## Определите автора с самой высокой средней оценкой книг — учитывайте только книги с 50 и более оценками;"
   ]
  },
  {
   "cell_type": "code",
   "execution_count": 14,
   "id": "9861afb8-57ad-4b30-95e6-070b6aed796e",
   "metadata": {},
   "outputs": [
    {
     "data": {
      "text/html": [
       "<div>\n",
       "<style scoped>\n",
       "    .dataframe tbody tr th:only-of-type {\n",
       "        vertical-align: middle;\n",
       "    }\n",
       "\n",
       "    .dataframe tbody tr th {\n",
       "        vertical-align: top;\n",
       "    }\n",
       "\n",
       "    .dataframe thead th {\n",
       "        text-align: right;\n",
       "    }\n",
       "</style>\n",
       "<table border=\"1\" class=\"dataframe\">\n",
       "  <thead>\n",
       "    <tr style=\"text-align: right;\">\n",
       "      <th></th>\n",
       "      <th>author</th>\n",
       "      <th>avg_rating</th>\n",
       "    </tr>\n",
       "  </thead>\n",
       "  <tbody>\n",
       "    <tr>\n",
       "      <th>0</th>\n",
       "      <td>J.K. Rowling/Mary GrandPré</td>\n",
       "      <td>4.29</td>\n",
       "    </tr>\n",
       "  </tbody>\n",
       "</table>\n",
       "</div>"
      ],
      "text/plain": [
       "                       author  avg_rating\n",
       "0  J.K. Rowling/Mary GrandPré        4.29"
      ]
     },
     "execution_count": 14,
     "metadata": {},
     "output_type": "execute_result"
    }
   ],
   "source": [
    "sql('''\n",
    "    SELECT author,ROUND(AVG(rating),2) AS avg_rating\n",
    "    FROM ratings\n",
    "        INNER JOIN books USING(book_id)\n",
    "        INNER JOIN authors USING(author_id)\n",
    "    WHERE book_id IN (\n",
    "                    SELECT book_id\n",
    "                    FROM ratings\n",
    "                    GROUP BY book_id\n",
    "                    HAVING COUNT(rating_id) >= 50 ) \n",
    "    GROUP BY author\n",
    "    ORDER BY AVG(rating) DESC\n",
    "    LIMIT 1\n",
    "''')"
   ]
  },
  {
   "cell_type": "markdown",
   "id": "14e40578-4475-45e0-8432-ef1690f4fa38",
   "metadata": {},
   "source": [
    "Вывод: <br>\n",
    "\n",
    "Самый популярный автор - дуэт J.K. Rowling и Mary GrandPré со средним рейтингом 4.29."
   ]
  },
  {
   "cell_type": "markdown",
   "id": "282b2c0d-d858-4360-821d-18d160bd6122",
   "metadata": {},
   "source": [
    "## Посчитайте среднее количество обзоров от пользователей, которые поставили больше 50 оценок."
   ]
  },
  {
   "cell_type": "code",
   "execution_count": 15,
   "id": "779a926a-6861-4aa6-a320-4d3858cc558d",
   "metadata": {},
   "outputs": [
    {
     "data": {
      "text/html": [
       "<div>\n",
       "<style scoped>\n",
       "    .dataframe tbody tr th:only-of-type {\n",
       "        vertical-align: middle;\n",
       "    }\n",
       "\n",
       "    .dataframe tbody tr th {\n",
       "        vertical-align: top;\n",
       "    }\n",
       "\n",
       "    .dataframe thead th {\n",
       "        text-align: right;\n",
       "    }\n",
       "</style>\n",
       "<table border=\"1\" class=\"dataframe\">\n",
       "  <thead>\n",
       "    <tr style=\"text-align: right;\">\n",
       "      <th></th>\n",
       "      <th>avg_reviews</th>\n",
       "    </tr>\n",
       "  </thead>\n",
       "  <tbody>\n",
       "    <tr>\n",
       "      <th>0</th>\n",
       "      <td>24.333333</td>\n",
       "    </tr>\n",
       "  </tbody>\n",
       "</table>\n",
       "</div>"
      ],
      "text/plain": [
       "   avg_reviews\n",
       "0    24.333333"
      ]
     },
     "execution_count": 15,
     "metadata": {},
     "output_type": "execute_result"
    }
   ],
   "source": [
    "sql('''\n",
    "SELECT (COUNT(DISTINCT review_id)::NUMERIC /  COUNT(DISTINCT username)) AS avg_reviews\n",
    "FROM (\n",
    "    SELECT username,COUNT(rating_id)\n",
    "    FROM ratings\n",
    "    GROUP BY username\n",
    "    HAVING COUNT(rating_id) > 50\n",
    "    ) AS subq \n",
    "        LEFT JOIN reviews USING(username)\n",
    "''')"
   ]
  },
  {
   "cell_type": "markdown",
   "id": "b8e0fcc1-2b5c-4bdd-964b-a66f5ac30d05",
   "metadata": {},
   "source": [
    "Вывод: \n",
    "\n",
    "Пользователи, которые поставили больше 50 оценок, в среднем пишут по 24 обзора."
   ]
  },
  {
   "cell_type": "markdown",
   "id": "15baddc8-36e6-421f-88f9-756693254756",
   "metadata": {},
   "source": [
    "# Вывод:\n",
    "<ol>\n",
    "    <li>Посчитайте, сколько книг вышло после 1 января 2000 года; </li>\n",
    "        \n",
    "        Всего 819 книг вышло после 1 января 2000 года\n",
    "\n",
    "    \n",
    "    \n",
    "   <li> Для каждой книги посчитайте количество обзоров и среднюю оценку.\n",
    "    \n",
    "        Были добавлены новые столбцы с количеством обзоров и средней оценкой.\n",
    "   </li>\n",
    "    <li>Определите издательство, которое выпустило наибольшее число книг толще 50 страниц — так вы исключите из анализа брошюры;¶\n",
    "        \n",
    "        Издательство Penguin Books выпустило наибольшее число книг толще 50 страниц.\n",
    "   <li>Определите автора с самой высокой средней оценкой книг — учитывайте только книги с 50 и более оценками;\n",
    "        \n",
    "        Самый популярный автор - дуэт J.K. Rowling и Mary GrandPré со средним рейтингом 4.29.\n",
    "   <li>Посчитайте среднее количество обзоров от пользователей, которые поставили больше 50 оценок.\n",
    "       \n",
    "       Пользователи, которые поставили больше 50 оценок, в среднем пишут по 24 обзора.\n",
    "        \n",
    "</ol>    \n",
    "\n",
    "В ходе работы я смог подключиться к БД, извлечь данные, составить простые запросы, ответить на поставленные вопросы."
   ]
  }
 ],
 "metadata": {
  "kernelspec": {
   "display_name": "Python 3 (ipykernel)",
   "language": "python",
   "name": "python3"
  },
  "language_info": {
   "codemirror_mode": {
    "name": "ipython",
    "version": 3
   },
   "file_extension": ".py",
   "mimetype": "text/x-python",
   "name": "python",
   "nbconvert_exporter": "python",
   "pygments_lexer": "ipython3",
   "version": "3.9.12"
  },
  "toc": {
   "base_numbering": 1,
   "nav_menu": {},
   "number_sections": true,
   "sideBar": true,
   "skip_h1_title": true,
   "title_cell": "Table of Contents",
   "title_sidebar": "Contents",
   "toc_cell": false,
   "toc_position": {},
   "toc_section_display": true,
   "toc_window_display": true
  }
 },
 "nbformat": 4,
 "nbformat_minor": 5
}
